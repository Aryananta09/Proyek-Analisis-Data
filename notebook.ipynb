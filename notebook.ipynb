{
 "cells": [
  {
   "cell_type": "markdown",
   "metadata": {
    "id": "H9wADwK78DCz"
   },
   "source": [
    "# Proyek Analisis Data: E-Commerce Public Dataset\n",
    "- **Nama:** Muhammad Awwal Aryananta\n",
    "- **Email:** awwaln4nt4@gmail.com\n",
    "- **ID Dicoding:** \tMC006D5Y1389"
   ]
  },
  {
   "cell_type": "markdown",
   "metadata": {
    "id": "eE0raob58DC0"
   },
   "source": [
    "## Menentukan Pertanyaan Bisnis"
   ]
  },
  {
   "cell_type": "markdown",
   "metadata": {
    "id": "GmQeQ5YF8DC0"
   },
   "source": [
    "- Bagaimana Tren Penjualan dan Pendapatan dari perusahaan E-Commerce ini?\n",
    "- Bagaimana segmentasi pelanggan yang ada di perusahaan E-Commerce ini?\n",
    "- Apa saja kategori produk yang paling diminati serta kategori produk yang jarang diminati pada E-Commerce ini?"
   ]
  },
  {
   "cell_type": "markdown",
   "metadata": {
    "id": "H-z4QGlO8DC1"
   },
   "source": [
    "## Import Semua Packages/Library yang Digunakan"
   ]
  },
  {
   "cell_type": "code",
   "execution_count": 102,
   "metadata": {
    "id": "FVYwaObI8DC1"
   },
   "outputs": [],
   "source": [
    "import numpy as np\n",
    "import pandas as pd\n",
    "import matplotlib.pyplot as plt\n",
    "import seaborn as sns"
   ]
  },
  {
   "cell_type": "markdown",
   "metadata": {
    "id": "i_BgVkcxkBPe"
   },
   "source": [
    "Library yang digunakan adalah numpy, pandas, matplotlib.pyplot, dan seaborn.\n",
    "- Numpy digunakan untuk operasi komputasi numerik, terutama dalam operasi array dan matriks.\n",
    "- Pandas digunakan untuk manipulasi dan analisis data berbasis tabel (DataFrame)\n",
    "- Matplotlib digunakan untuk visualisasi data dalam bentuk grafik atau plot.\n",
    "- Seaborn sama seperti matplotlib, digunakan untuk visualisasi data yang lebih estetis dan informatif\n"
   ]
  },
  {
   "cell_type": "markdown",
   "metadata": {
    "id": "h_Sh51Xy8DC1"
   },
   "source": [
    "## Data Wrangling"
   ]
  },
  {
   "cell_type": "markdown",
   "metadata": {
    "id": "sXU2GBYu8DC1"
   },
   "source": [
    "### Gathering Data"
   ]
  },
  {
   "cell_type": "markdown",
   "metadata": {
    "id": "QWE6ptXxkOj9"
   },
   "source": [
    "Memuat data customers (pelanggan) ke dalam dataframe"
   ]
  },
  {
   "cell_type": "code",
   "execution_count": 103,
   "metadata": {
    "colab": {
     "base_uri": "https://localhost:8080/",
     "height": 206
    },
    "id": "zjCBk1BI8DC1",
    "outputId": "76ec1a02-8df9-48fc-df9b-9f5a6006155c"
   },
   "outputs": [
    {
     "data": {
      "text/html": [
       "<div>\n",
       "<style scoped>\n",
       "    .dataframe tbody tr th:only-of-type {\n",
       "        vertical-align: middle;\n",
       "    }\n",
       "\n",
       "    .dataframe tbody tr th {\n",
       "        vertical-align: top;\n",
       "    }\n",
       "\n",
       "    .dataframe thead th {\n",
       "        text-align: right;\n",
       "    }\n",
       "</style>\n",
       "<table border=\"1\" class=\"dataframe\">\n",
       "  <thead>\n",
       "    <tr style=\"text-align: right;\">\n",
       "      <th></th>\n",
       "      <th>customer_id</th>\n",
       "      <th>customer_unique_id</th>\n",
       "      <th>customer_zip_code_prefix</th>\n",
       "      <th>customer_city</th>\n",
       "      <th>customer_state</th>\n",
       "    </tr>\n",
       "  </thead>\n",
       "  <tbody>\n",
       "    <tr>\n",
       "      <th>0</th>\n",
       "      <td>06b8999e2fba1a1fbc88172c00ba8bc7</td>\n",
       "      <td>861eff4711a542e4b93843c6dd7febb0</td>\n",
       "      <td>14409</td>\n",
       "      <td>franca</td>\n",
       "      <td>SP</td>\n",
       "    </tr>\n",
       "    <tr>\n",
       "      <th>1</th>\n",
       "      <td>18955e83d337fd6b2def6b18a428ac77</td>\n",
       "      <td>290c77bc529b7ac935b93aa66c333dc3</td>\n",
       "      <td>9790</td>\n",
       "      <td>sao bernardo do campo</td>\n",
       "      <td>SP</td>\n",
       "    </tr>\n",
       "    <tr>\n",
       "      <th>2</th>\n",
       "      <td>4e7b3e00288586ebd08712fdd0374a03</td>\n",
       "      <td>060e732b5b29e8181a18229c7b0b2b5e</td>\n",
       "      <td>1151</td>\n",
       "      <td>sao paulo</td>\n",
       "      <td>SP</td>\n",
       "    </tr>\n",
       "    <tr>\n",
       "      <th>3</th>\n",
       "      <td>b2b6027bc5c5109e529d4dc6358b12c3</td>\n",
       "      <td>259dac757896d24d7702b9acbbff3f3c</td>\n",
       "      <td>8775</td>\n",
       "      <td>mogi das cruzes</td>\n",
       "      <td>SP</td>\n",
       "    </tr>\n",
       "    <tr>\n",
       "      <th>4</th>\n",
       "      <td>4f2d8ab171c80ec8364f7c12e35b23ad</td>\n",
       "      <td>345ecd01c38d18a9036ed96c73b8d066</td>\n",
       "      <td>13056</td>\n",
       "      <td>campinas</td>\n",
       "      <td>SP</td>\n",
       "    </tr>\n",
       "  </tbody>\n",
       "</table>\n",
       "</div>"
      ],
      "text/plain": [
       "                        customer_id                customer_unique_id  \\\n",
       "0  06b8999e2fba1a1fbc88172c00ba8bc7  861eff4711a542e4b93843c6dd7febb0   \n",
       "1  18955e83d337fd6b2def6b18a428ac77  290c77bc529b7ac935b93aa66c333dc3   \n",
       "2  4e7b3e00288586ebd08712fdd0374a03  060e732b5b29e8181a18229c7b0b2b5e   \n",
       "3  b2b6027bc5c5109e529d4dc6358b12c3  259dac757896d24d7702b9acbbff3f3c   \n",
       "4  4f2d8ab171c80ec8364f7c12e35b23ad  345ecd01c38d18a9036ed96c73b8d066   \n",
       "\n",
       "   customer_zip_code_prefix          customer_city customer_state  \n",
       "0                     14409                 franca             SP  \n",
       "1                      9790  sao bernardo do campo             SP  \n",
       "2                      1151              sao paulo             SP  \n",
       "3                      8775        mogi das cruzes             SP  \n",
       "4                     13056               campinas             SP  "
      ]
     },
     "execution_count": 103,
     "metadata": {},
     "output_type": "execute_result"
    }
   ],
   "source": [
    "customers_df = pd.read_csv(\"data/customers_dataset.csv\", delimiter=\",\")\n",
    "customers_df.head()"
   ]
  },
  {
   "cell_type": "markdown",
   "metadata": {
    "id": "ba6Q_jWZkfiE"
   },
   "source": [
    "Memuat data orders (pesanan) ke dalam dataframe"
   ]
  },
  {
   "cell_type": "code",
   "execution_count": 104,
   "metadata": {
    "colab": {
     "base_uri": "https://localhost:8080/",
     "height": 226
    },
    "id": "jKdLMJOkPIAH",
    "outputId": "a1aeedc0-1335-4d1b-fcc8-05ad733d45bb"
   },
   "outputs": [
    {
     "data": {
      "text/html": [
       "<div>\n",
       "<style scoped>\n",
       "    .dataframe tbody tr th:only-of-type {\n",
       "        vertical-align: middle;\n",
       "    }\n",
       "\n",
       "    .dataframe tbody tr th {\n",
       "        vertical-align: top;\n",
       "    }\n",
       "\n",
       "    .dataframe thead th {\n",
       "        text-align: right;\n",
       "    }\n",
       "</style>\n",
       "<table border=\"1\" class=\"dataframe\">\n",
       "  <thead>\n",
       "    <tr style=\"text-align: right;\">\n",
       "      <th></th>\n",
       "      <th>order_id</th>\n",
       "      <th>customer_id</th>\n",
       "      <th>order_status</th>\n",
       "      <th>order_purchase_timestamp</th>\n",
       "      <th>order_approved_at</th>\n",
       "      <th>order_delivered_carrier_date</th>\n",
       "      <th>order_delivered_customer_date</th>\n",
       "      <th>order_estimated_delivery_date</th>\n",
       "    </tr>\n",
       "  </thead>\n",
       "  <tbody>\n",
       "    <tr>\n",
       "      <th>0</th>\n",
       "      <td>e481f51cbdc54678b7cc49136f2d6af7</td>\n",
       "      <td>9ef432eb6251297304e76186b10a928d</td>\n",
       "      <td>delivered</td>\n",
       "      <td>2017-10-02 10:56:33</td>\n",
       "      <td>2017-10-02 11:07:15</td>\n",
       "      <td>2017-10-04 19:55:00</td>\n",
       "      <td>2017-10-10 21:25:13</td>\n",
       "      <td>2017-10-18 00:00:00</td>\n",
       "    </tr>\n",
       "    <tr>\n",
       "      <th>1</th>\n",
       "      <td>53cdb2fc8bc7dce0b6741e2150273451</td>\n",
       "      <td>b0830fb4747a6c6d20dea0b8c802d7ef</td>\n",
       "      <td>delivered</td>\n",
       "      <td>2018-07-24 20:41:37</td>\n",
       "      <td>2018-07-26 03:24:27</td>\n",
       "      <td>2018-07-26 14:31:00</td>\n",
       "      <td>2018-08-07 15:27:45</td>\n",
       "      <td>2018-08-13 00:00:00</td>\n",
       "    </tr>\n",
       "    <tr>\n",
       "      <th>2</th>\n",
       "      <td>47770eb9100c2d0c44946d9cf07ec65d</td>\n",
       "      <td>41ce2a54c0b03bf3443c3d931a367089</td>\n",
       "      <td>delivered</td>\n",
       "      <td>2018-08-08 08:38:49</td>\n",
       "      <td>2018-08-08 08:55:23</td>\n",
       "      <td>2018-08-08 13:50:00</td>\n",
       "      <td>2018-08-17 18:06:29</td>\n",
       "      <td>2018-09-04 00:00:00</td>\n",
       "    </tr>\n",
       "    <tr>\n",
       "      <th>3</th>\n",
       "      <td>949d5b44dbf5de918fe9c16f97b45f8a</td>\n",
       "      <td>f88197465ea7920adcdbec7375364d82</td>\n",
       "      <td>delivered</td>\n",
       "      <td>2017-11-18 19:28:06</td>\n",
       "      <td>2017-11-18 19:45:59</td>\n",
       "      <td>2017-11-22 13:39:59</td>\n",
       "      <td>2017-12-02 00:28:42</td>\n",
       "      <td>2017-12-15 00:00:00</td>\n",
       "    </tr>\n",
       "    <tr>\n",
       "      <th>4</th>\n",
       "      <td>ad21c59c0840e6cb83a9ceb5573f8159</td>\n",
       "      <td>8ab97904e6daea8866dbdbc4fb7aad2c</td>\n",
       "      <td>delivered</td>\n",
       "      <td>2018-02-13 21:18:39</td>\n",
       "      <td>2018-02-13 22:20:29</td>\n",
       "      <td>2018-02-14 19:46:34</td>\n",
       "      <td>2018-02-16 18:17:02</td>\n",
       "      <td>2018-02-26 00:00:00</td>\n",
       "    </tr>\n",
       "  </tbody>\n",
       "</table>\n",
       "</div>"
      ],
      "text/plain": [
       "                           order_id                       customer_id  \\\n",
       "0  e481f51cbdc54678b7cc49136f2d6af7  9ef432eb6251297304e76186b10a928d   \n",
       "1  53cdb2fc8bc7dce0b6741e2150273451  b0830fb4747a6c6d20dea0b8c802d7ef   \n",
       "2  47770eb9100c2d0c44946d9cf07ec65d  41ce2a54c0b03bf3443c3d931a367089   \n",
       "3  949d5b44dbf5de918fe9c16f97b45f8a  f88197465ea7920adcdbec7375364d82   \n",
       "4  ad21c59c0840e6cb83a9ceb5573f8159  8ab97904e6daea8866dbdbc4fb7aad2c   \n",
       "\n",
       "  order_status order_purchase_timestamp    order_approved_at  \\\n",
       "0    delivered      2017-10-02 10:56:33  2017-10-02 11:07:15   \n",
       "1    delivered      2018-07-24 20:41:37  2018-07-26 03:24:27   \n",
       "2    delivered      2018-08-08 08:38:49  2018-08-08 08:55:23   \n",
       "3    delivered      2017-11-18 19:28:06  2017-11-18 19:45:59   \n",
       "4    delivered      2018-02-13 21:18:39  2018-02-13 22:20:29   \n",
       "\n",
       "  order_delivered_carrier_date order_delivered_customer_date  \\\n",
       "0          2017-10-04 19:55:00           2017-10-10 21:25:13   \n",
       "1          2018-07-26 14:31:00           2018-08-07 15:27:45   \n",
       "2          2018-08-08 13:50:00           2018-08-17 18:06:29   \n",
       "3          2017-11-22 13:39:59           2017-12-02 00:28:42   \n",
       "4          2018-02-14 19:46:34           2018-02-16 18:17:02   \n",
       "\n",
       "  order_estimated_delivery_date  \n",
       "0           2017-10-18 00:00:00  \n",
       "1           2018-08-13 00:00:00  \n",
       "2           2018-09-04 00:00:00  \n",
       "3           2017-12-15 00:00:00  \n",
       "4           2018-02-26 00:00:00  "
      ]
     },
     "execution_count": 104,
     "metadata": {},
     "output_type": "execute_result"
    }
   ],
   "source": [
    "orders_df = pd.read_csv(\"data/orders_dataset.csv\", delimiter=\",\")\n",
    "orders_df.head()"
   ]
  },
  {
   "cell_type": "markdown",
   "metadata": {
    "id": "zLK454FipncK"
   },
   "source": [
    "Memuat data payments (pembayaran) ke dalam dataframe"
   ]
  },
  {
   "cell_type": "code",
   "execution_count": 105,
   "metadata": {
    "colab": {
     "base_uri": "https://localhost:8080/",
     "height": 206
    },
    "id": "6MmvLkRDPtZW",
    "outputId": "f0910e0b-8111-468b-bedc-c7db8684d7fb"
   },
   "outputs": [
    {
     "data": {
      "text/html": [
       "<div>\n",
       "<style scoped>\n",
       "    .dataframe tbody tr th:only-of-type {\n",
       "        vertical-align: middle;\n",
       "    }\n",
       "\n",
       "    .dataframe tbody tr th {\n",
       "        vertical-align: top;\n",
       "    }\n",
       "\n",
       "    .dataframe thead th {\n",
       "        text-align: right;\n",
       "    }\n",
       "</style>\n",
       "<table border=\"1\" class=\"dataframe\">\n",
       "  <thead>\n",
       "    <tr style=\"text-align: right;\">\n",
       "      <th></th>\n",
       "      <th>order_id</th>\n",
       "      <th>payment_sequential</th>\n",
       "      <th>payment_type</th>\n",
       "      <th>payment_installments</th>\n",
       "      <th>payment_value</th>\n",
       "    </tr>\n",
       "  </thead>\n",
       "  <tbody>\n",
       "    <tr>\n",
       "      <th>0</th>\n",
       "      <td>b81ef226f3fe1789b1e8b2acac839d17</td>\n",
       "      <td>1</td>\n",
       "      <td>credit_card</td>\n",
       "      <td>8</td>\n",
       "      <td>99.33</td>\n",
       "    </tr>\n",
       "    <tr>\n",
       "      <th>1</th>\n",
       "      <td>a9810da82917af2d9aefd1278f1dcfa0</td>\n",
       "      <td>1</td>\n",
       "      <td>credit_card</td>\n",
       "      <td>1</td>\n",
       "      <td>24.39</td>\n",
       "    </tr>\n",
       "    <tr>\n",
       "      <th>2</th>\n",
       "      <td>25e8ea4e93396b6fa0d3dd708e76c1bd</td>\n",
       "      <td>1</td>\n",
       "      <td>credit_card</td>\n",
       "      <td>1</td>\n",
       "      <td>65.71</td>\n",
       "    </tr>\n",
       "    <tr>\n",
       "      <th>3</th>\n",
       "      <td>ba78997921bbcdc1373bb41e913ab953</td>\n",
       "      <td>1</td>\n",
       "      <td>credit_card</td>\n",
       "      <td>8</td>\n",
       "      <td>107.78</td>\n",
       "    </tr>\n",
       "    <tr>\n",
       "      <th>4</th>\n",
       "      <td>42fdf880ba16b47b59251dd489d4441a</td>\n",
       "      <td>1</td>\n",
       "      <td>credit_card</td>\n",
       "      <td>2</td>\n",
       "      <td>128.45</td>\n",
       "    </tr>\n",
       "  </tbody>\n",
       "</table>\n",
       "</div>"
      ],
      "text/plain": [
       "                           order_id  payment_sequential payment_type  \\\n",
       "0  b81ef226f3fe1789b1e8b2acac839d17                   1  credit_card   \n",
       "1  a9810da82917af2d9aefd1278f1dcfa0                   1  credit_card   \n",
       "2  25e8ea4e93396b6fa0d3dd708e76c1bd                   1  credit_card   \n",
       "3  ba78997921bbcdc1373bb41e913ab953                   1  credit_card   \n",
       "4  42fdf880ba16b47b59251dd489d4441a                   1  credit_card   \n",
       "\n",
       "   payment_installments  payment_value  \n",
       "0                     8          99.33  \n",
       "1                     1          24.39  \n",
       "2                     1          65.71  \n",
       "3                     8         107.78  \n",
       "4                     2         128.45  "
      ]
     },
     "execution_count": 105,
     "metadata": {},
     "output_type": "execute_result"
    }
   ],
   "source": [
    "payments_df = pd.read_csv(\"data/order_payments_dataset.csv\", delimiter=\",\")\n",
    "payments_df.head()"
   ]
  },
  {
   "cell_type": "markdown",
   "metadata": {
    "id": "LROIEKKXkqK9"
   },
   "source": [
    "Memuat data products ke dalam dataframe"
   ]
  },
  {
   "cell_type": "code",
   "execution_count": 106,
   "metadata": {
    "colab": {
     "base_uri": "https://localhost:8080/",
     "height": 226
    },
    "id": "3XKfQDjCeNLF",
    "outputId": "74b3c8b7-8014-44f0-dee0-0967639cb7e3"
   },
   "outputs": [
    {
     "data": {
      "text/html": [
       "<div>\n",
       "<style scoped>\n",
       "    .dataframe tbody tr th:only-of-type {\n",
       "        vertical-align: middle;\n",
       "    }\n",
       "\n",
       "    .dataframe tbody tr th {\n",
       "        vertical-align: top;\n",
       "    }\n",
       "\n",
       "    .dataframe thead th {\n",
       "        text-align: right;\n",
       "    }\n",
       "</style>\n",
       "<table border=\"1\" class=\"dataframe\">\n",
       "  <thead>\n",
       "    <tr style=\"text-align: right;\">\n",
       "      <th></th>\n",
       "      <th>product_id</th>\n",
       "      <th>product_category_name</th>\n",
       "      <th>product_name_lenght</th>\n",
       "      <th>product_description_lenght</th>\n",
       "      <th>product_photos_qty</th>\n",
       "      <th>product_weight_g</th>\n",
       "      <th>product_length_cm</th>\n",
       "      <th>product_height_cm</th>\n",
       "      <th>product_width_cm</th>\n",
       "    </tr>\n",
       "  </thead>\n",
       "  <tbody>\n",
       "    <tr>\n",
       "      <th>0</th>\n",
       "      <td>1e9e8ef04dbcff4541ed26657ea517e5</td>\n",
       "      <td>perfumaria</td>\n",
       "      <td>40.0</td>\n",
       "      <td>287.0</td>\n",
       "      <td>1.0</td>\n",
       "      <td>225.0</td>\n",
       "      <td>16.0</td>\n",
       "      <td>10.0</td>\n",
       "      <td>14.0</td>\n",
       "    </tr>\n",
       "    <tr>\n",
       "      <th>1</th>\n",
       "      <td>3aa071139cb16b67ca9e5dea641aaa2f</td>\n",
       "      <td>artes</td>\n",
       "      <td>44.0</td>\n",
       "      <td>276.0</td>\n",
       "      <td>1.0</td>\n",
       "      <td>1000.0</td>\n",
       "      <td>30.0</td>\n",
       "      <td>18.0</td>\n",
       "      <td>20.0</td>\n",
       "    </tr>\n",
       "    <tr>\n",
       "      <th>2</th>\n",
       "      <td>96bd76ec8810374ed1b65e291975717f</td>\n",
       "      <td>esporte_lazer</td>\n",
       "      <td>46.0</td>\n",
       "      <td>250.0</td>\n",
       "      <td>1.0</td>\n",
       "      <td>154.0</td>\n",
       "      <td>18.0</td>\n",
       "      <td>9.0</td>\n",
       "      <td>15.0</td>\n",
       "    </tr>\n",
       "    <tr>\n",
       "      <th>3</th>\n",
       "      <td>cef67bcfe19066a932b7673e239eb23d</td>\n",
       "      <td>bebes</td>\n",
       "      <td>27.0</td>\n",
       "      <td>261.0</td>\n",
       "      <td>1.0</td>\n",
       "      <td>371.0</td>\n",
       "      <td>26.0</td>\n",
       "      <td>4.0</td>\n",
       "      <td>26.0</td>\n",
       "    </tr>\n",
       "    <tr>\n",
       "      <th>4</th>\n",
       "      <td>9dc1a7de274444849c219cff195d0b71</td>\n",
       "      <td>utilidades_domesticas</td>\n",
       "      <td>37.0</td>\n",
       "      <td>402.0</td>\n",
       "      <td>4.0</td>\n",
       "      <td>625.0</td>\n",
       "      <td>20.0</td>\n",
       "      <td>17.0</td>\n",
       "      <td>13.0</td>\n",
       "    </tr>\n",
       "  </tbody>\n",
       "</table>\n",
       "</div>"
      ],
      "text/plain": [
       "                         product_id  product_category_name  \\\n",
       "0  1e9e8ef04dbcff4541ed26657ea517e5             perfumaria   \n",
       "1  3aa071139cb16b67ca9e5dea641aaa2f                  artes   \n",
       "2  96bd76ec8810374ed1b65e291975717f          esporte_lazer   \n",
       "3  cef67bcfe19066a932b7673e239eb23d                  bebes   \n",
       "4  9dc1a7de274444849c219cff195d0b71  utilidades_domesticas   \n",
       "\n",
       "   product_name_lenght  product_description_lenght  product_photos_qty  \\\n",
       "0                 40.0                       287.0                 1.0   \n",
       "1                 44.0                       276.0                 1.0   \n",
       "2                 46.0                       250.0                 1.0   \n",
       "3                 27.0                       261.0                 1.0   \n",
       "4                 37.0                       402.0                 4.0   \n",
       "\n",
       "   product_weight_g  product_length_cm  product_height_cm  product_width_cm  \n",
       "0             225.0               16.0               10.0              14.0  \n",
       "1            1000.0               30.0               18.0              20.0  \n",
       "2             154.0               18.0                9.0              15.0  \n",
       "3             371.0               26.0                4.0              26.0  \n",
       "4             625.0               20.0               17.0              13.0  "
      ]
     },
     "execution_count": 106,
     "metadata": {},
     "output_type": "execute_result"
    }
   ],
   "source": [
    "products_df = pd.read_csv(\"data/products_dataset.csv\")\n",
    "products_df.head()"
   ]
  },
  {
   "cell_type": "markdown",
   "metadata": {
    "id": "gfxcjKPGksbk"
   },
   "source": [
    "Memuat data ordered products (produk yang dipesan) ke dalam dataframe"
   ]
  },
  {
   "cell_type": "code",
   "execution_count": 107,
   "metadata": {
    "colab": {
     "base_uri": "https://localhost:8080/",
     "height": 226
    },
    "id": "B67TFXLSfWA-",
    "outputId": "99bb5353-25a9-4198-c6c3-c5fca6cd8ee8"
   },
   "outputs": [
    {
     "data": {
      "text/html": [
       "<div>\n",
       "<style scoped>\n",
       "    .dataframe tbody tr th:only-of-type {\n",
       "        vertical-align: middle;\n",
       "    }\n",
       "\n",
       "    .dataframe tbody tr th {\n",
       "        vertical-align: top;\n",
       "    }\n",
       "\n",
       "    .dataframe thead th {\n",
       "        text-align: right;\n",
       "    }\n",
       "</style>\n",
       "<table border=\"1\" class=\"dataframe\">\n",
       "  <thead>\n",
       "    <tr style=\"text-align: right;\">\n",
       "      <th></th>\n",
       "      <th>order_id</th>\n",
       "      <th>order_item_id</th>\n",
       "      <th>product_id</th>\n",
       "      <th>seller_id</th>\n",
       "      <th>shipping_limit_date</th>\n",
       "      <th>price</th>\n",
       "      <th>freight_value</th>\n",
       "    </tr>\n",
       "  </thead>\n",
       "  <tbody>\n",
       "    <tr>\n",
       "      <th>0</th>\n",
       "      <td>00010242fe8c5a6d1ba2dd792cb16214</td>\n",
       "      <td>1</td>\n",
       "      <td>4244733e06e7ecb4970a6e2683c13e61</td>\n",
       "      <td>48436dade18ac8b2bce089ec2a041202</td>\n",
       "      <td>2017-09-19 09:45:35</td>\n",
       "      <td>58.90</td>\n",
       "      <td>13.29</td>\n",
       "    </tr>\n",
       "    <tr>\n",
       "      <th>1</th>\n",
       "      <td>00018f77f2f0320c557190d7a144bdd3</td>\n",
       "      <td>1</td>\n",
       "      <td>e5f2d52b802189ee658865ca93d83a8f</td>\n",
       "      <td>dd7ddc04e1b6c2c614352b383efe2d36</td>\n",
       "      <td>2017-05-03 11:05:13</td>\n",
       "      <td>239.90</td>\n",
       "      <td>19.93</td>\n",
       "    </tr>\n",
       "    <tr>\n",
       "      <th>2</th>\n",
       "      <td>000229ec398224ef6ca0657da4fc703e</td>\n",
       "      <td>1</td>\n",
       "      <td>c777355d18b72b67abbeef9df44fd0fd</td>\n",
       "      <td>5b51032eddd242adc84c38acab88f23d</td>\n",
       "      <td>2018-01-18 14:48:30</td>\n",
       "      <td>199.00</td>\n",
       "      <td>17.87</td>\n",
       "    </tr>\n",
       "    <tr>\n",
       "      <th>3</th>\n",
       "      <td>00024acbcdf0a6daa1e931b038114c75</td>\n",
       "      <td>1</td>\n",
       "      <td>7634da152a4610f1595efa32f14722fc</td>\n",
       "      <td>9d7a1d34a5052409006425275ba1c2b4</td>\n",
       "      <td>2018-08-15 10:10:18</td>\n",
       "      <td>12.99</td>\n",
       "      <td>12.79</td>\n",
       "    </tr>\n",
       "    <tr>\n",
       "      <th>4</th>\n",
       "      <td>00042b26cf59d7ce69dfabb4e55b4fd9</td>\n",
       "      <td>1</td>\n",
       "      <td>ac6c3623068f30de03045865e4e10089</td>\n",
       "      <td>df560393f3a51e74553ab94004ba5c87</td>\n",
       "      <td>2017-02-13 13:57:51</td>\n",
       "      <td>199.90</td>\n",
       "      <td>18.14</td>\n",
       "    </tr>\n",
       "  </tbody>\n",
       "</table>\n",
       "</div>"
      ],
      "text/plain": [
       "                           order_id  order_item_id  \\\n",
       "0  00010242fe8c5a6d1ba2dd792cb16214              1   \n",
       "1  00018f77f2f0320c557190d7a144bdd3              1   \n",
       "2  000229ec398224ef6ca0657da4fc703e              1   \n",
       "3  00024acbcdf0a6daa1e931b038114c75              1   \n",
       "4  00042b26cf59d7ce69dfabb4e55b4fd9              1   \n",
       "\n",
       "                         product_id                         seller_id  \\\n",
       "0  4244733e06e7ecb4970a6e2683c13e61  48436dade18ac8b2bce089ec2a041202   \n",
       "1  e5f2d52b802189ee658865ca93d83a8f  dd7ddc04e1b6c2c614352b383efe2d36   \n",
       "2  c777355d18b72b67abbeef9df44fd0fd  5b51032eddd242adc84c38acab88f23d   \n",
       "3  7634da152a4610f1595efa32f14722fc  9d7a1d34a5052409006425275ba1c2b4   \n",
       "4  ac6c3623068f30de03045865e4e10089  df560393f3a51e74553ab94004ba5c87   \n",
       "\n",
       "   shipping_limit_date   price  freight_value  \n",
       "0  2017-09-19 09:45:35   58.90          13.29  \n",
       "1  2017-05-03 11:05:13  239.90          19.93  \n",
       "2  2018-01-18 14:48:30  199.00          17.87  \n",
       "3  2018-08-15 10:10:18   12.99          12.79  \n",
       "4  2017-02-13 13:57:51  199.90          18.14  "
      ]
     },
     "execution_count": 107,
     "metadata": {},
     "output_type": "execute_result"
    }
   ],
   "source": [
    "ordered_products_df = pd.read_csv(\"data/order_items_dataset.csv\")\n",
    "ordered_products_df.head()"
   ]
  },
  {
   "cell_type": "markdown",
   "metadata": {
    "id": "vSsRk4tOkyY9"
   },
   "source": [
    "Memuat product translate (Terjemahan Kategori Produk) ke dalam dataframe"
   ]
  },
  {
   "cell_type": "code",
   "execution_count": 108,
   "metadata": {
    "colab": {
     "base_uri": "https://localhost:8080/",
     "height": 206
    },
    "id": "YPN_hBiQfxY-",
    "outputId": "1a9e7594-78ba-4a04-9320-3509f3a452f5"
   },
   "outputs": [
    {
     "data": {
      "text/html": [
       "<div>\n",
       "<style scoped>\n",
       "    .dataframe tbody tr th:only-of-type {\n",
       "        vertical-align: middle;\n",
       "    }\n",
       "\n",
       "    .dataframe tbody tr th {\n",
       "        vertical-align: top;\n",
       "    }\n",
       "\n",
       "    .dataframe thead th {\n",
       "        text-align: right;\n",
       "    }\n",
       "</style>\n",
       "<table border=\"1\" class=\"dataframe\">\n",
       "  <thead>\n",
       "    <tr style=\"text-align: right;\">\n",
       "      <th></th>\n",
       "      <th>product_category_name</th>\n",
       "      <th>product_category_name_english</th>\n",
       "    </tr>\n",
       "  </thead>\n",
       "  <tbody>\n",
       "    <tr>\n",
       "      <th>0</th>\n",
       "      <td>beleza_saude</td>\n",
       "      <td>health_beauty</td>\n",
       "    </tr>\n",
       "    <tr>\n",
       "      <th>1</th>\n",
       "      <td>informatica_acessorios</td>\n",
       "      <td>computers_accessories</td>\n",
       "    </tr>\n",
       "    <tr>\n",
       "      <th>2</th>\n",
       "      <td>automotivo</td>\n",
       "      <td>auto</td>\n",
       "    </tr>\n",
       "    <tr>\n",
       "      <th>3</th>\n",
       "      <td>cama_mesa_banho</td>\n",
       "      <td>bed_bath_table</td>\n",
       "    </tr>\n",
       "    <tr>\n",
       "      <th>4</th>\n",
       "      <td>moveis_decoracao</td>\n",
       "      <td>furniture_decor</td>\n",
       "    </tr>\n",
       "  </tbody>\n",
       "</table>\n",
       "</div>"
      ],
      "text/plain": [
       "    product_category_name product_category_name_english\n",
       "0            beleza_saude                 health_beauty\n",
       "1  informatica_acessorios         computers_accessories\n",
       "2              automotivo                          auto\n",
       "3         cama_mesa_banho                bed_bath_table\n",
       "4        moveis_decoracao               furniture_decor"
      ]
     },
     "execution_count": 108,
     "metadata": {},
     "output_type": "execute_result"
    }
   ],
   "source": [
    "product_translate_df = pd.read_csv(\"data/product_category_name_translation.csv\")\n",
    "product_translate_df.head()"
   ]
  },
  {
   "cell_type": "markdown",
   "metadata": {
    "id": "MMi6xGaDkbCi"
   },
   "source": [
    "**Insight:**\n",
    "- Dari seluruh dataset yang ada dalam E-commerce ini, saya merasa bahwa untuk menjawab pertanyaan bisnis yang sudah didefinisikan sebelumnya hanya perlu menggunakan 6 dataset saja, yakni customers,order_items, order_payments, orders, products, dan product_category_name_translation (Terjemahan nama kategori yang lebih dipahami).\n",
    "\n",
    "- Dataset product_category_name_translation perlu dimasukkan karena saya lihat nama dari kategori produk dalam bahasa yang agak asing dan nantinya akan susah menjelaskan jika masih menggunakan nama kategori aslinya.\n",
    "\n",
    "- Sebenarnya, sebelumnya saya juga ingin memasukkan dataset geolocation untuk menjawab segmentasi pelanggan berdasarkan demografi, namun saya rasa informasi city(kota) dan state sudah ada dalam dataset customers, jadi saya rasa tidak perlu dimasukkan dalam proses analisis data."
   ]
  },
  {
   "cell_type": "markdown",
   "metadata": {
    "id": "FHSiqaZp8DC1"
   },
   "source": [
    "### Assessing Data"
   ]
  },
  {
   "cell_type": "markdown",
   "metadata": {
    "id": "tZ8MSzV2lpfU"
   },
   "source": [
    "#### Menilai data customers"
   ]
  },
  {
   "cell_type": "code",
   "execution_count": 109,
   "metadata": {
    "colab": {
     "base_uri": "https://localhost:8080/"
    },
    "id": "ax-3tEjc9Cj1",
    "outputId": "81dfabb4-7d52-4de1-cf38-f9d2aa0bc65c"
   },
   "outputs": [
    {
     "name": "stdout",
     "output_type": "stream",
     "text": [
      "<class 'pandas.core.frame.DataFrame'>\n",
      "RangeIndex: 99441 entries, 0 to 99440\n",
      "Data columns (total 5 columns):\n",
      " #   Column                    Non-Null Count  Dtype \n",
      "---  ------                    --------------  ----- \n",
      " 0   customer_id               99441 non-null  object\n",
      " 1   customer_unique_id        99441 non-null  object\n",
      " 2   customer_zip_code_prefix  99441 non-null  int64 \n",
      " 3   customer_city             99441 non-null  object\n",
      " 4   customer_state            99441 non-null  object\n",
      "dtypes: int64(1), object(4)\n",
      "memory usage: 3.8+ MB\n"
     ]
    }
   ],
   "source": [
    "#Mengecek tipe data tiap kolom, dan bila ada missing value dari masing-masing kolom di dataframe customers.\n",
    "customers_df.info()"
   ]
  },
  {
   "cell_type": "code",
   "execution_count": 110,
   "metadata": {
    "colab": {
     "base_uri": "https://localhost:8080/"
    },
    "id": "QkPgHX1hlWNU",
    "outputId": "3f392b60-74cb-4cb7-a1d7-03a30e3b1f34"
   },
   "outputs": [
    {
     "name": "stdout",
     "output_type": "stream",
     "text": [
      "Jumlah duplikasi:  0\n"
     ]
    }
   ],
   "source": [
    "#Mengecek jumlah data yang duplikat\n",
    "print(\"Jumlah duplikasi: \" , customers_df.duplicated().sum())"
   ]
  },
  {
   "cell_type": "code",
   "execution_count": 111,
   "metadata": {
    "colab": {
     "base_uri": "https://localhost:8080/",
     "height": 300
    },
    "id": "aiOimLr6l2ss",
    "outputId": "125caf3f-5cfb-4c14-825d-dad4253ae5a6"
   },
   "outputs": [
    {
     "data": {
      "text/html": [
       "<div>\n",
       "<style scoped>\n",
       "    .dataframe tbody tr th:only-of-type {\n",
       "        vertical-align: middle;\n",
       "    }\n",
       "\n",
       "    .dataframe tbody tr th {\n",
       "        vertical-align: top;\n",
       "    }\n",
       "\n",
       "    .dataframe thead th {\n",
       "        text-align: right;\n",
       "    }\n",
       "</style>\n",
       "<table border=\"1\" class=\"dataframe\">\n",
       "  <thead>\n",
       "    <tr style=\"text-align: right;\">\n",
       "      <th></th>\n",
       "      <th>customer_zip_code_prefix</th>\n",
       "    </tr>\n",
       "  </thead>\n",
       "  <tbody>\n",
       "    <tr>\n",
       "      <th>count</th>\n",
       "      <td>99441.000000</td>\n",
       "    </tr>\n",
       "    <tr>\n",
       "      <th>mean</th>\n",
       "      <td>35137.474583</td>\n",
       "    </tr>\n",
       "    <tr>\n",
       "      <th>std</th>\n",
       "      <td>29797.938996</td>\n",
       "    </tr>\n",
       "    <tr>\n",
       "      <th>min</th>\n",
       "      <td>1003.000000</td>\n",
       "    </tr>\n",
       "    <tr>\n",
       "      <th>25%</th>\n",
       "      <td>11347.000000</td>\n",
       "    </tr>\n",
       "    <tr>\n",
       "      <th>50%</th>\n",
       "      <td>24416.000000</td>\n",
       "    </tr>\n",
       "    <tr>\n",
       "      <th>75%</th>\n",
       "      <td>58900.000000</td>\n",
       "    </tr>\n",
       "    <tr>\n",
       "      <th>max</th>\n",
       "      <td>99990.000000</td>\n",
       "    </tr>\n",
       "  </tbody>\n",
       "</table>\n",
       "</div>"
      ],
      "text/plain": [
       "       customer_zip_code_prefix\n",
       "count              99441.000000\n",
       "mean               35137.474583\n",
       "std                29797.938996\n",
       "min                 1003.000000\n",
       "25%                11347.000000\n",
       "50%                24416.000000\n",
       "75%                58900.000000\n",
       "max                99990.000000"
      ]
     },
     "execution_count": 111,
     "metadata": {},
     "output_type": "execute_result"
    }
   ],
   "source": [
    "#Memeriksa parameter statistik\n",
    "customers_df.describe()"
   ]
  },
  {
   "cell_type": "markdown",
   "metadata": {
    "id": "7dtxhAPrkhPL"
   },
   "source": [
    "**Insight:**\n",
    "- Tipe data dari setiap kolom yang ada di dataframe customers sudah sesuai semua, tidak perlu disesuaikan lagi.\n",
    "- Tidak ada missing value dan tidak ada duplikasi data dari dataframe customers ini.\n",
    "- Saya rasa tidak perlu dilakukan pembersihan data karena tidak terdapat masalah pada dataframe customers ini."
   ]
  },
  {
   "cell_type": "markdown",
   "metadata": {
    "id": "n50noxK8mvlr"
   },
   "source": [
    "#### Menilai data orders"
   ]
  },
  {
   "cell_type": "code",
   "execution_count": 112,
   "metadata": {
    "colab": {
     "base_uri": "https://localhost:8080/"
    },
    "id": "0McbcF7pmt9U",
    "outputId": "0ac6c689-3024-48b8-f0aa-50a58bd46526"
   },
   "outputs": [
    {
     "name": "stdout",
     "output_type": "stream",
     "text": [
      "<class 'pandas.core.frame.DataFrame'>\n",
      "RangeIndex: 99441 entries, 0 to 99440\n",
      "Data columns (total 8 columns):\n",
      " #   Column                         Non-Null Count  Dtype \n",
      "---  ------                         --------------  ----- \n",
      " 0   order_id                       99441 non-null  object\n",
      " 1   customer_id                    99441 non-null  object\n",
      " 2   order_status                   99441 non-null  object\n",
      " 3   order_purchase_timestamp       99441 non-null  object\n",
      " 4   order_approved_at              99281 non-null  object\n",
      " 5   order_delivered_carrier_date   97658 non-null  object\n",
      " 6   order_delivered_customer_date  96476 non-null  object\n",
      " 7   order_estimated_delivery_date  99441 non-null  object\n",
      "dtypes: object(8)\n",
      "memory usage: 6.1+ MB\n"
     ]
    }
   ],
   "source": [
    "#Mengecek tipe data tiap kolom, dan bila ada missing value dari masing-masing kolom di dataframe orders.\n",
    "orders_df.info()"
   ]
  },
  {
   "cell_type": "code",
   "execution_count": 113,
   "metadata": {
    "colab": {
     "base_uri": "https://localhost:8080/",
     "height": 335
    },
    "id": "CQ0oBVWvnY8k",
    "outputId": "fc52a598-2f53-49b8-f487-babb1b6a661f"
   },
   "outputs": [
    {
     "data": {
      "text/plain": [
       "order_id                            0\n",
       "customer_id                         0\n",
       "order_status                        0\n",
       "order_purchase_timestamp            0\n",
       "order_approved_at                 160\n",
       "order_delivered_carrier_date     1783\n",
       "order_delivered_customer_date    2965\n",
       "order_estimated_delivery_date       0\n",
       "dtype: int64"
      ]
     },
     "execution_count": 113,
     "metadata": {},
     "output_type": "execute_result"
    }
   ],
   "source": [
    "#Mengecek Missing Value yang ditemukan pada pemeriksaan sebelumnya\n",
    "orders_df.isna().sum()"
   ]
  },
  {
   "cell_type": "code",
   "execution_count": 114,
   "metadata": {
    "colab": {
     "base_uri": "https://localhost:8080/"
    },
    "id": "N-4pxeujnmPM",
    "outputId": "8b567603-84c3-4a67-9108-1b2cf43df942"
   },
   "outputs": [
    {
     "name": "stdout",
     "output_type": "stream",
     "text": [
      "Jumlah duplikasi:  0\n"
     ]
    }
   ],
   "source": [
    "#Mengecek jumlah data yang duplikat\n",
    "print(\"Jumlah duplikasi: \" , orders_df.duplicated().sum())"
   ]
  },
  {
   "cell_type": "code",
   "execution_count": 115,
   "metadata": {
    "colab": {
     "base_uri": "https://localhost:8080/",
     "height": 195
    },
    "id": "QRcyvn-8nu4O",
    "outputId": "d7edc626-a6fa-4c8c-ab7f-015a9adac853"
   },
   "outputs": [
    {
     "data": {
      "text/html": [
       "<div>\n",
       "<style scoped>\n",
       "    .dataframe tbody tr th:only-of-type {\n",
       "        vertical-align: middle;\n",
       "    }\n",
       "\n",
       "    .dataframe tbody tr th {\n",
       "        vertical-align: top;\n",
       "    }\n",
       "\n",
       "    .dataframe thead th {\n",
       "        text-align: right;\n",
       "    }\n",
       "</style>\n",
       "<table border=\"1\" class=\"dataframe\">\n",
       "  <thead>\n",
       "    <tr style=\"text-align: right;\">\n",
       "      <th></th>\n",
       "      <th>order_id</th>\n",
       "      <th>customer_id</th>\n",
       "      <th>order_status</th>\n",
       "      <th>order_purchase_timestamp</th>\n",
       "      <th>order_approved_at</th>\n",
       "      <th>order_delivered_carrier_date</th>\n",
       "      <th>order_delivered_customer_date</th>\n",
       "      <th>order_estimated_delivery_date</th>\n",
       "    </tr>\n",
       "  </thead>\n",
       "  <tbody>\n",
       "    <tr>\n",
       "      <th>count</th>\n",
       "      <td>99441</td>\n",
       "      <td>99441</td>\n",
       "      <td>99441</td>\n",
       "      <td>99441</td>\n",
       "      <td>99281</td>\n",
       "      <td>97658</td>\n",
       "      <td>96476</td>\n",
       "      <td>99441</td>\n",
       "    </tr>\n",
       "    <tr>\n",
       "      <th>unique</th>\n",
       "      <td>99441</td>\n",
       "      <td>99441</td>\n",
       "      <td>8</td>\n",
       "      <td>98875</td>\n",
       "      <td>90733</td>\n",
       "      <td>81018</td>\n",
       "      <td>95664</td>\n",
       "      <td>459</td>\n",
       "    </tr>\n",
       "    <tr>\n",
       "      <th>top</th>\n",
       "      <td>e481f51cbdc54678b7cc49136f2d6af7</td>\n",
       "      <td>9ef432eb6251297304e76186b10a928d</td>\n",
       "      <td>delivered</td>\n",
       "      <td>2018-04-11 10:48:14</td>\n",
       "      <td>2018-02-27 04:31:10</td>\n",
       "      <td>2018-05-09 15:48:00</td>\n",
       "      <td>2018-05-08 23:38:46</td>\n",
       "      <td>2017-12-20 00:00:00</td>\n",
       "    </tr>\n",
       "    <tr>\n",
       "      <th>freq</th>\n",
       "      <td>1</td>\n",
       "      <td>1</td>\n",
       "      <td>96478</td>\n",
       "      <td>3</td>\n",
       "      <td>9</td>\n",
       "      <td>47</td>\n",
       "      <td>3</td>\n",
       "      <td>522</td>\n",
       "    </tr>\n",
       "  </tbody>\n",
       "</table>\n",
       "</div>"
      ],
      "text/plain": [
       "                                order_id                       customer_id  \\\n",
       "count                              99441                             99441   \n",
       "unique                             99441                             99441   \n",
       "top     e481f51cbdc54678b7cc49136f2d6af7  9ef432eb6251297304e76186b10a928d   \n",
       "freq                                   1                                 1   \n",
       "\n",
       "       order_status order_purchase_timestamp    order_approved_at  \\\n",
       "count         99441                    99441                99281   \n",
       "unique            8                    98875                90733   \n",
       "top       delivered      2018-04-11 10:48:14  2018-02-27 04:31:10   \n",
       "freq          96478                        3                    9   \n",
       "\n",
       "       order_delivered_carrier_date order_delivered_customer_date  \\\n",
       "count                         97658                         96476   \n",
       "unique                        81018                         95664   \n",
       "top             2018-05-09 15:48:00           2018-05-08 23:38:46   \n",
       "freq                             47                             3   \n",
       "\n",
       "       order_estimated_delivery_date  \n",
       "count                          99441  \n",
       "unique                           459  \n",
       "top              2017-12-20 00:00:00  \n",
       "freq                             522  "
      ]
     },
     "execution_count": 115,
     "metadata": {},
     "output_type": "execute_result"
    }
   ],
   "source": [
    "#Memeriksa Parameter Statistik\n",
    "orders_df.describe()"
   ]
  },
  {
   "cell_type": "markdown",
   "metadata": {
    "id": "fdDu-OuamNEV"
   },
   "source": [
    "**Insight:**\n",
    "- Terdapat kesalahan tipe data pada kolom order_purchase_timestamp,\torder_approved_at,\torder_delivered_carrier_date,\torder_delivered_customer_date,\torder_estimated_delivery_date yang seharusnya bertipe data datetime tetapi dinyatakan dalam object. Sehingga saat di describe tidak muncul nilai first (waktu paling awal) dan last (waktu paling akhir) dari kolom tersebut.\n",
    "\n",
    "- Terdapat missing value dari beberapa kolom, diantaranya order_approved_at,\torder_delivered_carrier_date,\torder_delivered_customer_date.\n",
    "\n",
    "- Tidak ada data yang duplikat."
   ]
  },
  {
   "cell_type": "markdown",
   "metadata": {
    "id": "S78VUVKJpFyM"
   },
   "source": [
    "#### Menilai data payments"
   ]
  },
  {
   "cell_type": "code",
   "execution_count": 116,
   "metadata": {
    "colab": {
     "base_uri": "https://localhost:8080/"
    },
    "id": "C3snvxnPpMj9",
    "outputId": "a1954462-e525-4d8e-9efb-e8fecfc16c5c"
   },
   "outputs": [
    {
     "name": "stdout",
     "output_type": "stream",
     "text": [
      "<class 'pandas.core.frame.DataFrame'>\n",
      "RangeIndex: 103886 entries, 0 to 103885\n",
      "Data columns (total 5 columns):\n",
      " #   Column                Non-Null Count   Dtype  \n",
      "---  ------                --------------   -----  \n",
      " 0   order_id              103886 non-null  object \n",
      " 1   payment_sequential    103886 non-null  int64  \n",
      " 2   payment_type          103886 non-null  object \n",
      " 3   payment_installments  103886 non-null  int64  \n",
      " 4   payment_value         103886 non-null  float64\n",
      "dtypes: float64(1), int64(2), object(2)\n",
      "memory usage: 4.0+ MB\n"
     ]
    }
   ],
   "source": [
    "#Mengecek tipe data dan jika ada missing value di dataframe payments\n",
    "payments_df.info()"
   ]
  },
  {
   "cell_type": "code",
   "execution_count": 117,
   "metadata": {
    "colab": {
     "base_uri": "https://localhost:8080/"
    },
    "id": "kLDowaDzqRjL",
    "outputId": "e4ff763c-78ee-4150-97a5-9ea26718d010"
   },
   "outputs": [
    {
     "name": "stdout",
     "output_type": "stream",
     "text": [
      "Jumlah duplikasi:  0\n"
     ]
    }
   ],
   "source": [
    "#Mengecek jumlah data yang duplikat\n",
    "print(\"Jumlah duplikasi: \" , payments_df.duplicated().sum())"
   ]
  },
  {
   "cell_type": "code",
   "execution_count": 118,
   "metadata": {
    "colab": {
     "base_uri": "https://localhost:8080/",
     "height": 300
    },
    "id": "zkV74Qdcqg4E",
    "outputId": "fca1fbb7-0e46-4f57-d991-a83bd9ff6925"
   },
   "outputs": [
    {
     "data": {
      "text/html": [
       "<div>\n",
       "<style scoped>\n",
       "    .dataframe tbody tr th:only-of-type {\n",
       "        vertical-align: middle;\n",
       "    }\n",
       "\n",
       "    .dataframe tbody tr th {\n",
       "        vertical-align: top;\n",
       "    }\n",
       "\n",
       "    .dataframe thead th {\n",
       "        text-align: right;\n",
       "    }\n",
       "</style>\n",
       "<table border=\"1\" class=\"dataframe\">\n",
       "  <thead>\n",
       "    <tr style=\"text-align: right;\">\n",
       "      <th></th>\n",
       "      <th>payment_sequential</th>\n",
       "      <th>payment_installments</th>\n",
       "      <th>payment_value</th>\n",
       "    </tr>\n",
       "  </thead>\n",
       "  <tbody>\n",
       "    <tr>\n",
       "      <th>count</th>\n",
       "      <td>103886.000000</td>\n",
       "      <td>103886.000000</td>\n",
       "      <td>103886.000000</td>\n",
       "    </tr>\n",
       "    <tr>\n",
       "      <th>mean</th>\n",
       "      <td>1.092679</td>\n",
       "      <td>2.853349</td>\n",
       "      <td>154.100380</td>\n",
       "    </tr>\n",
       "    <tr>\n",
       "      <th>std</th>\n",
       "      <td>0.706584</td>\n",
       "      <td>2.687051</td>\n",
       "      <td>217.494064</td>\n",
       "    </tr>\n",
       "    <tr>\n",
       "      <th>min</th>\n",
       "      <td>1.000000</td>\n",
       "      <td>0.000000</td>\n",
       "      <td>0.000000</td>\n",
       "    </tr>\n",
       "    <tr>\n",
       "      <th>25%</th>\n",
       "      <td>1.000000</td>\n",
       "      <td>1.000000</td>\n",
       "      <td>56.790000</td>\n",
       "    </tr>\n",
       "    <tr>\n",
       "      <th>50%</th>\n",
       "      <td>1.000000</td>\n",
       "      <td>1.000000</td>\n",
       "      <td>100.000000</td>\n",
       "    </tr>\n",
       "    <tr>\n",
       "      <th>75%</th>\n",
       "      <td>1.000000</td>\n",
       "      <td>4.000000</td>\n",
       "      <td>171.837500</td>\n",
       "    </tr>\n",
       "    <tr>\n",
       "      <th>max</th>\n",
       "      <td>29.000000</td>\n",
       "      <td>24.000000</td>\n",
       "      <td>13664.080000</td>\n",
       "    </tr>\n",
       "  </tbody>\n",
       "</table>\n",
       "</div>"
      ],
      "text/plain": [
       "       payment_sequential  payment_installments  payment_value\n",
       "count       103886.000000         103886.000000  103886.000000\n",
       "mean             1.092679              2.853349     154.100380\n",
       "std              0.706584              2.687051     217.494064\n",
       "min              1.000000              0.000000       0.000000\n",
       "25%              1.000000              1.000000      56.790000\n",
       "50%              1.000000              1.000000     100.000000\n",
       "75%              1.000000              4.000000     171.837500\n",
       "max             29.000000             24.000000   13664.080000"
      ]
     },
     "execution_count": 118,
     "metadata": {},
     "output_type": "execute_result"
    }
   ],
   "source": [
    "#Mengecek Parameter Statistik\n",
    "payments_df.describe()"
   ]
  },
  {
   "cell_type": "markdown",
   "metadata": {
    "id": "R0IIMz9goG4o"
   },
   "source": [
    "**Insight:**\n",
    "- Tidak terdapat kesalahan tipe data\n",
    "- Tidak ada missing value, dan tidak ada duplikasi data\n",
    "- Namun, terdapat anomaly atau inaccurate value pada kolom payment_installmentsnya, dimana nilai minimumnya tertulis 0, ini saya rasa tidak mungkin terjadi karena pembayaran minimal dilakukan 1 kali minimalnya apalagi cicilan."
   ]
  },
  {
   "cell_type": "markdown",
   "metadata": {
    "id": "5pjhHpqHzTcL"
   },
   "source": [
    "#### Menilai data product"
   ]
  },
  {
   "cell_type": "code",
   "execution_count": 119,
   "metadata": {
    "colab": {
     "base_uri": "https://localhost:8080/"
    },
    "id": "Anu6kb-bzS1F",
    "outputId": "8a64757c-f76d-4f8e-f860-8c39cf26f755"
   },
   "outputs": [
    {
     "name": "stdout",
     "output_type": "stream",
     "text": [
      "<class 'pandas.core.frame.DataFrame'>\n",
      "RangeIndex: 32951 entries, 0 to 32950\n",
      "Data columns (total 9 columns):\n",
      " #   Column                      Non-Null Count  Dtype  \n",
      "---  ------                      --------------  -----  \n",
      " 0   product_id                  32951 non-null  object \n",
      " 1   product_category_name       32341 non-null  object \n",
      " 2   product_name_lenght         32341 non-null  float64\n",
      " 3   product_description_lenght  32341 non-null  float64\n",
      " 4   product_photos_qty          32341 non-null  float64\n",
      " 5   product_weight_g            32949 non-null  float64\n",
      " 6   product_length_cm           32949 non-null  float64\n",
      " 7   product_height_cm           32949 non-null  float64\n",
      " 8   product_width_cm            32949 non-null  float64\n",
      "dtypes: float64(7), object(2)\n",
      "memory usage: 2.3+ MB\n"
     ]
    }
   ],
   "source": [
    "#Mengecek tipe data dan jika ada missing value di dataframe products\n",
    "products_df.info()"
   ]
  },
  {
   "cell_type": "code",
   "execution_count": 120,
   "metadata": {
    "colab": {
     "base_uri": "https://localhost:8080/",
     "height": 366
    },
    "id": "NfQ9X-iLz2OV",
    "outputId": "3c264b25-5cba-4fb1-c5c9-6e523de4058b"
   },
   "outputs": [
    {
     "data": {
      "text/plain": [
       "product_id                      0\n",
       "product_category_name         610\n",
       "product_name_lenght           610\n",
       "product_description_lenght    610\n",
       "product_photos_qty            610\n",
       "product_weight_g                2\n",
       "product_length_cm               2\n",
       "product_height_cm               2\n",
       "product_width_cm                2\n",
       "dtype: int64"
      ]
     },
     "execution_count": 120,
     "metadata": {},
     "output_type": "execute_result"
    }
   ],
   "source": [
    "#Mengecek kolom yang terdapat missing value\n",
    "products_df.isna().sum()"
   ]
  },
  {
   "cell_type": "code",
   "execution_count": 121,
   "metadata": {
    "colab": {
     "base_uri": "https://localhost:8080/"
    },
    "id": "bK8ns4ZEEscI",
    "outputId": "869254ef-d107-4b97-b42d-6da035beab86"
   },
   "outputs": [
    {
     "name": "stdout",
     "output_type": "stream",
     "text": [
      "Jumlah duplikasi:  0\n"
     ]
    }
   ],
   "source": [
    "#Mengecek jumlah data yang duplikat\n",
    "print(\"Jumlah duplikasi: \" , products_df.duplicated().sum())"
   ]
  },
  {
   "cell_type": "code",
   "execution_count": 122,
   "metadata": {
    "colab": {
     "base_uri": "https://localhost:8080/",
     "height": 320
    },
    "id": "4edZOcxxEzFW",
    "outputId": "ecc6419a-28e6-476e-b792-813a95b2dce0"
   },
   "outputs": [
    {
     "data": {
      "text/html": [
       "<div>\n",
       "<style scoped>\n",
       "    .dataframe tbody tr th:only-of-type {\n",
       "        vertical-align: middle;\n",
       "    }\n",
       "\n",
       "    .dataframe tbody tr th {\n",
       "        vertical-align: top;\n",
       "    }\n",
       "\n",
       "    .dataframe thead th {\n",
       "        text-align: right;\n",
       "    }\n",
       "</style>\n",
       "<table border=\"1\" class=\"dataframe\">\n",
       "  <thead>\n",
       "    <tr style=\"text-align: right;\">\n",
       "      <th></th>\n",
       "      <th>product_name_lenght</th>\n",
       "      <th>product_description_lenght</th>\n",
       "      <th>product_photos_qty</th>\n",
       "      <th>product_weight_g</th>\n",
       "      <th>product_length_cm</th>\n",
       "      <th>product_height_cm</th>\n",
       "      <th>product_width_cm</th>\n",
       "    </tr>\n",
       "  </thead>\n",
       "  <tbody>\n",
       "    <tr>\n",
       "      <th>count</th>\n",
       "      <td>32341.000000</td>\n",
       "      <td>32341.000000</td>\n",
       "      <td>32341.000000</td>\n",
       "      <td>32949.000000</td>\n",
       "      <td>32949.000000</td>\n",
       "      <td>32949.000000</td>\n",
       "      <td>32949.000000</td>\n",
       "    </tr>\n",
       "    <tr>\n",
       "      <th>mean</th>\n",
       "      <td>48.476949</td>\n",
       "      <td>771.495285</td>\n",
       "      <td>2.188986</td>\n",
       "      <td>2276.472488</td>\n",
       "      <td>30.815078</td>\n",
       "      <td>16.937661</td>\n",
       "      <td>23.196728</td>\n",
       "    </tr>\n",
       "    <tr>\n",
       "      <th>std</th>\n",
       "      <td>10.245741</td>\n",
       "      <td>635.115225</td>\n",
       "      <td>1.736766</td>\n",
       "      <td>4282.038731</td>\n",
       "      <td>16.914458</td>\n",
       "      <td>13.637554</td>\n",
       "      <td>12.079047</td>\n",
       "    </tr>\n",
       "    <tr>\n",
       "      <th>min</th>\n",
       "      <td>5.000000</td>\n",
       "      <td>4.000000</td>\n",
       "      <td>1.000000</td>\n",
       "      <td>0.000000</td>\n",
       "      <td>7.000000</td>\n",
       "      <td>2.000000</td>\n",
       "      <td>6.000000</td>\n",
       "    </tr>\n",
       "    <tr>\n",
       "      <th>25%</th>\n",
       "      <td>42.000000</td>\n",
       "      <td>339.000000</td>\n",
       "      <td>1.000000</td>\n",
       "      <td>300.000000</td>\n",
       "      <td>18.000000</td>\n",
       "      <td>8.000000</td>\n",
       "      <td>15.000000</td>\n",
       "    </tr>\n",
       "    <tr>\n",
       "      <th>50%</th>\n",
       "      <td>51.000000</td>\n",
       "      <td>595.000000</td>\n",
       "      <td>1.000000</td>\n",
       "      <td>700.000000</td>\n",
       "      <td>25.000000</td>\n",
       "      <td>13.000000</td>\n",
       "      <td>20.000000</td>\n",
       "    </tr>\n",
       "    <tr>\n",
       "      <th>75%</th>\n",
       "      <td>57.000000</td>\n",
       "      <td>972.000000</td>\n",
       "      <td>3.000000</td>\n",
       "      <td>1900.000000</td>\n",
       "      <td>38.000000</td>\n",
       "      <td>21.000000</td>\n",
       "      <td>30.000000</td>\n",
       "    </tr>\n",
       "    <tr>\n",
       "      <th>max</th>\n",
       "      <td>76.000000</td>\n",
       "      <td>3992.000000</td>\n",
       "      <td>20.000000</td>\n",
       "      <td>40425.000000</td>\n",
       "      <td>105.000000</td>\n",
       "      <td>105.000000</td>\n",
       "      <td>118.000000</td>\n",
       "    </tr>\n",
       "  </tbody>\n",
       "</table>\n",
       "</div>"
      ],
      "text/plain": [
       "       product_name_lenght  product_description_lenght  product_photos_qty  \\\n",
       "count         32341.000000                32341.000000        32341.000000   \n",
       "mean             48.476949                  771.495285            2.188986   \n",
       "std              10.245741                  635.115225            1.736766   \n",
       "min               5.000000                    4.000000            1.000000   \n",
       "25%              42.000000                  339.000000            1.000000   \n",
       "50%              51.000000                  595.000000            1.000000   \n",
       "75%              57.000000                  972.000000            3.000000   \n",
       "max              76.000000                 3992.000000           20.000000   \n",
       "\n",
       "       product_weight_g  product_length_cm  product_height_cm  \\\n",
       "count      32949.000000       32949.000000       32949.000000   \n",
       "mean        2276.472488          30.815078          16.937661   \n",
       "std         4282.038731          16.914458          13.637554   \n",
       "min            0.000000           7.000000           2.000000   \n",
       "25%          300.000000          18.000000           8.000000   \n",
       "50%          700.000000          25.000000          13.000000   \n",
       "75%         1900.000000          38.000000          21.000000   \n",
       "max        40425.000000         105.000000         105.000000   \n",
       "\n",
       "       product_width_cm  \n",
       "count      32949.000000  \n",
       "mean          23.196728  \n",
       "std           12.079047  \n",
       "min            6.000000  \n",
       "25%           15.000000  \n",
       "50%           20.000000  \n",
       "75%           30.000000  \n",
       "max          118.000000  "
      ]
     },
     "execution_count": 122,
     "metadata": {},
     "output_type": "execute_result"
    }
   ],
   "source": [
    "#Mengecek Parameter Statistik\n",
    "products_df.describe()"
   ]
  },
  {
   "cell_type": "markdown",
   "metadata": {
    "id": "zF1WFm8tcqXf"
   },
   "source": [
    "Dari parameter statistik di atas, ada kemungkinan outlier dari masing-masing kolom numerik. Oleh karena itu, mari kita cek apakah ada outlier pada masing-masing kolom numerik."
   ]
  },
  {
   "cell_type": "code",
   "execution_count": 123,
   "metadata": {
    "colab": {
     "base_uri": "https://localhost:8080/"
    },
    "id": "h-5tdblwWQCv",
    "outputId": "460c3a28-096b-4d4e-8783-2343dc68b10f"
   },
   "outputs": [
    {
     "name": "stdout",
     "output_type": "stream",
     "text": [
      "[]\n"
     ]
    }
   ],
   "source": [
    "#Mengecek apakah ada outlier di kolom product name length\n",
    "q25, q75 = np.percentile(products_df.product_name_lenght, 25), np.percentile(products_df.product_name_lenght, 75)\n",
    "iqr = q75 - q25\n",
    "cut_off = iqr * 1.5\n",
    "minimum, maximum = q25 - cut_off, q75 + cut_off\n",
    "\n",
    "outliers = [x for x in products_df.product_name_lenght if x < minimum or x > maximum]\n",
    "print(outliers)\n"
   ]
  },
  {
   "cell_type": "code",
   "execution_count": 124,
   "metadata": {
    "colab": {
     "base_uri": "https://localhost:8080/"
    },
    "id": "NabR6CKRWkXI",
    "outputId": "ed603bd7-988e-4724-b98f-4480deb2ae45"
   },
   "outputs": [
    {
     "name": "stdout",
     "output_type": "stream",
     "text": [
      "[]\n"
     ]
    }
   ],
   "source": [
    "#Mengecek apakah ada outlier di kolom product description length\n",
    "q25, q75 = np.percentile(products_df.product_description_lenght, 25), np.percentile(products_df.product_description_lenght, 75)\n",
    "iqr = q75 - q25\n",
    "cut_off = iqr * 1.5\n",
    "minimum, maximum = q25 - cut_off, q75 + cut_off\n",
    "\n",
    "outliers = [x for x in products_df.product_description_lenght if x < minimum or x > maximum]\n",
    "print(outliers)\n"
   ]
  },
  {
   "cell_type": "code",
   "execution_count": 125,
   "metadata": {
    "colab": {
     "base_uri": "https://localhost:8080/"
    },
    "id": "0Chnu6gxWwLp",
    "outputId": "518eb53e-6e51-4834-e089-b305cb36320d"
   },
   "outputs": [
    {
     "name": "stdout",
     "output_type": "stream",
     "text": [
      "[]\n"
     ]
    }
   ],
   "source": [
    "#Mengecek apakah ada outlier di kolom product photos quantity\n",
    "q25, q75 = np.percentile(products_df.product_photos_qty, 25), np.percentile(products_df.product_photos_qty, 75)\n",
    "iqr = q75 - q25\n",
    "cut_off = iqr * 1.5\n",
    "minimum, maximum = q25 - cut_off, q75 + cut_off\n",
    "\n",
    "outliers = [x for x in products_df.product_photos_qty if x < minimum or x > maximum]\n",
    "print(outliers)"
   ]
  },
  {
   "cell_type": "code",
   "execution_count": 126,
   "metadata": {
    "colab": {
     "base_uri": "https://localhost:8080/"
    },
    "id": "tAfngimYW5yg",
    "outputId": "e5dac80e-8e9e-4896-a94d-8270d9c9e677"
   },
   "outputs": [
    {
     "name": "stdout",
     "output_type": "stream",
     "text": [
      "[]\n"
     ]
    }
   ],
   "source": [
    "#Mengecek apakah ada outlier di kolom product weight (g)\n",
    "q25, q75 = np.percentile(products_df.product_weight_g, 25), np.percentile(products_df.product_weight_g, 75)\n",
    "iqr = q75 - q25\n",
    "cut_off = iqr * 1.5\n",
    "minimum, maximum = q25 - cut_off, q75 + cut_off\n",
    "\n",
    "outliers = [x for x in products_df.product_weight_g if x < minimum or x > maximum]\n",
    "print(outliers)"
   ]
  },
  {
   "cell_type": "code",
   "execution_count": 127,
   "metadata": {
    "colab": {
     "base_uri": "https://localhost:8080/"
    },
    "id": "oSXoYSj8XWGX",
    "outputId": "60837be6-ca78-4c3d-b7da-d316f7802cfb"
   },
   "outputs": [
    {
     "name": "stdout",
     "output_type": "stream",
     "text": [
      "[]\n"
     ]
    }
   ],
   "source": [
    "#Mengecek apakah ada outlier di kolom product length (cm)\n",
    "q25, q75 = np.percentile(products_df.product_length_cm, 25), np.percentile(products_df.product_length_cm, 75)\n",
    "iqr = q75 - q25\n",
    "cut_off = iqr * 1.5\n",
    "minimum, maximum = q25 - cut_off, q75 + cut_off\n",
    "\n",
    "outliers = [x for x in products_df.product_length_cm if x < minimum or x > maximum]\n",
    "print(outliers)"
   ]
  },
  {
   "cell_type": "code",
   "execution_count": 128,
   "metadata": {
    "colab": {
     "base_uri": "https://localhost:8080/"
    },
    "id": "ccrOsehoXMzY",
    "outputId": "72c65dd0-b412-431d-ae5e-77da0dfd1311"
   },
   "outputs": [
    {
     "name": "stdout",
     "output_type": "stream",
     "text": [
      "[]\n"
     ]
    }
   ],
   "source": [
    "#Mengecek apakah ada outlier di kolom product heigth (cm)\n",
    "q25, q75 = np.percentile(products_df.product_height_cm, 25), np.percentile(products_df.product_height_cm, 75)\n",
    "iqr = q75 - q25\n",
    "cut_off = iqr * 1.5\n",
    "minimum, maximum = q25 - cut_off, q75 + cut_off\n",
    "\n",
    "outliers = [x for x in products_df.product_height_cm if x < minimum or x > maximum]\n",
    "print(outliers)"
   ]
  },
  {
   "cell_type": "code",
   "execution_count": 129,
   "metadata": {
    "colab": {
     "base_uri": "https://localhost:8080/"
    },
    "id": "MyFYmRe_XViS",
    "outputId": "7938c601-59c2-4a37-ef25-312f31cbde89"
   },
   "outputs": [
    {
     "name": "stdout",
     "output_type": "stream",
     "text": [
      "[]\n"
     ]
    }
   ],
   "source": [
    "#Mengecek apakah ada outlier di kolom product width (cm)\n",
    "q25, q75 = np.percentile(products_df.product_width_cm, 25), np.percentile(products_df.product_width_cm, 75)\n",
    "iqr = q75 - q25\n",
    "cut_off = iqr * 1.5\n",
    "minimum, maximum = q25 - cut_off, q75 + cut_off\n",
    "\n",
    "outliers = [x for x in products_df.product_width_cm if x < minimum or x > maximum]\n",
    "print(outliers)"
   ]
  },
  {
   "cell_type": "markdown",
   "metadata": {
    "id": "Mg7YrZAMoHOX"
   },
   "source": [
    "**Insight:**\n",
    "- Terdapat missing value pada hampir seluruh kolom, yaitu product_category_name,\n",
    "product_name_lenght, product_description_lenght, product_photos_qty,\tproduct_weight_g, product_length_cm, product_height_cm, dan product_width_cm\n",
    "- Tidak ada kesalahan tipe data menurut saya\n",
    "- Tidak ada duplikasi data\n",
    "- Setelah dilakukan cek apakah ada outlier di masing-masing kolom numerik, tidak ditemukan adanya outlier dari semua kolom. Walaupun memang terlihat ada indikasi outlier di beberapa kolom, seperti description_length, dan weight."
   ]
  },
  {
   "cell_type": "markdown",
   "metadata": {
    "id": "qs8nAzhPFmHZ"
   },
   "source": [
    "#### Menilai data ordered product"
   ]
  },
  {
   "cell_type": "code",
   "execution_count": 130,
   "metadata": {
    "colab": {
     "base_uri": "https://localhost:8080/"
    },
    "id": "uHV_8IKsFkV3",
    "outputId": "67fbf5e6-2f78-45e1-8b7e-3de4777227f9"
   },
   "outputs": [
    {
     "name": "stdout",
     "output_type": "stream",
     "text": [
      "<class 'pandas.core.frame.DataFrame'>\n",
      "RangeIndex: 112650 entries, 0 to 112649\n",
      "Data columns (total 7 columns):\n",
      " #   Column               Non-Null Count   Dtype  \n",
      "---  ------               --------------   -----  \n",
      " 0   order_id             112650 non-null  object \n",
      " 1   order_item_id        112650 non-null  int64  \n",
      " 2   product_id           112650 non-null  object \n",
      " 3   seller_id            112650 non-null  object \n",
      " 4   shipping_limit_date  112650 non-null  object \n",
      " 5   price                112650 non-null  float64\n",
      " 6   freight_value        112650 non-null  float64\n",
      "dtypes: float64(2), int64(1), object(4)\n",
      "memory usage: 6.0+ MB\n"
     ]
    }
   ],
   "source": [
    "#Mengecek tipe data dan jika ada missing value di dataframe ordered product\n",
    "ordered_products_df.info()"
   ]
  },
  {
   "cell_type": "code",
   "execution_count": 131,
   "metadata": {
    "colab": {
     "base_uri": "https://localhost:8080/"
    },
    "id": "U2TBUoF2FxV9",
    "outputId": "0a0ed1bc-7a0b-49ac-ae2d-c687f01672d3"
   },
   "outputs": [
    {
     "name": "stdout",
     "output_type": "stream",
     "text": [
      "Jumlah duplikasi:  0\n"
     ]
    }
   ],
   "source": [
    "#Mengecek jumlah data yang duplikat\n",
    "print(\"Jumlah duplikasi: \" , ordered_products_df.duplicated().sum())"
   ]
  },
  {
   "cell_type": "code",
   "execution_count": 132,
   "metadata": {
    "colab": {
     "base_uri": "https://localhost:8080/",
     "height": 300
    },
    "id": "rw8IvFF7F3F-",
    "outputId": "350c21ea-ea94-4af1-bdc9-e7378ef71bce"
   },
   "outputs": [
    {
     "data": {
      "text/html": [
       "<div>\n",
       "<style scoped>\n",
       "    .dataframe tbody tr th:only-of-type {\n",
       "        vertical-align: middle;\n",
       "    }\n",
       "\n",
       "    .dataframe tbody tr th {\n",
       "        vertical-align: top;\n",
       "    }\n",
       "\n",
       "    .dataframe thead th {\n",
       "        text-align: right;\n",
       "    }\n",
       "</style>\n",
       "<table border=\"1\" class=\"dataframe\">\n",
       "  <thead>\n",
       "    <tr style=\"text-align: right;\">\n",
       "      <th></th>\n",
       "      <th>order_item_id</th>\n",
       "      <th>price</th>\n",
       "      <th>freight_value</th>\n",
       "    </tr>\n",
       "  </thead>\n",
       "  <tbody>\n",
       "    <tr>\n",
       "      <th>count</th>\n",
       "      <td>112650.000000</td>\n",
       "      <td>112650.000000</td>\n",
       "      <td>112650.000000</td>\n",
       "    </tr>\n",
       "    <tr>\n",
       "      <th>mean</th>\n",
       "      <td>1.197834</td>\n",
       "      <td>120.653739</td>\n",
       "      <td>19.990320</td>\n",
       "    </tr>\n",
       "    <tr>\n",
       "      <th>std</th>\n",
       "      <td>0.705124</td>\n",
       "      <td>183.633928</td>\n",
       "      <td>15.806405</td>\n",
       "    </tr>\n",
       "    <tr>\n",
       "      <th>min</th>\n",
       "      <td>1.000000</td>\n",
       "      <td>0.850000</td>\n",
       "      <td>0.000000</td>\n",
       "    </tr>\n",
       "    <tr>\n",
       "      <th>25%</th>\n",
       "      <td>1.000000</td>\n",
       "      <td>39.900000</td>\n",
       "      <td>13.080000</td>\n",
       "    </tr>\n",
       "    <tr>\n",
       "      <th>50%</th>\n",
       "      <td>1.000000</td>\n",
       "      <td>74.990000</td>\n",
       "      <td>16.260000</td>\n",
       "    </tr>\n",
       "    <tr>\n",
       "      <th>75%</th>\n",
       "      <td>1.000000</td>\n",
       "      <td>134.900000</td>\n",
       "      <td>21.150000</td>\n",
       "    </tr>\n",
       "    <tr>\n",
       "      <th>max</th>\n",
       "      <td>21.000000</td>\n",
       "      <td>6735.000000</td>\n",
       "      <td>409.680000</td>\n",
       "    </tr>\n",
       "  </tbody>\n",
       "</table>\n",
       "</div>"
      ],
      "text/plain": [
       "       order_item_id          price  freight_value\n",
       "count  112650.000000  112650.000000  112650.000000\n",
       "mean        1.197834     120.653739      19.990320\n",
       "std         0.705124     183.633928      15.806405\n",
       "min         1.000000       0.850000       0.000000\n",
       "25%         1.000000      39.900000      13.080000\n",
       "50%         1.000000      74.990000      16.260000\n",
       "75%         1.000000     134.900000      21.150000\n",
       "max        21.000000    6735.000000     409.680000"
      ]
     },
     "execution_count": 132,
     "metadata": {},
     "output_type": "execute_result"
    }
   ],
   "source": [
    "ordered_products_df.describe()"
   ]
  },
  {
   "cell_type": "markdown",
   "metadata": {
    "id": "Sg1tRfuVzR3W"
   },
   "source": [
    "**Insight:**\n",
    "- Terdapat kesalahan tipe data di kolom shipping_limit_date, yang merupakan object seharusnya adalah datetime.\n",
    "- Tidak ada missing value dan tidak ada duplikasi data."
   ]
  },
  {
   "cell_type": "markdown",
   "metadata": {
    "id": "dWuNo_tXGZLN"
   },
   "source": [
    "#### Menilai data product translation"
   ]
  },
  {
   "cell_type": "code",
   "execution_count": 133,
   "metadata": {
    "colab": {
     "base_uri": "https://localhost:8080/"
    },
    "id": "ORqR2CRbGXft",
    "outputId": "6d13ad37-2388-4fd8-cfb8-3ba665883275"
   },
   "outputs": [
    {
     "name": "stdout",
     "output_type": "stream",
     "text": [
      "<class 'pandas.core.frame.DataFrame'>\n",
      "RangeIndex: 71 entries, 0 to 70\n",
      "Data columns (total 2 columns):\n",
      " #   Column                         Non-Null Count  Dtype \n",
      "---  ------                         --------------  ----- \n",
      " 0   product_category_name          71 non-null     object\n",
      " 1   product_category_name_english  71 non-null     object\n",
      "dtypes: object(2)\n",
      "memory usage: 1.2+ KB\n"
     ]
    }
   ],
   "source": [
    "product_translate_df.info()"
   ]
  },
  {
   "cell_type": "code",
   "execution_count": 134,
   "metadata": {
    "colab": {
     "base_uri": "https://localhost:8080/"
    },
    "id": "hUPQi8tTGnm7",
    "outputId": "400f237a-b073-4b3b-c155-5b72184fbe81"
   },
   "outputs": [
    {
     "name": "stdout",
     "output_type": "stream",
     "text": [
      "Jumlah duplikasi:  0\n"
     ]
    }
   ],
   "source": [
    "#Mengecek jumlah data yang duplikat\n",
    "print(\"Jumlah duplikasi: \" , product_translate_df.duplicated().sum())"
   ]
  },
  {
   "cell_type": "code",
   "execution_count": 135,
   "metadata": {
    "colab": {
     "base_uri": "https://localhost:8080/",
     "height": 175
    },
    "id": "k0mxMHHZGrm2",
    "outputId": "a6af6ad3-8ba3-419f-8b68-145b10881704"
   },
   "outputs": [
    {
     "data": {
      "text/html": [
       "<div>\n",
       "<style scoped>\n",
       "    .dataframe tbody tr th:only-of-type {\n",
       "        vertical-align: middle;\n",
       "    }\n",
       "\n",
       "    .dataframe tbody tr th {\n",
       "        vertical-align: top;\n",
       "    }\n",
       "\n",
       "    .dataframe thead th {\n",
       "        text-align: right;\n",
       "    }\n",
       "</style>\n",
       "<table border=\"1\" class=\"dataframe\">\n",
       "  <thead>\n",
       "    <tr style=\"text-align: right;\">\n",
       "      <th></th>\n",
       "      <th>product_category_name</th>\n",
       "      <th>product_category_name_english</th>\n",
       "    </tr>\n",
       "  </thead>\n",
       "  <tbody>\n",
       "    <tr>\n",
       "      <th>count</th>\n",
       "      <td>71</td>\n",
       "      <td>71</td>\n",
       "    </tr>\n",
       "    <tr>\n",
       "      <th>unique</th>\n",
       "      <td>71</td>\n",
       "      <td>71</td>\n",
       "    </tr>\n",
       "    <tr>\n",
       "      <th>top</th>\n",
       "      <td>beleza_saude</td>\n",
       "      <td>health_beauty</td>\n",
       "    </tr>\n",
       "    <tr>\n",
       "      <th>freq</th>\n",
       "      <td>1</td>\n",
       "      <td>1</td>\n",
       "    </tr>\n",
       "  </tbody>\n",
       "</table>\n",
       "</div>"
      ],
      "text/plain": [
       "       product_category_name product_category_name_english\n",
       "count                     71                            71\n",
       "unique                    71                            71\n",
       "top             beleza_saude                 health_beauty\n",
       "freq                       1                             1"
      ]
     },
     "execution_count": 135,
     "metadata": {},
     "output_type": "execute_result"
    }
   ],
   "source": [
    "product_translate_df.describe()"
   ]
  },
  {
   "cell_type": "markdown",
   "metadata": {
    "id": "lhvCNaWEzR_M"
   },
   "source": [
    "**Insight:**\n",
    "- Data sudah baik, tidak ada missing value, tidak ada duplikasi data, dan tipe data sudah sesuai\n",
    "- Karena tidak ada data numerik, maka fungsi describe() hanya akan menampilkan count (jumlah data), unique (jumlah data yang unik / tidak ada duplikat), top (data paling sering muncul) tetapi karena saya rasa semua data hanya muncul paling banyak sekali / 1x (freq) maka top tidak mewakili apapun."
   ]
  },
  {
   "cell_type": "markdown",
   "metadata": {
    "id": "EhN5R4hr8DC1"
   },
   "source": [
    "### Cleaning Data"
   ]
  },
  {
   "cell_type": "markdown",
   "metadata": {
    "id": "FCuAykDLMtJd"
   },
   "source": [
    "#### Membersihkan data pada dataframe orders (pesanan)"
   ]
  },
  {
   "cell_type": "code",
   "execution_count": 136,
   "metadata": {
    "id": "jVnYpprE9Evz"
   },
   "outputs": [],
   "source": [
    "#Mengubah tipe data pada beberapa kolom yang seharusnya datetime\n",
    "datetime_columns = [\"order_purchase_timestamp\", \"order_approved_at\", \"order_delivered_carrier_date\", \"order_delivered_customer_date\", \"order_estimated_delivery_date\"]\n",
    "\n",
    "for column in datetime_columns:\n",
    "  orders_df[column] = pd.to_datetime(orders_df[column])"
   ]
  },
  {
   "cell_type": "code",
   "execution_count": 137,
   "metadata": {
    "colab": {
     "base_uri": "https://localhost:8080/"
    },
    "id": "2S9v0gaiNugN",
    "outputId": "0e86825c-0898-4497-af52-61d449bfadcd"
   },
   "outputs": [
    {
     "name": "stdout",
     "output_type": "stream",
     "text": [
      "<class 'pandas.core.frame.DataFrame'>\n",
      "RangeIndex: 99441 entries, 0 to 99440\n",
      "Data columns (total 8 columns):\n",
      " #   Column                         Non-Null Count  Dtype         \n",
      "---  ------                         --------------  -----         \n",
      " 0   order_id                       99441 non-null  object        \n",
      " 1   customer_id                    99441 non-null  object        \n",
      " 2   order_status                   99441 non-null  object        \n",
      " 3   order_purchase_timestamp       99441 non-null  datetime64[ns]\n",
      " 4   order_approved_at              99281 non-null  datetime64[ns]\n",
      " 5   order_delivered_carrier_date   97658 non-null  datetime64[ns]\n",
      " 6   order_delivered_customer_date  96476 non-null  datetime64[ns]\n",
      " 7   order_estimated_delivery_date  99441 non-null  datetime64[ns]\n",
      "dtypes: datetime64[ns](5), object(3)\n",
      "memory usage: 6.1+ MB\n"
     ]
    }
   ],
   "source": [
    "#Memastikan tipe data sudah terganti\n",
    "orders_df.info()"
   ]
  },
  {
   "cell_type": "code",
   "execution_count": 138,
   "metadata": {
    "colab": {
     "base_uri": "https://localhost:8080/",
     "height": 443
    },
    "id": "rwiPapO9P-PD",
    "outputId": "64efbcec-fcd3-432c-c31e-a90940812ad4"
   },
   "outputs": [
    {
     "data": {
      "text/html": [
       "<div>\n",
       "<style scoped>\n",
       "    .dataframe tbody tr th:only-of-type {\n",
       "        vertical-align: middle;\n",
       "    }\n",
       "\n",
       "    .dataframe tbody tr th {\n",
       "        vertical-align: top;\n",
       "    }\n",
       "\n",
       "    .dataframe thead th {\n",
       "        text-align: right;\n",
       "    }\n",
       "</style>\n",
       "<table border=\"1\" class=\"dataframe\">\n",
       "  <thead>\n",
       "    <tr style=\"text-align: right;\">\n",
       "      <th></th>\n",
       "      <th>order_id</th>\n",
       "      <th>customer_id</th>\n",
       "      <th>order_status</th>\n",
       "      <th>order_purchase_timestamp</th>\n",
       "      <th>order_approved_at</th>\n",
       "      <th>order_delivered_carrier_date</th>\n",
       "      <th>order_delivered_customer_date</th>\n",
       "      <th>order_estimated_delivery_date</th>\n",
       "    </tr>\n",
       "  </thead>\n",
       "  <tbody>\n",
       "    <tr>\n",
       "      <th>1130</th>\n",
       "      <td>00b1cb0320190ca0daa2c88b35206009</td>\n",
       "      <td>3532ba38a3fd242259a514ac2b6ae6b6</td>\n",
       "      <td>canceled</td>\n",
       "      <td>2018-08-28 15:26:39</td>\n",
       "      <td>NaT</td>\n",
       "      <td>NaT</td>\n",
       "      <td>NaT</td>\n",
       "      <td>2018-09-12</td>\n",
       "    </tr>\n",
       "    <tr>\n",
       "      <th>1801</th>\n",
       "      <td>ed3efbd3a87bea76c2812c66a0b32219</td>\n",
       "      <td>191984a8ba4cbb2145acb4fe35b69664</td>\n",
       "      <td>canceled</td>\n",
       "      <td>2018-09-20 13:54:16</td>\n",
       "      <td>NaT</td>\n",
       "      <td>NaT</td>\n",
       "      <td>NaT</td>\n",
       "      <td>2018-10-17</td>\n",
       "    </tr>\n",
       "    <tr>\n",
       "      <th>1868</th>\n",
       "      <td>df8282afe61008dc26c6c31011474d02</td>\n",
       "      <td>aa797b187b5466bc6925aaaa4bb3bed1</td>\n",
       "      <td>canceled</td>\n",
       "      <td>2017-03-04 12:14:30</td>\n",
       "      <td>NaT</td>\n",
       "      <td>NaT</td>\n",
       "      <td>NaT</td>\n",
       "      <td>2017-04-10</td>\n",
       "    </tr>\n",
       "    <tr>\n",
       "      <th>2029</th>\n",
       "      <td>8d4c637f1accf7a88a4555f02741e606</td>\n",
       "      <td>b1dd715db389a2077f43174e7a675d07</td>\n",
       "      <td>canceled</td>\n",
       "      <td>2018-08-29 16:27:49</td>\n",
       "      <td>NaT</td>\n",
       "      <td>NaT</td>\n",
       "      <td>NaT</td>\n",
       "      <td>2018-09-13</td>\n",
       "    </tr>\n",
       "    <tr>\n",
       "      <th>2161</th>\n",
       "      <td>7a9d4c7f9b068337875b95465330f2fc</td>\n",
       "      <td>7f71ae48074c0cfec9195f88fcbfac55</td>\n",
       "      <td>canceled</td>\n",
       "      <td>2017-05-01 16:12:39</td>\n",
       "      <td>NaT</td>\n",
       "      <td>NaT</td>\n",
       "      <td>NaT</td>\n",
       "      <td>2017-05-30</td>\n",
       "    </tr>\n",
       "    <tr>\n",
       "      <th>...</th>\n",
       "      <td>...</td>\n",
       "      <td>...</td>\n",
       "      <td>...</td>\n",
       "      <td>...</td>\n",
       "      <td>...</td>\n",
       "      <td>...</td>\n",
       "      <td>...</td>\n",
       "      <td>...</td>\n",
       "    </tr>\n",
       "    <tr>\n",
       "      <th>97696</th>\n",
       "      <td>5a00b4d35edffc56b825c3646a99ba9d</td>\n",
       "      <td>6a3bdf004ca96338fb5fad1b8d93c2e6</td>\n",
       "      <td>canceled</td>\n",
       "      <td>2017-07-02 15:38:46</td>\n",
       "      <td>NaT</td>\n",
       "      <td>NaT</td>\n",
       "      <td>NaT</td>\n",
       "      <td>2017-07-25</td>\n",
       "    </tr>\n",
       "    <tr>\n",
       "      <th>98415</th>\n",
       "      <td>227c804e2a44760671a6a5697ea549e4</td>\n",
       "      <td>62e7477e75e542243ee62a0ba73f410f</td>\n",
       "      <td>canceled</td>\n",
       "      <td>2017-09-28 15:02:56</td>\n",
       "      <td>NaT</td>\n",
       "      <td>NaT</td>\n",
       "      <td>NaT</td>\n",
       "      <td>2017-10-16</td>\n",
       "    </tr>\n",
       "    <tr>\n",
       "      <th>98909</th>\n",
       "      <td>e49e7ce1471b4693482d40c2bd3ad196</td>\n",
       "      <td>e4e7ab3f449aeb401f0216f86c2104db</td>\n",
       "      <td>canceled</td>\n",
       "      <td>2018-08-07 11:16:28</td>\n",
       "      <td>NaT</td>\n",
       "      <td>NaT</td>\n",
       "      <td>NaT</td>\n",
       "      <td>2018-08-10</td>\n",
       "    </tr>\n",
       "    <tr>\n",
       "      <th>99283</th>\n",
       "      <td>3a3cddda5a7c27851bd96c3313412840</td>\n",
       "      <td>0b0d6095c5555fe083844281f6b093bb</td>\n",
       "      <td>canceled</td>\n",
       "      <td>2018-08-31 16:13:44</td>\n",
       "      <td>NaT</td>\n",
       "      <td>NaT</td>\n",
       "      <td>NaT</td>\n",
       "      <td>2018-10-01</td>\n",
       "    </tr>\n",
       "    <tr>\n",
       "      <th>99347</th>\n",
       "      <td>a89abace0dcc01eeb267a9660b5ac126</td>\n",
       "      <td>2f0524a7b1b3845a1a57fcf3910c4333</td>\n",
       "      <td>canceled</td>\n",
       "      <td>2018-09-06 18:45:47</td>\n",
       "      <td>NaT</td>\n",
       "      <td>NaT</td>\n",
       "      <td>NaT</td>\n",
       "      <td>2018-09-27</td>\n",
       "    </tr>\n",
       "  </tbody>\n",
       "</table>\n",
       "<p>160 rows × 8 columns</p>\n",
       "</div>"
      ],
      "text/plain": [
       "                               order_id                       customer_id  \\\n",
       "1130   00b1cb0320190ca0daa2c88b35206009  3532ba38a3fd242259a514ac2b6ae6b6   \n",
       "1801   ed3efbd3a87bea76c2812c66a0b32219  191984a8ba4cbb2145acb4fe35b69664   \n",
       "1868   df8282afe61008dc26c6c31011474d02  aa797b187b5466bc6925aaaa4bb3bed1   \n",
       "2029   8d4c637f1accf7a88a4555f02741e606  b1dd715db389a2077f43174e7a675d07   \n",
       "2161   7a9d4c7f9b068337875b95465330f2fc  7f71ae48074c0cfec9195f88fcbfac55   \n",
       "...                                 ...                               ...   \n",
       "97696  5a00b4d35edffc56b825c3646a99ba9d  6a3bdf004ca96338fb5fad1b8d93c2e6   \n",
       "98415  227c804e2a44760671a6a5697ea549e4  62e7477e75e542243ee62a0ba73f410f   \n",
       "98909  e49e7ce1471b4693482d40c2bd3ad196  e4e7ab3f449aeb401f0216f86c2104db   \n",
       "99283  3a3cddda5a7c27851bd96c3313412840  0b0d6095c5555fe083844281f6b093bb   \n",
       "99347  a89abace0dcc01eeb267a9660b5ac126  2f0524a7b1b3845a1a57fcf3910c4333   \n",
       "\n",
       "      order_status order_purchase_timestamp order_approved_at  \\\n",
       "1130      canceled      2018-08-28 15:26:39               NaT   \n",
       "1801      canceled      2018-09-20 13:54:16               NaT   \n",
       "1868      canceled      2017-03-04 12:14:30               NaT   \n",
       "2029      canceled      2018-08-29 16:27:49               NaT   \n",
       "2161      canceled      2017-05-01 16:12:39               NaT   \n",
       "...            ...                      ...               ...   \n",
       "97696     canceled      2017-07-02 15:38:46               NaT   \n",
       "98415     canceled      2017-09-28 15:02:56               NaT   \n",
       "98909     canceled      2018-08-07 11:16:28               NaT   \n",
       "99283     canceled      2018-08-31 16:13:44               NaT   \n",
       "99347     canceled      2018-09-06 18:45:47               NaT   \n",
       "\n",
       "      order_delivered_carrier_date order_delivered_customer_date  \\\n",
       "1130                           NaT                           NaT   \n",
       "1801                           NaT                           NaT   \n",
       "1868                           NaT                           NaT   \n",
       "2029                           NaT                           NaT   \n",
       "2161                           NaT                           NaT   \n",
       "...                            ...                           ...   \n",
       "97696                          NaT                           NaT   \n",
       "98415                          NaT                           NaT   \n",
       "98909                          NaT                           NaT   \n",
       "99283                          NaT                           NaT   \n",
       "99347                          NaT                           NaT   \n",
       "\n",
       "      order_estimated_delivery_date  \n",
       "1130                     2018-09-12  \n",
       "1801                     2018-10-17  \n",
       "1868                     2017-04-10  \n",
       "2029                     2018-09-13  \n",
       "2161                     2017-05-30  \n",
       "...                             ...  \n",
       "97696                    2017-07-25  \n",
       "98415                    2017-10-16  \n",
       "98909                    2018-08-10  \n",
       "99283                    2018-10-01  \n",
       "99347                    2018-09-27  \n",
       "\n",
       "[160 rows x 8 columns]"
      ]
     },
     "execution_count": 138,
     "metadata": {},
     "output_type": "execute_result"
    }
   ],
   "source": [
    "#Mengecek value data yang kolom order approved at nya kosong atau null\n",
    "orders_df[orders_df.order_approved_at.isna()]"
   ]
  },
  {
   "cell_type": "code",
   "execution_count": 139,
   "metadata": {
    "colab": {
     "base_uri": "https://localhost:8080/",
     "height": 443
    },
    "id": "BtonAXIPP6sE",
    "outputId": "89a7335b-c168-4c95-b9e0-f1ab1521f8e8"
   },
   "outputs": [
    {
     "data": {
      "text/html": [
       "<div>\n",
       "<style scoped>\n",
       "    .dataframe tbody tr th:only-of-type {\n",
       "        vertical-align: middle;\n",
       "    }\n",
       "\n",
       "    .dataframe tbody tr th {\n",
       "        vertical-align: top;\n",
       "    }\n",
       "\n",
       "    .dataframe thead th {\n",
       "        text-align: right;\n",
       "    }\n",
       "</style>\n",
       "<table border=\"1\" class=\"dataframe\">\n",
       "  <thead>\n",
       "    <tr style=\"text-align: right;\">\n",
       "      <th></th>\n",
       "      <th>order_id</th>\n",
       "      <th>customer_id</th>\n",
       "      <th>order_status</th>\n",
       "      <th>order_purchase_timestamp</th>\n",
       "      <th>order_approved_at</th>\n",
       "      <th>order_delivered_carrier_date</th>\n",
       "      <th>order_delivered_customer_date</th>\n",
       "      <th>order_estimated_delivery_date</th>\n",
       "    </tr>\n",
       "  </thead>\n",
       "  <tbody>\n",
       "    <tr>\n",
       "      <th>6</th>\n",
       "      <td>136cce7faa42fdb2cefd53fdc79a6098</td>\n",
       "      <td>ed0271e0b7da060a393796590e7b737a</td>\n",
       "      <td>invoiced</td>\n",
       "      <td>2017-04-11 12:22:08</td>\n",
       "      <td>2017-04-13 13:25:17</td>\n",
       "      <td>NaT</td>\n",
       "      <td>NaT</td>\n",
       "      <td>2017-05-09</td>\n",
       "    </tr>\n",
       "    <tr>\n",
       "      <th>103</th>\n",
       "      <td>0760a852e4e9d89eb77bf631eaaf1c84</td>\n",
       "      <td>d2a79636084590b7465af8ab374a8cf5</td>\n",
       "      <td>invoiced</td>\n",
       "      <td>2018-08-03 17:44:42</td>\n",
       "      <td>2018-08-07 06:15:14</td>\n",
       "      <td>NaT</td>\n",
       "      <td>NaT</td>\n",
       "      <td>2018-08-21</td>\n",
       "    </tr>\n",
       "    <tr>\n",
       "      <th>128</th>\n",
       "      <td>15bed8e2fec7fdbadb186b57c46c92f2</td>\n",
       "      <td>f3f0e613e0bdb9c7cee75504f0f90679</td>\n",
       "      <td>processing</td>\n",
       "      <td>2017-09-03 14:22:03</td>\n",
       "      <td>2017-09-03 14:30:09</td>\n",
       "      <td>NaT</td>\n",
       "      <td>NaT</td>\n",
       "      <td>2017-10-03</td>\n",
       "    </tr>\n",
       "    <tr>\n",
       "      <th>266</th>\n",
       "      <td>8e24261a7e58791d10cb1bf9da94df5c</td>\n",
       "      <td>64a254d30eed42cd0e6c36dddb88adf0</td>\n",
       "      <td>unavailable</td>\n",
       "      <td>2017-11-16 15:09:28</td>\n",
       "      <td>2017-11-16 15:26:57</td>\n",
       "      <td>NaT</td>\n",
       "      <td>NaT</td>\n",
       "      <td>2017-12-05</td>\n",
       "    </tr>\n",
       "    <tr>\n",
       "      <th>324</th>\n",
       "      <td>d3c8851a6651eeff2f73b0e011ac45d0</td>\n",
       "      <td>957f8e082185574de25992dc659ebbc0</td>\n",
       "      <td>processing</td>\n",
       "      <td>2016-10-05 22:44:13</td>\n",
       "      <td>2016-10-06 15:51:05</td>\n",
       "      <td>NaT</td>\n",
       "      <td>NaT</td>\n",
       "      <td>2016-12-09</td>\n",
       "    </tr>\n",
       "    <tr>\n",
       "      <th>...</th>\n",
       "      <td>...</td>\n",
       "      <td>...</td>\n",
       "      <td>...</td>\n",
       "      <td>...</td>\n",
       "      <td>...</td>\n",
       "      <td>...</td>\n",
       "      <td>...</td>\n",
       "      <td>...</td>\n",
       "    </tr>\n",
       "    <tr>\n",
       "      <th>99283</th>\n",
       "      <td>3a3cddda5a7c27851bd96c3313412840</td>\n",
       "      <td>0b0d6095c5555fe083844281f6b093bb</td>\n",
       "      <td>canceled</td>\n",
       "      <td>2018-08-31 16:13:44</td>\n",
       "      <td>NaT</td>\n",
       "      <td>NaT</td>\n",
       "      <td>NaT</td>\n",
       "      <td>2018-10-01</td>\n",
       "    </tr>\n",
       "    <tr>\n",
       "      <th>99313</th>\n",
       "      <td>e9e64a17afa9653aacf2616d94c005b8</td>\n",
       "      <td>b4cd0522e632e481f8eaf766a2646e86</td>\n",
       "      <td>processing</td>\n",
       "      <td>2018-01-05 23:07:24</td>\n",
       "      <td>2018-01-09 07:18:05</td>\n",
       "      <td>NaT</td>\n",
       "      <td>NaT</td>\n",
       "      <td>2018-02-06</td>\n",
       "    </tr>\n",
       "    <tr>\n",
       "      <th>99347</th>\n",
       "      <td>a89abace0dcc01eeb267a9660b5ac126</td>\n",
       "      <td>2f0524a7b1b3845a1a57fcf3910c4333</td>\n",
       "      <td>canceled</td>\n",
       "      <td>2018-09-06 18:45:47</td>\n",
       "      <td>NaT</td>\n",
       "      <td>NaT</td>\n",
       "      <td>NaT</td>\n",
       "      <td>2018-09-27</td>\n",
       "    </tr>\n",
       "    <tr>\n",
       "      <th>99348</th>\n",
       "      <td>a69ba794cc7deb415c3e15a0a3877e69</td>\n",
       "      <td>726f0894b5becdf952ea537d5266e543</td>\n",
       "      <td>unavailable</td>\n",
       "      <td>2017-08-23 16:28:04</td>\n",
       "      <td>2017-08-28 15:44:47</td>\n",
       "      <td>NaT</td>\n",
       "      <td>NaT</td>\n",
       "      <td>2017-09-15</td>\n",
       "    </tr>\n",
       "    <tr>\n",
       "      <th>99415</th>\n",
       "      <td>5fabc81b6322c8443648e1b21a6fef21</td>\n",
       "      <td>32c9df889d41b0ee8309a5efb6855dcb</td>\n",
       "      <td>unavailable</td>\n",
       "      <td>2017-10-10 10:50:03</td>\n",
       "      <td>2017-10-14 18:35:57</td>\n",
       "      <td>NaT</td>\n",
       "      <td>NaT</td>\n",
       "      <td>2017-10-23</td>\n",
       "    </tr>\n",
       "  </tbody>\n",
       "</table>\n",
       "<p>1783 rows × 8 columns</p>\n",
       "</div>"
      ],
      "text/plain": [
       "                               order_id                       customer_id  \\\n",
       "6      136cce7faa42fdb2cefd53fdc79a6098  ed0271e0b7da060a393796590e7b737a   \n",
       "103    0760a852e4e9d89eb77bf631eaaf1c84  d2a79636084590b7465af8ab374a8cf5   \n",
       "128    15bed8e2fec7fdbadb186b57c46c92f2  f3f0e613e0bdb9c7cee75504f0f90679   \n",
       "266    8e24261a7e58791d10cb1bf9da94df5c  64a254d30eed42cd0e6c36dddb88adf0   \n",
       "324    d3c8851a6651eeff2f73b0e011ac45d0  957f8e082185574de25992dc659ebbc0   \n",
       "...                                 ...                               ...   \n",
       "99283  3a3cddda5a7c27851bd96c3313412840  0b0d6095c5555fe083844281f6b093bb   \n",
       "99313  e9e64a17afa9653aacf2616d94c005b8  b4cd0522e632e481f8eaf766a2646e86   \n",
       "99347  a89abace0dcc01eeb267a9660b5ac126  2f0524a7b1b3845a1a57fcf3910c4333   \n",
       "99348  a69ba794cc7deb415c3e15a0a3877e69  726f0894b5becdf952ea537d5266e543   \n",
       "99415  5fabc81b6322c8443648e1b21a6fef21  32c9df889d41b0ee8309a5efb6855dcb   \n",
       "\n",
       "      order_status order_purchase_timestamp   order_approved_at  \\\n",
       "6         invoiced      2017-04-11 12:22:08 2017-04-13 13:25:17   \n",
       "103       invoiced      2018-08-03 17:44:42 2018-08-07 06:15:14   \n",
       "128     processing      2017-09-03 14:22:03 2017-09-03 14:30:09   \n",
       "266    unavailable      2017-11-16 15:09:28 2017-11-16 15:26:57   \n",
       "324     processing      2016-10-05 22:44:13 2016-10-06 15:51:05   \n",
       "...            ...                      ...                 ...   \n",
       "99283     canceled      2018-08-31 16:13:44                 NaT   \n",
       "99313   processing      2018-01-05 23:07:24 2018-01-09 07:18:05   \n",
       "99347     canceled      2018-09-06 18:45:47                 NaT   \n",
       "99348  unavailable      2017-08-23 16:28:04 2017-08-28 15:44:47   \n",
       "99415  unavailable      2017-10-10 10:50:03 2017-10-14 18:35:57   \n",
       "\n",
       "      order_delivered_carrier_date order_delivered_customer_date  \\\n",
       "6                              NaT                           NaT   \n",
       "103                            NaT                           NaT   \n",
       "128                            NaT                           NaT   \n",
       "266                            NaT                           NaT   \n",
       "324                            NaT                           NaT   \n",
       "...                            ...                           ...   \n",
       "99283                          NaT                           NaT   \n",
       "99313                          NaT                           NaT   \n",
       "99347                          NaT                           NaT   \n",
       "99348                          NaT                           NaT   \n",
       "99415                          NaT                           NaT   \n",
       "\n",
       "      order_estimated_delivery_date  \n",
       "6                        2017-05-09  \n",
       "103                      2018-08-21  \n",
       "128                      2017-10-03  \n",
       "266                      2017-12-05  \n",
       "324                      2016-12-09  \n",
       "...                             ...  \n",
       "99283                    2018-10-01  \n",
       "99313                    2018-02-06  \n",
       "99347                    2018-09-27  \n",
       "99348                    2017-09-15  \n",
       "99415                    2017-10-23  \n",
       "\n",
       "[1783 rows x 8 columns]"
      ]
     },
     "execution_count": 139,
     "metadata": {},
     "output_type": "execute_result"
    }
   ],
   "source": [
    "#Mengecek value data yang kolom order delivered carrier date nya kosong atau null\n",
    "orders_df[orders_df.order_delivered_carrier_date.isna()]"
   ]
  },
  {
   "cell_type": "code",
   "execution_count": 140,
   "metadata": {
    "colab": {
     "base_uri": "https://localhost:8080/",
     "height": 443
    },
    "id": "BS6fUborPcNW",
    "outputId": "e5211d92-4e44-4f63-e060-b04f854869c0"
   },
   "outputs": [
    {
     "data": {
      "text/html": [
       "<div>\n",
       "<style scoped>\n",
       "    .dataframe tbody tr th:only-of-type {\n",
       "        vertical-align: middle;\n",
       "    }\n",
       "\n",
       "    .dataframe tbody tr th {\n",
       "        vertical-align: top;\n",
       "    }\n",
       "\n",
       "    .dataframe thead th {\n",
       "        text-align: right;\n",
       "    }\n",
       "</style>\n",
       "<table border=\"1\" class=\"dataframe\">\n",
       "  <thead>\n",
       "    <tr style=\"text-align: right;\">\n",
       "      <th></th>\n",
       "      <th>order_id</th>\n",
       "      <th>customer_id</th>\n",
       "      <th>order_status</th>\n",
       "      <th>order_purchase_timestamp</th>\n",
       "      <th>order_approved_at</th>\n",
       "      <th>order_delivered_carrier_date</th>\n",
       "      <th>order_delivered_customer_date</th>\n",
       "      <th>order_estimated_delivery_date</th>\n",
       "    </tr>\n",
       "  </thead>\n",
       "  <tbody>\n",
       "    <tr>\n",
       "      <th>6</th>\n",
       "      <td>136cce7faa42fdb2cefd53fdc79a6098</td>\n",
       "      <td>ed0271e0b7da060a393796590e7b737a</td>\n",
       "      <td>invoiced</td>\n",
       "      <td>2017-04-11 12:22:08</td>\n",
       "      <td>2017-04-13 13:25:17</td>\n",
       "      <td>NaT</td>\n",
       "      <td>NaT</td>\n",
       "      <td>2017-05-09</td>\n",
       "    </tr>\n",
       "    <tr>\n",
       "      <th>44</th>\n",
       "      <td>ee64d42b8cf066f35eac1cf57de1aa85</td>\n",
       "      <td>caded193e8e47b8362864762a83db3c5</td>\n",
       "      <td>shipped</td>\n",
       "      <td>2018-06-04 16:44:48</td>\n",
       "      <td>2018-06-05 04:31:18</td>\n",
       "      <td>2018-06-05 14:32:00</td>\n",
       "      <td>NaT</td>\n",
       "      <td>2018-06-28</td>\n",
       "    </tr>\n",
       "    <tr>\n",
       "      <th>103</th>\n",
       "      <td>0760a852e4e9d89eb77bf631eaaf1c84</td>\n",
       "      <td>d2a79636084590b7465af8ab374a8cf5</td>\n",
       "      <td>invoiced</td>\n",
       "      <td>2018-08-03 17:44:42</td>\n",
       "      <td>2018-08-07 06:15:14</td>\n",
       "      <td>NaT</td>\n",
       "      <td>NaT</td>\n",
       "      <td>2018-08-21</td>\n",
       "    </tr>\n",
       "    <tr>\n",
       "      <th>128</th>\n",
       "      <td>15bed8e2fec7fdbadb186b57c46c92f2</td>\n",
       "      <td>f3f0e613e0bdb9c7cee75504f0f90679</td>\n",
       "      <td>processing</td>\n",
       "      <td>2017-09-03 14:22:03</td>\n",
       "      <td>2017-09-03 14:30:09</td>\n",
       "      <td>NaT</td>\n",
       "      <td>NaT</td>\n",
       "      <td>2017-10-03</td>\n",
       "    </tr>\n",
       "    <tr>\n",
       "      <th>154</th>\n",
       "      <td>6942b8da583c2f9957e990d028607019</td>\n",
       "      <td>52006a9383bf149a4fb24226b173106f</td>\n",
       "      <td>shipped</td>\n",
       "      <td>2018-01-10 11:33:07</td>\n",
       "      <td>2018-01-11 02:32:30</td>\n",
       "      <td>2018-01-11 19:39:23</td>\n",
       "      <td>NaT</td>\n",
       "      <td>2018-02-07</td>\n",
       "    </tr>\n",
       "    <tr>\n",
       "      <th>...</th>\n",
       "      <td>...</td>\n",
       "      <td>...</td>\n",
       "      <td>...</td>\n",
       "      <td>...</td>\n",
       "      <td>...</td>\n",
       "      <td>...</td>\n",
       "      <td>...</td>\n",
       "      <td>...</td>\n",
       "    </tr>\n",
       "    <tr>\n",
       "      <th>99283</th>\n",
       "      <td>3a3cddda5a7c27851bd96c3313412840</td>\n",
       "      <td>0b0d6095c5555fe083844281f6b093bb</td>\n",
       "      <td>canceled</td>\n",
       "      <td>2018-08-31 16:13:44</td>\n",
       "      <td>NaT</td>\n",
       "      <td>NaT</td>\n",
       "      <td>NaT</td>\n",
       "      <td>2018-10-01</td>\n",
       "    </tr>\n",
       "    <tr>\n",
       "      <th>99313</th>\n",
       "      <td>e9e64a17afa9653aacf2616d94c005b8</td>\n",
       "      <td>b4cd0522e632e481f8eaf766a2646e86</td>\n",
       "      <td>processing</td>\n",
       "      <td>2018-01-05 23:07:24</td>\n",
       "      <td>2018-01-09 07:18:05</td>\n",
       "      <td>NaT</td>\n",
       "      <td>NaT</td>\n",
       "      <td>2018-02-06</td>\n",
       "    </tr>\n",
       "    <tr>\n",
       "      <th>99347</th>\n",
       "      <td>a89abace0dcc01eeb267a9660b5ac126</td>\n",
       "      <td>2f0524a7b1b3845a1a57fcf3910c4333</td>\n",
       "      <td>canceled</td>\n",
       "      <td>2018-09-06 18:45:47</td>\n",
       "      <td>NaT</td>\n",
       "      <td>NaT</td>\n",
       "      <td>NaT</td>\n",
       "      <td>2018-09-27</td>\n",
       "    </tr>\n",
       "    <tr>\n",
       "      <th>99348</th>\n",
       "      <td>a69ba794cc7deb415c3e15a0a3877e69</td>\n",
       "      <td>726f0894b5becdf952ea537d5266e543</td>\n",
       "      <td>unavailable</td>\n",
       "      <td>2017-08-23 16:28:04</td>\n",
       "      <td>2017-08-28 15:44:47</td>\n",
       "      <td>NaT</td>\n",
       "      <td>NaT</td>\n",
       "      <td>2017-09-15</td>\n",
       "    </tr>\n",
       "    <tr>\n",
       "      <th>99415</th>\n",
       "      <td>5fabc81b6322c8443648e1b21a6fef21</td>\n",
       "      <td>32c9df889d41b0ee8309a5efb6855dcb</td>\n",
       "      <td>unavailable</td>\n",
       "      <td>2017-10-10 10:50:03</td>\n",
       "      <td>2017-10-14 18:35:57</td>\n",
       "      <td>NaT</td>\n",
       "      <td>NaT</td>\n",
       "      <td>2017-10-23</td>\n",
       "    </tr>\n",
       "  </tbody>\n",
       "</table>\n",
       "<p>2965 rows × 8 columns</p>\n",
       "</div>"
      ],
      "text/plain": [
       "                               order_id                       customer_id  \\\n",
       "6      136cce7faa42fdb2cefd53fdc79a6098  ed0271e0b7da060a393796590e7b737a   \n",
       "44     ee64d42b8cf066f35eac1cf57de1aa85  caded193e8e47b8362864762a83db3c5   \n",
       "103    0760a852e4e9d89eb77bf631eaaf1c84  d2a79636084590b7465af8ab374a8cf5   \n",
       "128    15bed8e2fec7fdbadb186b57c46c92f2  f3f0e613e0bdb9c7cee75504f0f90679   \n",
       "154    6942b8da583c2f9957e990d028607019  52006a9383bf149a4fb24226b173106f   \n",
       "...                                 ...                               ...   \n",
       "99283  3a3cddda5a7c27851bd96c3313412840  0b0d6095c5555fe083844281f6b093bb   \n",
       "99313  e9e64a17afa9653aacf2616d94c005b8  b4cd0522e632e481f8eaf766a2646e86   \n",
       "99347  a89abace0dcc01eeb267a9660b5ac126  2f0524a7b1b3845a1a57fcf3910c4333   \n",
       "99348  a69ba794cc7deb415c3e15a0a3877e69  726f0894b5becdf952ea537d5266e543   \n",
       "99415  5fabc81b6322c8443648e1b21a6fef21  32c9df889d41b0ee8309a5efb6855dcb   \n",
       "\n",
       "      order_status order_purchase_timestamp   order_approved_at  \\\n",
       "6         invoiced      2017-04-11 12:22:08 2017-04-13 13:25:17   \n",
       "44         shipped      2018-06-04 16:44:48 2018-06-05 04:31:18   \n",
       "103       invoiced      2018-08-03 17:44:42 2018-08-07 06:15:14   \n",
       "128     processing      2017-09-03 14:22:03 2017-09-03 14:30:09   \n",
       "154        shipped      2018-01-10 11:33:07 2018-01-11 02:32:30   \n",
       "...            ...                      ...                 ...   \n",
       "99283     canceled      2018-08-31 16:13:44                 NaT   \n",
       "99313   processing      2018-01-05 23:07:24 2018-01-09 07:18:05   \n",
       "99347     canceled      2018-09-06 18:45:47                 NaT   \n",
       "99348  unavailable      2017-08-23 16:28:04 2017-08-28 15:44:47   \n",
       "99415  unavailable      2017-10-10 10:50:03 2017-10-14 18:35:57   \n",
       "\n",
       "      order_delivered_carrier_date order_delivered_customer_date  \\\n",
       "6                              NaT                           NaT   \n",
       "44             2018-06-05 14:32:00                           NaT   \n",
       "103                            NaT                           NaT   \n",
       "128                            NaT                           NaT   \n",
       "154            2018-01-11 19:39:23                           NaT   \n",
       "...                            ...                           ...   \n",
       "99283                          NaT                           NaT   \n",
       "99313                          NaT                           NaT   \n",
       "99347                          NaT                           NaT   \n",
       "99348                          NaT                           NaT   \n",
       "99415                          NaT                           NaT   \n",
       "\n",
       "      order_estimated_delivery_date  \n",
       "6                        2017-05-09  \n",
       "44                       2018-06-28  \n",
       "103                      2018-08-21  \n",
       "128                      2017-10-03  \n",
       "154                      2018-02-07  \n",
       "...                             ...  \n",
       "99283                    2018-10-01  \n",
       "99313                    2018-02-06  \n",
       "99347                    2018-09-27  \n",
       "99348                    2017-09-15  \n",
       "99415                    2017-10-23  \n",
       "\n",
       "[2965 rows x 8 columns]"
      ]
     },
     "execution_count": 140,
     "metadata": {},
     "output_type": "execute_result"
    }
   ],
   "source": [
    "#Mengecek value data yang kolom order delivered customer date nya kosong atau null\n",
    "orders_df[orders_df.order_delivered_customer_date.isna()]"
   ]
  },
  {
   "cell_type": "code",
   "execution_count": 141,
   "metadata": {
    "id": "lIqkMqsDN2ic"
   },
   "outputs": [],
   "source": [
    "#Menghilangkan missing value pada beberapa kolom datetime\n",
    "orders_df.dropna(axis=0, inplace=True)"
   ]
  },
  {
   "cell_type": "code",
   "execution_count": 142,
   "metadata": {
    "colab": {
     "base_uri": "https://localhost:8080/",
     "height": 335
    },
    "id": "H5pqBjs5Q23U",
    "outputId": "43e90d35-7e66-4374-ebd5-0f7ad96b3e62"
   },
   "outputs": [
    {
     "data": {
      "text/plain": [
       "order_id                         0\n",
       "customer_id                      0\n",
       "order_status                     0\n",
       "order_purchase_timestamp         0\n",
       "order_approved_at                0\n",
       "order_delivered_carrier_date     0\n",
       "order_delivered_customer_date    0\n",
       "order_estimated_delivery_date    0\n",
       "dtype: int64"
      ]
     },
     "execution_count": 142,
     "metadata": {},
     "output_type": "execute_result"
    }
   ],
   "source": [
    "#Mengecek apakah masih ada missing value\n",
    "orders_df.isna().sum()"
   ]
  },
  {
   "cell_type": "markdown",
   "metadata": {
    "id": "Q_5ejIqckiSP"
   },
   "source": [
    "**Insight:**\n",
    "- Pembersihan data dengan masalah tipe data yang salah dilakukan dengan cara mengubah seluruh kolom yang value sebenarnya adalah datetime diubah menggunakan looping dan fungsi to_datetime pada library pandas pada seluruh kolom yang termasuk.\n",
    "- Penanganan missing value pada dataframe orders_df dilakukan dengan mendrop atau menghapus seluruh data yang memiliki missing value, agar tidak terjadi anomali pada data nantinya. Contohnya order dengan status order cancelled atau unavailable tentu tidak ada waktu pengirimannya, approvalnya juga tentu tidak tersedia karena order dibatalkan.\n",
    "- Contoh lain pada kolom \"order_delivered_carrier_date\" dengan status \"invoiced' tentu akan tidak memiliki nilai karena pesanan belum terbayar dan otomatis belum terkirim.\n",
    "- Contoh lain pada kolom \"order_delivered_customer_date\" rata2 dengan status \"shipped\" atau \"processed\", nah tentu tanggal diterima oleh pelanggan atau customer belum tersedia karena pesanan masih diproses atau dikirim."
   ]
  },
  {
   "cell_type": "markdown",
   "metadata": {
    "id": "xz93TPF8TT80"
   },
   "source": [
    "#### Membersihkan data pada dataframe payments (pembayaran)\n",
    "\n"
   ]
  },
  {
   "cell_type": "code",
   "execution_count": 143,
   "metadata": {
    "colab": {
     "base_uri": "https://localhost:8080/",
     "height": 112
    },
    "id": "pAdTNF9fTQt8",
    "outputId": "cc5bcd3a-c87c-48ad-c06b-d67cbad80c7e"
   },
   "outputs": [
    {
     "data": {
      "text/html": [
       "<div>\n",
       "<style scoped>\n",
       "    .dataframe tbody tr th:only-of-type {\n",
       "        vertical-align: middle;\n",
       "    }\n",
       "\n",
       "    .dataframe tbody tr th {\n",
       "        vertical-align: top;\n",
       "    }\n",
       "\n",
       "    .dataframe thead th {\n",
       "        text-align: right;\n",
       "    }\n",
       "</style>\n",
       "<table border=\"1\" class=\"dataframe\">\n",
       "  <thead>\n",
       "    <tr style=\"text-align: right;\">\n",
       "      <th></th>\n",
       "      <th>order_id</th>\n",
       "      <th>payment_sequential</th>\n",
       "      <th>payment_type</th>\n",
       "      <th>payment_installments</th>\n",
       "      <th>payment_value</th>\n",
       "    </tr>\n",
       "  </thead>\n",
       "  <tbody>\n",
       "    <tr>\n",
       "      <th>46982</th>\n",
       "      <td>744bade1fcf9ff3f31d860ace076d422</td>\n",
       "      <td>2</td>\n",
       "      <td>credit_card</td>\n",
       "      <td>0</td>\n",
       "      <td>58.69</td>\n",
       "    </tr>\n",
       "    <tr>\n",
       "      <th>79014</th>\n",
       "      <td>1a57108394169c0b47d8f876acc9ba2d</td>\n",
       "      <td>2</td>\n",
       "      <td>credit_card</td>\n",
       "      <td>0</td>\n",
       "      <td>129.94</td>\n",
       "    </tr>\n",
       "  </tbody>\n",
       "</table>\n",
       "</div>"
      ],
      "text/plain": [
       "                               order_id  payment_sequential payment_type  \\\n",
       "46982  744bade1fcf9ff3f31d860ace076d422                   2  credit_card   \n",
       "79014  1a57108394169c0b47d8f876acc9ba2d                   2  credit_card   \n",
       "\n",
       "       payment_installments  payment_value  \n",
       "46982                     0          58.69  \n",
       "79014                     0         129.94  "
      ]
     },
     "execution_count": 143,
     "metadata": {},
     "output_type": "execute_result"
    }
   ],
   "source": [
    "#Menangani inaccurate value atau anomaly pada kolom payment_installments (Berapa kali cicilan atau pembayaran dilakukan)\n",
    "payments_df[payments_df.payment_installments == payments_df.payment_installments.min()]"
   ]
  },
  {
   "cell_type": "code",
   "execution_count": 144,
   "metadata": {
    "colab": {
     "base_uri": "https://localhost:8080/",
     "height": 868
    },
    "id": "XqKIMnyoUVGc",
    "outputId": "c8d104fc-888c-4389-c5b5-e73305c30297"
   },
   "outputs": [
    {
     "data": {
      "text/plain": [
       "payment_installments\n",
       "1     52546\n",
       "2     12413\n",
       "3     10461\n",
       "4      7098\n",
       "10     5328\n",
       "5      5239\n",
       "8      4268\n",
       "6      3920\n",
       "7      1626\n",
       "9       644\n",
       "12      133\n",
       "15       74\n",
       "18       27\n",
       "11       23\n",
       "24       18\n",
       "20       17\n",
       "13       16\n",
       "14       15\n",
       "17        8\n",
       "16        5\n",
       "21        3\n",
       "0         2\n",
       "22        1\n",
       "23        1\n",
       "Name: count, dtype: int64"
      ]
     },
     "execution_count": 144,
     "metadata": {},
     "output_type": "execute_result"
    }
   ],
   "source": [
    "#Menghitung frekuensi masing2 nilai unik dari kolom payment installments\n",
    "payments_df.payment_installments.value_counts()"
   ]
  },
  {
   "cell_type": "code",
   "execution_count": 145,
   "metadata": {
    "colab": {
     "base_uri": "https://localhost:8080/"
    },
    "id": "v3Lrdpk8VOz6",
    "outputId": "a87173c3-4057-40af-8923-5564edb9a463"
   },
   "outputs": [],
   "source": [
    "#Mengganti nilai minimal atau anomaly (0) menjadi 1 pada kolom payment installments (Tipe Pembayaran)\n",
    "payments_df[\"payment_installments\"] = payments_df[\"payment_installments\"].replace(payments_df[\"payment_installments\"].min(), 1)"
   ]
  },
  {
   "cell_type": "code",
   "execution_count": 146,
   "metadata": {
    "colab": {
     "base_uri": "https://localhost:8080/",
     "height": 300
    },
    "id": "wDXKGnPAZAAM",
    "outputId": "bc0d70a5-1a70-46eb-fb4a-a8ec6e568b39"
   },
   "outputs": [
    {
     "data": {
      "text/html": [
       "<div>\n",
       "<style scoped>\n",
       "    .dataframe tbody tr th:only-of-type {\n",
       "        vertical-align: middle;\n",
       "    }\n",
       "\n",
       "    .dataframe tbody tr th {\n",
       "        vertical-align: top;\n",
       "    }\n",
       "\n",
       "    .dataframe thead th {\n",
       "        text-align: right;\n",
       "    }\n",
       "</style>\n",
       "<table border=\"1\" class=\"dataframe\">\n",
       "  <thead>\n",
       "    <tr style=\"text-align: right;\">\n",
       "      <th></th>\n",
       "      <th>payment_sequential</th>\n",
       "      <th>payment_installments</th>\n",
       "      <th>payment_value</th>\n",
       "    </tr>\n",
       "  </thead>\n",
       "  <tbody>\n",
       "    <tr>\n",
       "      <th>count</th>\n",
       "      <td>103886.000000</td>\n",
       "      <td>103886.000000</td>\n",
       "      <td>103886.000000</td>\n",
       "    </tr>\n",
       "    <tr>\n",
       "      <th>mean</th>\n",
       "      <td>1.092679</td>\n",
       "      <td>2.853368</td>\n",
       "      <td>154.100380</td>\n",
       "    </tr>\n",
       "    <tr>\n",
       "      <th>std</th>\n",
       "      <td>0.706584</td>\n",
       "      <td>2.687034</td>\n",
       "      <td>217.494064</td>\n",
       "    </tr>\n",
       "    <tr>\n",
       "      <th>min</th>\n",
       "      <td>1.000000</td>\n",
       "      <td>1.000000</td>\n",
       "      <td>0.000000</td>\n",
       "    </tr>\n",
       "    <tr>\n",
       "      <th>25%</th>\n",
       "      <td>1.000000</td>\n",
       "      <td>1.000000</td>\n",
       "      <td>56.790000</td>\n",
       "    </tr>\n",
       "    <tr>\n",
       "      <th>50%</th>\n",
       "      <td>1.000000</td>\n",
       "      <td>1.000000</td>\n",
       "      <td>100.000000</td>\n",
       "    </tr>\n",
       "    <tr>\n",
       "      <th>75%</th>\n",
       "      <td>1.000000</td>\n",
       "      <td>4.000000</td>\n",
       "      <td>171.837500</td>\n",
       "    </tr>\n",
       "    <tr>\n",
       "      <th>max</th>\n",
       "      <td>29.000000</td>\n",
       "      <td>24.000000</td>\n",
       "      <td>13664.080000</td>\n",
       "    </tr>\n",
       "  </tbody>\n",
       "</table>\n",
       "</div>"
      ],
      "text/plain": [
       "       payment_sequential  payment_installments  payment_value\n",
       "count       103886.000000         103886.000000  103886.000000\n",
       "mean             1.092679              2.853368     154.100380\n",
       "std              0.706584              2.687034     217.494064\n",
       "min              1.000000              1.000000       0.000000\n",
       "25%              1.000000              1.000000      56.790000\n",
       "50%              1.000000              1.000000     100.000000\n",
       "75%              1.000000              4.000000     171.837500\n",
       "max             29.000000             24.000000   13664.080000"
      ]
     },
     "execution_count": 146,
     "metadata": {},
     "output_type": "execute_result"
    }
   ],
   "source": [
    "#Mengecek Parameter Statistik\n",
    "payments_df.describe()"
   ]
  },
  {
   "cell_type": "markdown",
   "metadata": {
    "id": "XaNhnMR3RAMw"
   },
   "source": [
    "**Insight:**\n",
    "- Penanganan inaccurate value dan anomaly pada kolom payment_installments dimana kolom ini menggambarkan berapa kali pembayaran atau cicilan yang dilakukan oleh customer untuk membayar pesanan. Disini nilai minimalnya adalah 0, ini merupakan sebuah anomali dimana pembayaran atau cicilan transaksi minimal adalah 1x (sekali) pembayaran dan tidak mungkin 0x pembayaran.\n",
    "- Nilai minimal ini saya ganti dengan nilai yang paling sering muncul dan juga mungkin nilai umum dari transaksi dilakukan yaitu 1x (sekali), dimana ada 2 data dilakukan replace menjadi nilai 1 pada kolom payment_installments."
   ]
  },
  {
   "cell_type": "markdown",
   "metadata": {
    "id": "6-ekzbsAZ8Br"
   },
   "source": [
    "#### Membersihkan data pada dataframe products"
   ]
  },
  {
   "cell_type": "code",
   "execution_count": 147,
   "metadata": {
    "colab": {
     "base_uri": "https://localhost:8080/"
    },
    "id": "_S7EWVWVbAbz",
    "outputId": "74f2a969-a81c-49d9-b8ee-da5f2e006fc0"
   },
   "outputs": [],
   "source": [
    "#Mengisi value kolom kategorikal product_category_name\n",
    "products_df[\"product_category_name\"] = products_df[\"product_category_name\"].fillna(\"Unknown\")"
   ]
  },
  {
   "cell_type": "code",
   "execution_count": 148,
   "metadata": {
    "colab": {
     "base_uri": "https://localhost:8080/",
     "height": 320
    },
    "id": "oHPxaOOoZ7UD",
    "outputId": "5e1c37ee-8336-40e8-c6a5-4dbc1c37a0c0"
   },
   "outputs": [
    {
     "data": {
      "text/html": [
       "<div>\n",
       "<style scoped>\n",
       "    .dataframe tbody tr th:only-of-type {\n",
       "        vertical-align: middle;\n",
       "    }\n",
       "\n",
       "    .dataframe tbody tr th {\n",
       "        vertical-align: top;\n",
       "    }\n",
       "\n",
       "    .dataframe thead th {\n",
       "        text-align: right;\n",
       "    }\n",
       "</style>\n",
       "<table border=\"1\" class=\"dataframe\">\n",
       "  <thead>\n",
       "    <tr style=\"text-align: right;\">\n",
       "      <th></th>\n",
       "      <th>product_name_lenght</th>\n",
       "      <th>product_description_lenght</th>\n",
       "      <th>product_photos_qty</th>\n",
       "      <th>product_weight_g</th>\n",
       "      <th>product_length_cm</th>\n",
       "      <th>product_height_cm</th>\n",
       "      <th>product_width_cm</th>\n",
       "    </tr>\n",
       "  </thead>\n",
       "  <tbody>\n",
       "    <tr>\n",
       "      <th>count</th>\n",
       "      <td>32341.000000</td>\n",
       "      <td>32341.000000</td>\n",
       "      <td>32341.000000</td>\n",
       "      <td>32949.000000</td>\n",
       "      <td>32949.000000</td>\n",
       "      <td>32949.000000</td>\n",
       "      <td>32949.000000</td>\n",
       "    </tr>\n",
       "    <tr>\n",
       "      <th>mean</th>\n",
       "      <td>48.476949</td>\n",
       "      <td>771.495285</td>\n",
       "      <td>2.188986</td>\n",
       "      <td>2276.472488</td>\n",
       "      <td>30.815078</td>\n",
       "      <td>16.937661</td>\n",
       "      <td>23.196728</td>\n",
       "    </tr>\n",
       "    <tr>\n",
       "      <th>std</th>\n",
       "      <td>10.245741</td>\n",
       "      <td>635.115225</td>\n",
       "      <td>1.736766</td>\n",
       "      <td>4282.038731</td>\n",
       "      <td>16.914458</td>\n",
       "      <td>13.637554</td>\n",
       "      <td>12.079047</td>\n",
       "    </tr>\n",
       "    <tr>\n",
       "      <th>min</th>\n",
       "      <td>5.000000</td>\n",
       "      <td>4.000000</td>\n",
       "      <td>1.000000</td>\n",
       "      <td>0.000000</td>\n",
       "      <td>7.000000</td>\n",
       "      <td>2.000000</td>\n",
       "      <td>6.000000</td>\n",
       "    </tr>\n",
       "    <tr>\n",
       "      <th>25%</th>\n",
       "      <td>42.000000</td>\n",
       "      <td>339.000000</td>\n",
       "      <td>1.000000</td>\n",
       "      <td>300.000000</td>\n",
       "      <td>18.000000</td>\n",
       "      <td>8.000000</td>\n",
       "      <td>15.000000</td>\n",
       "    </tr>\n",
       "    <tr>\n",
       "      <th>50%</th>\n",
       "      <td>51.000000</td>\n",
       "      <td>595.000000</td>\n",
       "      <td>1.000000</td>\n",
       "      <td>700.000000</td>\n",
       "      <td>25.000000</td>\n",
       "      <td>13.000000</td>\n",
       "      <td>20.000000</td>\n",
       "    </tr>\n",
       "    <tr>\n",
       "      <th>75%</th>\n",
       "      <td>57.000000</td>\n",
       "      <td>972.000000</td>\n",
       "      <td>3.000000</td>\n",
       "      <td>1900.000000</td>\n",
       "      <td>38.000000</td>\n",
       "      <td>21.000000</td>\n",
       "      <td>30.000000</td>\n",
       "    </tr>\n",
       "    <tr>\n",
       "      <th>max</th>\n",
       "      <td>76.000000</td>\n",
       "      <td>3992.000000</td>\n",
       "      <td>20.000000</td>\n",
       "      <td>40425.000000</td>\n",
       "      <td>105.000000</td>\n",
       "      <td>105.000000</td>\n",
       "      <td>118.000000</td>\n",
       "    </tr>\n",
       "  </tbody>\n",
       "</table>\n",
       "</div>"
      ],
      "text/plain": [
       "       product_name_lenght  product_description_lenght  product_photos_qty  \\\n",
       "count         32341.000000                32341.000000        32341.000000   \n",
       "mean             48.476949                  771.495285            2.188986   \n",
       "std              10.245741                  635.115225            1.736766   \n",
       "min               5.000000                    4.000000            1.000000   \n",
       "25%              42.000000                  339.000000            1.000000   \n",
       "50%              51.000000                  595.000000            1.000000   \n",
       "75%              57.000000                  972.000000            3.000000   \n",
       "max              76.000000                 3992.000000           20.000000   \n",
       "\n",
       "       product_weight_g  product_length_cm  product_height_cm  \\\n",
       "count      32949.000000       32949.000000       32949.000000   \n",
       "mean        2276.472488          30.815078          16.937661   \n",
       "std         4282.038731          16.914458          13.637554   \n",
       "min            0.000000           7.000000           2.000000   \n",
       "25%          300.000000          18.000000           8.000000   \n",
       "50%          700.000000          25.000000          13.000000   \n",
       "75%         1900.000000          38.000000          21.000000   \n",
       "max        40425.000000         105.000000         105.000000   \n",
       "\n",
       "       product_width_cm  \n",
       "count      32949.000000  \n",
       "mean          23.196728  \n",
       "std           12.079047  \n",
       "min            6.000000  \n",
       "25%           15.000000  \n",
       "50%           20.000000  \n",
       "75%           30.000000  \n",
       "max          118.000000  "
      ]
     },
     "execution_count": 148,
     "metadata": {},
     "output_type": "execute_result"
    }
   ],
   "source": [
    "#Mengecek Parameter Statistik Dataframe\n",
    "products_df.describe()"
   ]
  },
  {
   "cell_type": "code",
   "execution_count": 149,
   "metadata": {
    "colab": {
     "base_uri": "https://localhost:8080/"
    },
    "id": "mK6TbHsXc9xX",
    "outputId": "be56c0b4-324e-4559-ea29-428a54eadd4b"
   },
   "outputs": [],
   "source": [
    "#Mengubah missing value kolom numerik dengan median\n",
    "missing_columns = [\n",
    "    \"product_name_lenght\",\n",
    "    \"product_description_lenght\",\n",
    "    \"product_photos_qty\",\n",
    "    \"product_weight_g\",\n",
    "    \"product_length_cm\",\n",
    "    \"product_height_cm\",\n",
    "    \"product_width_cm\"\n",
    "]\n",
    "\n",
    "for col in missing_columns:\n",
    "    products_df[col] = products_df[col].fillna(products_df[col].median())\n",
    "\n"
   ]
  },
  {
   "cell_type": "code",
   "execution_count": 150,
   "metadata": {
    "colab": {
     "base_uri": "https://localhost:8080/",
     "height": 366
    },
    "id": "aeOxF3sceDxX",
    "outputId": "a831b911-8104-4c94-f0fd-81bb1be0b8ef"
   },
   "outputs": [
    {
     "data": {
      "text/plain": [
       "product_id                    0\n",
       "product_category_name         0\n",
       "product_name_lenght           0\n",
       "product_description_lenght    0\n",
       "product_photos_qty            0\n",
       "product_weight_g              0\n",
       "product_length_cm             0\n",
       "product_height_cm             0\n",
       "product_width_cm              0\n",
       "dtype: int64"
      ]
     },
     "execution_count": 150,
     "metadata": {},
     "output_type": "execute_result"
    }
   ],
   "source": [
    "#Mengecek apakah masih ada missing value\n",
    "products_df.isna().sum()"
   ]
  },
  {
   "cell_type": "markdown",
   "metadata": {
    "id": "DXZ7S9Y3bO6P"
   },
   "source": [
    "**Insight:**\n",
    "- Pada kolom non-numerik atau kategorikal yaitu product_category_name, saya merasa informasi di dalamnya masih penting dan berkaitan dengan tabel atau dataframe lain seperti ordered_product sehingga tidak dapat didrop. Disini solusi yang saya ambil adalah mengisi missing value tersebut dengan nilai \"Unknown\" untuk mewakili nama kategori produk yang tidak ada bisa jadi karena kesalahan input atau kesalahan pemrosesan sistem.\n",
    "- Pada kolom numerik atau sisa kolom yang missing value disini saya mengisikan nilainya dengan nilai median, karena semua datanya pada kolom tersebut tidak berdistribusi normal atau median != mean."
   ]
  },
  {
   "cell_type": "markdown",
   "metadata": {
    "id": "57po_eASbQhi"
   },
   "source": [
    "#### Membersihkan data pada dataframe ordered_products"
   ]
  },
  {
   "cell_type": "code",
   "execution_count": 151,
   "metadata": {
    "id": "SrbXmAF7bWei"
   },
   "outputs": [],
   "source": [
    "#Mengubah kolom shipping_limit_date menjadi datetime\n",
    "ordered_products_df[\"shipping_limit_date\"] = pd.to_datetime(ordered_products_df['shipping_limit_date'])"
   ]
  },
  {
   "cell_type": "code",
   "execution_count": 152,
   "metadata": {
    "colab": {
     "base_uri": "https://localhost:8080/"
    },
    "id": "xOMrnq3ccD5i",
    "outputId": "01dc5749-3398-4d51-be3b-d2079d06c3c2"
   },
   "outputs": [
    {
     "name": "stdout",
     "output_type": "stream",
     "text": [
      "<class 'pandas.core.frame.DataFrame'>\n",
      "RangeIndex: 112650 entries, 0 to 112649\n",
      "Data columns (total 7 columns):\n",
      " #   Column               Non-Null Count   Dtype         \n",
      "---  ------               --------------   -----         \n",
      " 0   order_id             112650 non-null  object        \n",
      " 1   order_item_id        112650 non-null  int64         \n",
      " 2   product_id           112650 non-null  object        \n",
      " 3   seller_id            112650 non-null  object        \n",
      " 4   shipping_limit_date  112650 non-null  datetime64[ns]\n",
      " 5   price                112650 non-null  float64       \n",
      " 6   freight_value        112650 non-null  float64       \n",
      "dtypes: datetime64[ns](1), float64(2), int64(1), object(3)\n",
      "memory usage: 6.0+ MB\n"
     ]
    }
   ],
   "source": [
    "#Memastikan tipe data berubah menjadi datetime\n",
    "ordered_products_df.info()"
   ]
  },
  {
   "cell_type": "markdown",
   "metadata": {
    "id": "HxaOT7IAbPZp"
   },
   "source": [
    "**Insight:**\n",
    "- Penanganan tipe data yang tidak sesuai yaitu pada kolom shipping_limit_date yang bertipe data object, padahal seharusnya bertipe data datetime. Penanganan dilakukan sama seperti sebelumnya pada pembersihan data di orders yaitu memanfaatkan fungsi to_datetime di library panda pada kolom yang diubah sehingga tipe data berganti menjadi datetime."
   ]
  },
  {
   "cell_type": "markdown",
   "metadata": {
    "id": "gp-Y6wU38DC1"
   },
   "source": [
    "## Exploratory Data Analysis (EDA)"
   ]
  },
  {
   "cell_type": "markdown",
   "metadata": {
    "id": "MW7WF2kr8DC1"
   },
   "source": [
    "### Explore ..."
   ]
  },
  {
   "cell_type": "markdown",
   "metadata": {
    "id": "WQl0lPv-HOha"
   },
   "source": [
    "#### Eksplorasi data customers"
   ]
  },
  {
   "cell_type": "code",
   "execution_count": 153,
   "metadata": {
    "colab": {
     "base_uri": "https://localhost:8080/",
     "height": 394
    },
    "id": "e9CQCZjk8DC2",
    "outputId": "a8bf5aa6-1fa4-4911-b813-bf28a4d831a9"
   },
   "outputs": [
    {
     "data": {
      "text/html": [
       "<div>\n",
       "<style scoped>\n",
       "    .dataframe tbody tr th:only-of-type {\n",
       "        vertical-align: middle;\n",
       "    }\n",
       "\n",
       "    .dataframe tbody tr th {\n",
       "        vertical-align: top;\n",
       "    }\n",
       "\n",
       "    .dataframe thead th {\n",
       "        text-align: right;\n",
       "    }\n",
       "</style>\n",
       "<table border=\"1\" class=\"dataframe\">\n",
       "  <thead>\n",
       "    <tr style=\"text-align: right;\">\n",
       "      <th></th>\n",
       "      <th>customer_id</th>\n",
       "      <th>customer_unique_id</th>\n",
       "      <th>customer_zip_code_prefix</th>\n",
       "      <th>customer_city</th>\n",
       "      <th>customer_state</th>\n",
       "    </tr>\n",
       "  </thead>\n",
       "  <tbody>\n",
       "    <tr>\n",
       "      <th>count</th>\n",
       "      <td>99441</td>\n",
       "      <td>99441</td>\n",
       "      <td>99441.000000</td>\n",
       "      <td>99441</td>\n",
       "      <td>99441</td>\n",
       "    </tr>\n",
       "    <tr>\n",
       "      <th>unique</th>\n",
       "      <td>99441</td>\n",
       "      <td>96096</td>\n",
       "      <td>NaN</td>\n",
       "      <td>4119</td>\n",
       "      <td>27</td>\n",
       "    </tr>\n",
       "    <tr>\n",
       "      <th>top</th>\n",
       "      <td>06b8999e2fba1a1fbc88172c00ba8bc7</td>\n",
       "      <td>8d50f5eadf50201ccdcedfb9e2ac8455</td>\n",
       "      <td>NaN</td>\n",
       "      <td>sao paulo</td>\n",
       "      <td>SP</td>\n",
       "    </tr>\n",
       "    <tr>\n",
       "      <th>freq</th>\n",
       "      <td>1</td>\n",
       "      <td>17</td>\n",
       "      <td>NaN</td>\n",
       "      <td>15540</td>\n",
       "      <td>41746</td>\n",
       "    </tr>\n",
       "    <tr>\n",
       "      <th>mean</th>\n",
       "      <td>NaN</td>\n",
       "      <td>NaN</td>\n",
       "      <td>35137.474583</td>\n",
       "      <td>NaN</td>\n",
       "      <td>NaN</td>\n",
       "    </tr>\n",
       "    <tr>\n",
       "      <th>std</th>\n",
       "      <td>NaN</td>\n",
       "      <td>NaN</td>\n",
       "      <td>29797.938996</td>\n",
       "      <td>NaN</td>\n",
       "      <td>NaN</td>\n",
       "    </tr>\n",
       "    <tr>\n",
       "      <th>min</th>\n",
       "      <td>NaN</td>\n",
       "      <td>NaN</td>\n",
       "      <td>1003.000000</td>\n",
       "      <td>NaN</td>\n",
       "      <td>NaN</td>\n",
       "    </tr>\n",
       "    <tr>\n",
       "      <th>25%</th>\n",
       "      <td>NaN</td>\n",
       "      <td>NaN</td>\n",
       "      <td>11347.000000</td>\n",
       "      <td>NaN</td>\n",
       "      <td>NaN</td>\n",
       "    </tr>\n",
       "    <tr>\n",
       "      <th>50%</th>\n",
       "      <td>NaN</td>\n",
       "      <td>NaN</td>\n",
       "      <td>24416.000000</td>\n",
       "      <td>NaN</td>\n",
       "      <td>NaN</td>\n",
       "    </tr>\n",
       "    <tr>\n",
       "      <th>75%</th>\n",
       "      <td>NaN</td>\n",
       "      <td>NaN</td>\n",
       "      <td>58900.000000</td>\n",
       "      <td>NaN</td>\n",
       "      <td>NaN</td>\n",
       "    </tr>\n",
       "    <tr>\n",
       "      <th>max</th>\n",
       "      <td>NaN</td>\n",
       "      <td>NaN</td>\n",
       "      <td>99990.000000</td>\n",
       "      <td>NaN</td>\n",
       "      <td>NaN</td>\n",
       "    </tr>\n",
       "  </tbody>\n",
       "</table>\n",
       "</div>"
      ],
      "text/plain": [
       "                             customer_id                customer_unique_id  \\\n",
       "count                              99441                             99441   \n",
       "unique                             99441                             96096   \n",
       "top     06b8999e2fba1a1fbc88172c00ba8bc7  8d50f5eadf50201ccdcedfb9e2ac8455   \n",
       "freq                                   1                                17   \n",
       "mean                                 NaN                               NaN   \n",
       "std                                  NaN                               NaN   \n",
       "min                                  NaN                               NaN   \n",
       "25%                                  NaN                               NaN   \n",
       "50%                                  NaN                               NaN   \n",
       "75%                                  NaN                               NaN   \n",
       "max                                  NaN                               NaN   \n",
       "\n",
       "        customer_zip_code_prefix customer_city customer_state  \n",
       "count               99441.000000         99441          99441  \n",
       "unique                       NaN          4119             27  \n",
       "top                          NaN     sao paulo             SP  \n",
       "freq                         NaN         15540          41746  \n",
       "mean                35137.474583           NaN            NaN  \n",
       "std                 29797.938996           NaN            NaN  \n",
       "min                  1003.000000           NaN            NaN  \n",
       "25%                 11347.000000           NaN            NaN  \n",
       "50%                 24416.000000           NaN            NaN  \n",
       "75%                 58900.000000           NaN            NaN  \n",
       "max                 99990.000000           NaN            NaN  "
      ]
     },
     "execution_count": 153,
     "metadata": {},
     "output_type": "execute_result"
    }
   ],
   "source": [
    "#Melihat rangkuman parameter statistik data customers\n",
    "customers_df.describe(include=\"all\")"
   ]
  },
  {
   "cell_type": "code",
   "execution_count": 154,
   "metadata": {
    "colab": {
     "base_uri": "https://localhost:8080/",
     "height": 489
    },
    "id": "0UjK429VgcwX",
    "outputId": "1a1f38d5-558e-4363-cf9e-50657fe67c82"
   },
   "outputs": [
    {
     "data": {
      "text/plain": [
       "customer_city\n",
       "sao paulo         15540\n",
       "rio de janeiro     6882\n",
       "belo horizonte     2773\n",
       "brasilia           2131\n",
       "curitiba           1521\n",
       "                  ...  \n",
       "ibiara                1\n",
       "rio espera            1\n",
       "rio dos indios        1\n",
       "rio dos cedros        1\n",
       "lagoao                1\n",
       "Name: customer_id, Length: 4119, dtype: int64"
      ]
     },
     "execution_count": 154,
     "metadata": {},
     "output_type": "execute_result"
    }
   ],
   "source": [
    "#Melihat demografi pelanggan berdasarkan kota\n",
    "customers_df.groupby(by=\"customer_city\").customer_id.nunique().sort_values(ascending=False)"
   ]
  },
  {
   "cell_type": "code",
   "execution_count": 155,
   "metadata": {
    "colab": {
     "base_uri": "https://localhost:8080/",
     "height": 962
    },
    "id": "DqpSA1nKgkFO",
    "outputId": "bfa39c50-3a0c-4f5f-e2be-b871a95093db"
   },
   "outputs": [
    {
     "data": {
      "text/plain": [
       "customer_state\n",
       "SP    41746\n",
       "RJ    12852\n",
       "MG    11635\n",
       "RS     5466\n",
       "PR     5045\n",
       "SC     3637\n",
       "BA     3380\n",
       "DF     2140\n",
       "ES     2033\n",
       "GO     2020\n",
       "PE     1652\n",
       "CE     1336\n",
       "PA      975\n",
       "MT      907\n",
       "MA      747\n",
       "MS      715\n",
       "PB      536\n",
       "PI      495\n",
       "RN      485\n",
       "AL      413\n",
       "SE      350\n",
       "TO      280\n",
       "RO      253\n",
       "AM      148\n",
       "AC       81\n",
       "AP       68\n",
       "RR       46\n",
       "Name: customer_id, dtype: int64"
      ]
     },
     "execution_count": 155,
     "metadata": {},
     "output_type": "execute_result"
    }
   ],
   "source": [
    "#Melihat demografi pelanggan berdasarkan state\n",
    "customers_df.groupby(by=\"customer_state\").customer_id.nunique().sort_values(ascending=False)"
   ]
  },
  {
   "cell_type": "markdown",
   "metadata": {
    "id": "r1hyvQI6cQor"
   },
   "source": [
    "**Insight:**\n",
    "- Karena data customers hanya berisi object atau string(teks) dan hanya 1 numeriknya yaitu zip, dari deskripsi parameter statistik kita hanya bisa mengambil value yang paling sering keluar(modus) dari data tersebut. Contohnya kota sao paulo merupakan modus dari customer_city.\n",
    "- Customers dari perusahaan E-Commerce ini paling banyak dari kota Sao Paulo, disusul Rio de Janiero, dan Belo Horizonte. Sedangkan berdasarkan state, paling banyak dari SP, lalu RJ, dan MG."
   ]
  },
  {
   "cell_type": "markdown",
   "metadata": {
    "id": "6ObE7DpeH3HO"
   },
   "source": [
    "#### Mengeksplorasi data orders"
   ]
  },
  {
   "cell_type": "code",
   "execution_count": 156,
   "metadata": {
    "colab": {
     "base_uri": "https://localhost:8080/",
     "height": 226
    },
    "id": "AZhoyXisiuTi",
    "outputId": "be36dad9-6798-4d89-f840-49465b60d6f3"
   },
   "outputs": [
    {
     "data": {
      "text/html": [
       "<div>\n",
       "<style scoped>\n",
       "    .dataframe tbody tr th:only-of-type {\n",
       "        vertical-align: middle;\n",
       "    }\n",
       "\n",
       "    .dataframe tbody tr th {\n",
       "        vertical-align: top;\n",
       "    }\n",
       "\n",
       "    .dataframe thead th {\n",
       "        text-align: right;\n",
       "    }\n",
       "</style>\n",
       "<table border=\"1\" class=\"dataframe\">\n",
       "  <thead>\n",
       "    <tr style=\"text-align: right;\">\n",
       "      <th></th>\n",
       "      <th>order_id</th>\n",
       "      <th>customer_id</th>\n",
       "      <th>order_status</th>\n",
       "      <th>order_purchase_timestamp</th>\n",
       "      <th>order_approved_at</th>\n",
       "      <th>order_delivered_carrier_date</th>\n",
       "      <th>order_delivered_customer_date</th>\n",
       "      <th>order_estimated_delivery_date</th>\n",
       "    </tr>\n",
       "  </thead>\n",
       "  <tbody>\n",
       "    <tr>\n",
       "      <th>0</th>\n",
       "      <td>e481f51cbdc54678b7cc49136f2d6af7</td>\n",
       "      <td>9ef432eb6251297304e76186b10a928d</td>\n",
       "      <td>delivered</td>\n",
       "      <td>2017-10-02 10:56:33</td>\n",
       "      <td>2017-10-02 11:07:15</td>\n",
       "      <td>2017-10-04 19:55:00</td>\n",
       "      <td>2017-10-10 21:25:13</td>\n",
       "      <td>2017-10-18</td>\n",
       "    </tr>\n",
       "    <tr>\n",
       "      <th>1</th>\n",
       "      <td>53cdb2fc8bc7dce0b6741e2150273451</td>\n",
       "      <td>b0830fb4747a6c6d20dea0b8c802d7ef</td>\n",
       "      <td>delivered</td>\n",
       "      <td>2018-07-24 20:41:37</td>\n",
       "      <td>2018-07-26 03:24:27</td>\n",
       "      <td>2018-07-26 14:31:00</td>\n",
       "      <td>2018-08-07 15:27:45</td>\n",
       "      <td>2018-08-13</td>\n",
       "    </tr>\n",
       "    <tr>\n",
       "      <th>2</th>\n",
       "      <td>47770eb9100c2d0c44946d9cf07ec65d</td>\n",
       "      <td>41ce2a54c0b03bf3443c3d931a367089</td>\n",
       "      <td>delivered</td>\n",
       "      <td>2018-08-08 08:38:49</td>\n",
       "      <td>2018-08-08 08:55:23</td>\n",
       "      <td>2018-08-08 13:50:00</td>\n",
       "      <td>2018-08-17 18:06:29</td>\n",
       "      <td>2018-09-04</td>\n",
       "    </tr>\n",
       "    <tr>\n",
       "      <th>3</th>\n",
       "      <td>949d5b44dbf5de918fe9c16f97b45f8a</td>\n",
       "      <td>f88197465ea7920adcdbec7375364d82</td>\n",
       "      <td>delivered</td>\n",
       "      <td>2017-11-18 19:28:06</td>\n",
       "      <td>2017-11-18 19:45:59</td>\n",
       "      <td>2017-11-22 13:39:59</td>\n",
       "      <td>2017-12-02 00:28:42</td>\n",
       "      <td>2017-12-15</td>\n",
       "    </tr>\n",
       "    <tr>\n",
       "      <th>4</th>\n",
       "      <td>ad21c59c0840e6cb83a9ceb5573f8159</td>\n",
       "      <td>8ab97904e6daea8866dbdbc4fb7aad2c</td>\n",
       "      <td>delivered</td>\n",
       "      <td>2018-02-13 21:18:39</td>\n",
       "      <td>2018-02-13 22:20:29</td>\n",
       "      <td>2018-02-14 19:46:34</td>\n",
       "      <td>2018-02-16 18:17:02</td>\n",
       "      <td>2018-02-26</td>\n",
       "    </tr>\n",
       "  </tbody>\n",
       "</table>\n",
       "</div>"
      ],
      "text/plain": [
       "                           order_id                       customer_id  \\\n",
       "0  e481f51cbdc54678b7cc49136f2d6af7  9ef432eb6251297304e76186b10a928d   \n",
       "1  53cdb2fc8bc7dce0b6741e2150273451  b0830fb4747a6c6d20dea0b8c802d7ef   \n",
       "2  47770eb9100c2d0c44946d9cf07ec65d  41ce2a54c0b03bf3443c3d931a367089   \n",
       "3  949d5b44dbf5de918fe9c16f97b45f8a  f88197465ea7920adcdbec7375364d82   \n",
       "4  ad21c59c0840e6cb83a9ceb5573f8159  8ab97904e6daea8866dbdbc4fb7aad2c   \n",
       "\n",
       "  order_status order_purchase_timestamp   order_approved_at  \\\n",
       "0    delivered      2017-10-02 10:56:33 2017-10-02 11:07:15   \n",
       "1    delivered      2018-07-24 20:41:37 2018-07-26 03:24:27   \n",
       "2    delivered      2018-08-08 08:38:49 2018-08-08 08:55:23   \n",
       "3    delivered      2017-11-18 19:28:06 2017-11-18 19:45:59   \n",
       "4    delivered      2018-02-13 21:18:39 2018-02-13 22:20:29   \n",
       "\n",
       "  order_delivered_carrier_date order_delivered_customer_date  \\\n",
       "0          2017-10-04 19:55:00           2017-10-10 21:25:13   \n",
       "1          2018-07-26 14:31:00           2018-08-07 15:27:45   \n",
       "2          2018-08-08 13:50:00           2018-08-17 18:06:29   \n",
       "3          2017-11-22 13:39:59           2017-12-02 00:28:42   \n",
       "4          2018-02-14 19:46:34           2018-02-16 18:17:02   \n",
       "\n",
       "  order_estimated_delivery_date  \n",
       "0                    2017-10-18  \n",
       "1                    2018-08-13  \n",
       "2                    2018-09-04  \n",
       "3                    2017-12-15  \n",
       "4                    2018-02-26  "
      ]
     },
     "execution_count": 156,
     "metadata": {},
     "output_type": "execute_result"
    }
   ],
   "source": [
    "#Menampilkan baris awal dari data orders\n",
    "orders_df.head()"
   ]
  },
  {
   "cell_type": "markdown",
   "metadata": {
    "id": "1kwjBLaUIiI6"
   },
   "source": [
    "Mengeksplorasi kolom datetime yang ada di orders_df"
   ]
  },
  {
   "cell_type": "code",
   "execution_count": 157,
   "metadata": {
    "colab": {
     "base_uri": "https://localhost:8080/",
     "height": 243
    },
    "id": "zx4g7Y9OilTS",
    "outputId": "30f7a4d3-a83b-4191-acb4-8f44614481cd"
   },
   "outputs": [
    {
     "data": {
      "text/html": [
       "<div>\n",
       "<style scoped>\n",
       "    .dataframe tbody tr th:only-of-type {\n",
       "        vertical-align: middle;\n",
       "    }\n",
       "\n",
       "    .dataframe tbody tr th {\n",
       "        vertical-align: top;\n",
       "    }\n",
       "\n",
       "    .dataframe thead th {\n",
       "        text-align: right;\n",
       "    }\n",
       "</style>\n",
       "<table border=\"1\" class=\"dataframe\">\n",
       "  <thead>\n",
       "    <tr style=\"text-align: right;\">\n",
       "      <th></th>\n",
       "      <th>order_id</th>\n",
       "      <th>customer_id</th>\n",
       "      <th>order_status</th>\n",
       "      <th>order_purchase_timestamp</th>\n",
       "      <th>order_approved_at</th>\n",
       "      <th>order_delivered_carrier_date</th>\n",
       "      <th>order_delivered_customer_date</th>\n",
       "      <th>order_estimated_delivery_date</th>\n",
       "      <th>order_completed_time (days)</th>\n",
       "    </tr>\n",
       "  </thead>\n",
       "  <tbody>\n",
       "    <tr>\n",
       "      <th>0</th>\n",
       "      <td>e481f51cbdc54678b7cc49136f2d6af7</td>\n",
       "      <td>9ef432eb6251297304e76186b10a928d</td>\n",
       "      <td>delivered</td>\n",
       "      <td>2017-10-02 10:56:33</td>\n",
       "      <td>2017-10-02 11:07:15</td>\n",
       "      <td>2017-10-04 19:55:00</td>\n",
       "      <td>2017-10-10 21:25:13</td>\n",
       "      <td>2017-10-18</td>\n",
       "      <td>8.0</td>\n",
       "    </tr>\n",
       "    <tr>\n",
       "      <th>1</th>\n",
       "      <td>53cdb2fc8bc7dce0b6741e2150273451</td>\n",
       "      <td>b0830fb4747a6c6d20dea0b8c802d7ef</td>\n",
       "      <td>delivered</td>\n",
       "      <td>2018-07-24 20:41:37</td>\n",
       "      <td>2018-07-26 03:24:27</td>\n",
       "      <td>2018-07-26 14:31:00</td>\n",
       "      <td>2018-08-07 15:27:45</td>\n",
       "      <td>2018-08-13</td>\n",
       "      <td>13.0</td>\n",
       "    </tr>\n",
       "    <tr>\n",
       "      <th>2</th>\n",
       "      <td>47770eb9100c2d0c44946d9cf07ec65d</td>\n",
       "      <td>41ce2a54c0b03bf3443c3d931a367089</td>\n",
       "      <td>delivered</td>\n",
       "      <td>2018-08-08 08:38:49</td>\n",
       "      <td>2018-08-08 08:55:23</td>\n",
       "      <td>2018-08-08 13:50:00</td>\n",
       "      <td>2018-08-17 18:06:29</td>\n",
       "      <td>2018-09-04</td>\n",
       "      <td>9.0</td>\n",
       "    </tr>\n",
       "    <tr>\n",
       "      <th>3</th>\n",
       "      <td>949d5b44dbf5de918fe9c16f97b45f8a</td>\n",
       "      <td>f88197465ea7920adcdbec7375364d82</td>\n",
       "      <td>delivered</td>\n",
       "      <td>2017-11-18 19:28:06</td>\n",
       "      <td>2017-11-18 19:45:59</td>\n",
       "      <td>2017-11-22 13:39:59</td>\n",
       "      <td>2017-12-02 00:28:42</td>\n",
       "      <td>2017-12-15</td>\n",
       "      <td>13.0</td>\n",
       "    </tr>\n",
       "    <tr>\n",
       "      <th>4</th>\n",
       "      <td>ad21c59c0840e6cb83a9ceb5573f8159</td>\n",
       "      <td>8ab97904e6daea8866dbdbc4fb7aad2c</td>\n",
       "      <td>delivered</td>\n",
       "      <td>2018-02-13 21:18:39</td>\n",
       "      <td>2018-02-13 22:20:29</td>\n",
       "      <td>2018-02-14 19:46:34</td>\n",
       "      <td>2018-02-16 18:17:02</td>\n",
       "      <td>2018-02-26</td>\n",
       "      <td>3.0</td>\n",
       "    </tr>\n",
       "  </tbody>\n",
       "</table>\n",
       "</div>"
      ],
      "text/plain": [
       "                           order_id                       customer_id  \\\n",
       "0  e481f51cbdc54678b7cc49136f2d6af7  9ef432eb6251297304e76186b10a928d   \n",
       "1  53cdb2fc8bc7dce0b6741e2150273451  b0830fb4747a6c6d20dea0b8c802d7ef   \n",
       "2  47770eb9100c2d0c44946d9cf07ec65d  41ce2a54c0b03bf3443c3d931a367089   \n",
       "3  949d5b44dbf5de918fe9c16f97b45f8a  f88197465ea7920adcdbec7375364d82   \n",
       "4  ad21c59c0840e6cb83a9ceb5573f8159  8ab97904e6daea8866dbdbc4fb7aad2c   \n",
       "\n",
       "  order_status order_purchase_timestamp   order_approved_at  \\\n",
       "0    delivered      2017-10-02 10:56:33 2017-10-02 11:07:15   \n",
       "1    delivered      2018-07-24 20:41:37 2018-07-26 03:24:27   \n",
       "2    delivered      2018-08-08 08:38:49 2018-08-08 08:55:23   \n",
       "3    delivered      2017-11-18 19:28:06 2017-11-18 19:45:59   \n",
       "4    delivered      2018-02-13 21:18:39 2018-02-13 22:20:29   \n",
       "\n",
       "  order_delivered_carrier_date order_delivered_customer_date  \\\n",
       "0          2017-10-04 19:55:00           2017-10-10 21:25:13   \n",
       "1          2018-07-26 14:31:00           2018-08-07 15:27:45   \n",
       "2          2018-08-08 13:50:00           2018-08-17 18:06:29   \n",
       "3          2017-11-22 13:39:59           2017-12-02 00:28:42   \n",
       "4          2018-02-14 19:46:34           2018-02-16 18:17:02   \n",
       "\n",
       "  order_estimated_delivery_date  order_completed_time (days)  \n",
       "0                    2017-10-18                          8.0  \n",
       "1                    2018-08-13                         13.0  \n",
       "2                    2018-09-04                          9.0  \n",
       "3                    2017-12-15                         13.0  \n",
       "4                    2018-02-26                          3.0  "
      ]
     },
     "execution_count": 157,
     "metadata": {},
     "output_type": "execute_result"
    }
   ],
   "source": [
    "#Membuat kolom baru yaitu order_completed_time untuk memuat waktu yang dibutuhkan agar pesanan selesai mulai dari pesanan diapprove\n",
    "\n",
    "order_completed_time = orders_df[\"order_delivered_customer_date\"] - orders_df[\"order_approved_at\"]\n",
    "order_completed_time = order_completed_time.apply(lambda x: x.total_seconds())\n",
    "orders_df[\"order_completed_time (days)\"] = round(order_completed_time/86400)\n",
    "orders_df.head()"
   ]
  },
  {
   "cell_type": "code",
   "execution_count": 158,
   "metadata": {
    "colab": {
     "base_uri": "https://localhost:8080/",
     "height": 243
    },
    "id": "c2g-fNxA6BWd",
    "outputId": "74087184-26de-47f2-c38c-b8c6313376fd"
   },
   "outputs": [
    {
     "data": {
      "text/html": [
       "<div>\n",
       "<style scoped>\n",
       "    .dataframe tbody tr th:only-of-type {\n",
       "        vertical-align: middle;\n",
       "    }\n",
       "\n",
       "    .dataframe tbody tr th {\n",
       "        vertical-align: top;\n",
       "    }\n",
       "\n",
       "    .dataframe thead th {\n",
       "        text-align: right;\n",
       "    }\n",
       "</style>\n",
       "<table border=\"1\" class=\"dataframe\">\n",
       "  <thead>\n",
       "    <tr style=\"text-align: right;\">\n",
       "      <th></th>\n",
       "      <th>order_id</th>\n",
       "      <th>customer_id</th>\n",
       "      <th>order_status</th>\n",
       "      <th>order_purchase_timestamp</th>\n",
       "      <th>order_approved_at</th>\n",
       "      <th>order_delivered_carrier_date</th>\n",
       "      <th>order_delivered_customer_date</th>\n",
       "      <th>order_estimated_delivery_date</th>\n",
       "      <th>order_completed_time (days)</th>\n",
       "      <th>delivery_time (days)</th>\n",
       "    </tr>\n",
       "  </thead>\n",
       "  <tbody>\n",
       "    <tr>\n",
       "      <th>0</th>\n",
       "      <td>e481f51cbdc54678b7cc49136f2d6af7</td>\n",
       "      <td>9ef432eb6251297304e76186b10a928d</td>\n",
       "      <td>delivered</td>\n",
       "      <td>2017-10-02 10:56:33</td>\n",
       "      <td>2017-10-02 11:07:15</td>\n",
       "      <td>2017-10-04 19:55:00</td>\n",
       "      <td>2017-10-10 21:25:13</td>\n",
       "      <td>2017-10-18</td>\n",
       "      <td>8.0</td>\n",
       "      <td>6.0</td>\n",
       "    </tr>\n",
       "    <tr>\n",
       "      <th>1</th>\n",
       "      <td>53cdb2fc8bc7dce0b6741e2150273451</td>\n",
       "      <td>b0830fb4747a6c6d20dea0b8c802d7ef</td>\n",
       "      <td>delivered</td>\n",
       "      <td>2018-07-24 20:41:37</td>\n",
       "      <td>2018-07-26 03:24:27</td>\n",
       "      <td>2018-07-26 14:31:00</td>\n",
       "      <td>2018-08-07 15:27:45</td>\n",
       "      <td>2018-08-13</td>\n",
       "      <td>13.0</td>\n",
       "      <td>12.0</td>\n",
       "    </tr>\n",
       "    <tr>\n",
       "      <th>2</th>\n",
       "      <td>47770eb9100c2d0c44946d9cf07ec65d</td>\n",
       "      <td>41ce2a54c0b03bf3443c3d931a367089</td>\n",
       "      <td>delivered</td>\n",
       "      <td>2018-08-08 08:38:49</td>\n",
       "      <td>2018-08-08 08:55:23</td>\n",
       "      <td>2018-08-08 13:50:00</td>\n",
       "      <td>2018-08-17 18:06:29</td>\n",
       "      <td>2018-09-04</td>\n",
       "      <td>9.0</td>\n",
       "      <td>9.0</td>\n",
       "    </tr>\n",
       "    <tr>\n",
       "      <th>3</th>\n",
       "      <td>949d5b44dbf5de918fe9c16f97b45f8a</td>\n",
       "      <td>f88197465ea7920adcdbec7375364d82</td>\n",
       "      <td>delivered</td>\n",
       "      <td>2017-11-18 19:28:06</td>\n",
       "      <td>2017-11-18 19:45:59</td>\n",
       "      <td>2017-11-22 13:39:59</td>\n",
       "      <td>2017-12-02 00:28:42</td>\n",
       "      <td>2017-12-15</td>\n",
       "      <td>13.0</td>\n",
       "      <td>9.0</td>\n",
       "    </tr>\n",
       "    <tr>\n",
       "      <th>4</th>\n",
       "      <td>ad21c59c0840e6cb83a9ceb5573f8159</td>\n",
       "      <td>8ab97904e6daea8866dbdbc4fb7aad2c</td>\n",
       "      <td>delivered</td>\n",
       "      <td>2018-02-13 21:18:39</td>\n",
       "      <td>2018-02-13 22:20:29</td>\n",
       "      <td>2018-02-14 19:46:34</td>\n",
       "      <td>2018-02-16 18:17:02</td>\n",
       "      <td>2018-02-26</td>\n",
       "      <td>3.0</td>\n",
       "      <td>2.0</td>\n",
       "    </tr>\n",
       "  </tbody>\n",
       "</table>\n",
       "</div>"
      ],
      "text/plain": [
       "                           order_id                       customer_id  \\\n",
       "0  e481f51cbdc54678b7cc49136f2d6af7  9ef432eb6251297304e76186b10a928d   \n",
       "1  53cdb2fc8bc7dce0b6741e2150273451  b0830fb4747a6c6d20dea0b8c802d7ef   \n",
       "2  47770eb9100c2d0c44946d9cf07ec65d  41ce2a54c0b03bf3443c3d931a367089   \n",
       "3  949d5b44dbf5de918fe9c16f97b45f8a  f88197465ea7920adcdbec7375364d82   \n",
       "4  ad21c59c0840e6cb83a9ceb5573f8159  8ab97904e6daea8866dbdbc4fb7aad2c   \n",
       "\n",
       "  order_status order_purchase_timestamp   order_approved_at  \\\n",
       "0    delivered      2017-10-02 10:56:33 2017-10-02 11:07:15   \n",
       "1    delivered      2018-07-24 20:41:37 2018-07-26 03:24:27   \n",
       "2    delivered      2018-08-08 08:38:49 2018-08-08 08:55:23   \n",
       "3    delivered      2017-11-18 19:28:06 2017-11-18 19:45:59   \n",
       "4    delivered      2018-02-13 21:18:39 2018-02-13 22:20:29   \n",
       "\n",
       "  order_delivered_carrier_date order_delivered_customer_date  \\\n",
       "0          2017-10-04 19:55:00           2017-10-10 21:25:13   \n",
       "1          2018-07-26 14:31:00           2018-08-07 15:27:45   \n",
       "2          2018-08-08 13:50:00           2018-08-17 18:06:29   \n",
       "3          2017-11-22 13:39:59           2017-12-02 00:28:42   \n",
       "4          2018-02-14 19:46:34           2018-02-16 18:17:02   \n",
       "\n",
       "  order_estimated_delivery_date  order_completed_time (days)  \\\n",
       "0                    2017-10-18                          8.0   \n",
       "1                    2018-08-13                         13.0   \n",
       "2                    2018-09-04                          9.0   \n",
       "3                    2017-12-15                         13.0   \n",
       "4                    2018-02-26                          3.0   \n",
       "\n",
       "   delivery_time (days)  \n",
       "0                   6.0  \n",
       "1                  12.0  \n",
       "2                   9.0  \n",
       "3                   9.0  \n",
       "4                   2.0  "
      ]
     },
     "execution_count": 158,
     "metadata": {},
     "output_type": "execute_result"
    }
   ],
   "source": [
    "#Membuat kolom baru yaitu delivery_time untuk memuat waktu yang dibutuhkan untuk mengantar pesanan mulai dari pesanan diterima kurir\n",
    "\n",
    "delivery_time = orders_df[\"order_delivered_customer_date\"] - orders_df[\"order_delivered_carrier_date\"]\n",
    "delivery_time = delivery_time.apply(lambda x: x.total_seconds())\n",
    "orders_df[\"delivery_time (days)\"] = round(delivery_time/86400)\n",
    "orders_df.head()"
   ]
  },
  {
   "cell_type": "code",
   "execution_count": 159,
   "metadata": {
    "colab": {
     "base_uri": "https://localhost:8080/",
     "height": 243
    },
    "id": "g78Rctt36arg",
    "outputId": "6f044eff-7eb7-4eed-fdd2-a0f62697421a"
   },
   "outputs": [
    {
     "data": {
      "text/html": [
       "<div>\n",
       "<style scoped>\n",
       "    .dataframe tbody tr th:only-of-type {\n",
       "        vertical-align: middle;\n",
       "    }\n",
       "\n",
       "    .dataframe tbody tr th {\n",
       "        vertical-align: top;\n",
       "    }\n",
       "\n",
       "    .dataframe thead th {\n",
       "        text-align: right;\n",
       "    }\n",
       "</style>\n",
       "<table border=\"1\" class=\"dataframe\">\n",
       "  <thead>\n",
       "    <tr style=\"text-align: right;\">\n",
       "      <th></th>\n",
       "      <th>order_id</th>\n",
       "      <th>customer_id</th>\n",
       "      <th>order_status</th>\n",
       "      <th>order_purchase_timestamp</th>\n",
       "      <th>order_approved_at</th>\n",
       "      <th>order_delivered_carrier_date</th>\n",
       "      <th>order_delivered_customer_date</th>\n",
       "      <th>order_estimated_delivery_date</th>\n",
       "      <th>order_completed_time (days)</th>\n",
       "      <th>delivery_time (days)</th>\n",
       "      <th>processing_order_time (days)</th>\n",
       "    </tr>\n",
       "  </thead>\n",
       "  <tbody>\n",
       "    <tr>\n",
       "      <th>0</th>\n",
       "      <td>e481f51cbdc54678b7cc49136f2d6af7</td>\n",
       "      <td>9ef432eb6251297304e76186b10a928d</td>\n",
       "      <td>delivered</td>\n",
       "      <td>2017-10-02 10:56:33</td>\n",
       "      <td>2017-10-02 11:07:15</td>\n",
       "      <td>2017-10-04 19:55:00</td>\n",
       "      <td>2017-10-10 21:25:13</td>\n",
       "      <td>2017-10-18</td>\n",
       "      <td>8.0</td>\n",
       "      <td>6.0</td>\n",
       "      <td>2.0</td>\n",
       "    </tr>\n",
       "    <tr>\n",
       "      <th>1</th>\n",
       "      <td>53cdb2fc8bc7dce0b6741e2150273451</td>\n",
       "      <td>b0830fb4747a6c6d20dea0b8c802d7ef</td>\n",
       "      <td>delivered</td>\n",
       "      <td>2018-07-24 20:41:37</td>\n",
       "      <td>2018-07-26 03:24:27</td>\n",
       "      <td>2018-07-26 14:31:00</td>\n",
       "      <td>2018-08-07 15:27:45</td>\n",
       "      <td>2018-08-13</td>\n",
       "      <td>13.0</td>\n",
       "      <td>12.0</td>\n",
       "      <td>1.0</td>\n",
       "    </tr>\n",
       "    <tr>\n",
       "      <th>2</th>\n",
       "      <td>47770eb9100c2d0c44946d9cf07ec65d</td>\n",
       "      <td>41ce2a54c0b03bf3443c3d931a367089</td>\n",
       "      <td>delivered</td>\n",
       "      <td>2018-08-08 08:38:49</td>\n",
       "      <td>2018-08-08 08:55:23</td>\n",
       "      <td>2018-08-08 13:50:00</td>\n",
       "      <td>2018-08-17 18:06:29</td>\n",
       "      <td>2018-09-04</td>\n",
       "      <td>9.0</td>\n",
       "      <td>9.0</td>\n",
       "      <td>0.0</td>\n",
       "    </tr>\n",
       "    <tr>\n",
       "      <th>3</th>\n",
       "      <td>949d5b44dbf5de918fe9c16f97b45f8a</td>\n",
       "      <td>f88197465ea7920adcdbec7375364d82</td>\n",
       "      <td>delivered</td>\n",
       "      <td>2017-11-18 19:28:06</td>\n",
       "      <td>2017-11-18 19:45:59</td>\n",
       "      <td>2017-11-22 13:39:59</td>\n",
       "      <td>2017-12-02 00:28:42</td>\n",
       "      <td>2017-12-15</td>\n",
       "      <td>13.0</td>\n",
       "      <td>9.0</td>\n",
       "      <td>4.0</td>\n",
       "    </tr>\n",
       "    <tr>\n",
       "      <th>4</th>\n",
       "      <td>ad21c59c0840e6cb83a9ceb5573f8159</td>\n",
       "      <td>8ab97904e6daea8866dbdbc4fb7aad2c</td>\n",
       "      <td>delivered</td>\n",
       "      <td>2018-02-13 21:18:39</td>\n",
       "      <td>2018-02-13 22:20:29</td>\n",
       "      <td>2018-02-14 19:46:34</td>\n",
       "      <td>2018-02-16 18:17:02</td>\n",
       "      <td>2018-02-26</td>\n",
       "      <td>3.0</td>\n",
       "      <td>2.0</td>\n",
       "      <td>1.0</td>\n",
       "    </tr>\n",
       "  </tbody>\n",
       "</table>\n",
       "</div>"
      ],
      "text/plain": [
       "                           order_id                       customer_id  \\\n",
       "0  e481f51cbdc54678b7cc49136f2d6af7  9ef432eb6251297304e76186b10a928d   \n",
       "1  53cdb2fc8bc7dce0b6741e2150273451  b0830fb4747a6c6d20dea0b8c802d7ef   \n",
       "2  47770eb9100c2d0c44946d9cf07ec65d  41ce2a54c0b03bf3443c3d931a367089   \n",
       "3  949d5b44dbf5de918fe9c16f97b45f8a  f88197465ea7920adcdbec7375364d82   \n",
       "4  ad21c59c0840e6cb83a9ceb5573f8159  8ab97904e6daea8866dbdbc4fb7aad2c   \n",
       "\n",
       "  order_status order_purchase_timestamp   order_approved_at  \\\n",
       "0    delivered      2017-10-02 10:56:33 2017-10-02 11:07:15   \n",
       "1    delivered      2018-07-24 20:41:37 2018-07-26 03:24:27   \n",
       "2    delivered      2018-08-08 08:38:49 2018-08-08 08:55:23   \n",
       "3    delivered      2017-11-18 19:28:06 2017-11-18 19:45:59   \n",
       "4    delivered      2018-02-13 21:18:39 2018-02-13 22:20:29   \n",
       "\n",
       "  order_delivered_carrier_date order_delivered_customer_date  \\\n",
       "0          2017-10-04 19:55:00           2017-10-10 21:25:13   \n",
       "1          2018-07-26 14:31:00           2018-08-07 15:27:45   \n",
       "2          2018-08-08 13:50:00           2018-08-17 18:06:29   \n",
       "3          2017-11-22 13:39:59           2017-12-02 00:28:42   \n",
       "4          2018-02-14 19:46:34           2018-02-16 18:17:02   \n",
       "\n",
       "  order_estimated_delivery_date  order_completed_time (days)  \\\n",
       "0                    2017-10-18                          8.0   \n",
       "1                    2018-08-13                         13.0   \n",
       "2                    2018-09-04                          9.0   \n",
       "3                    2017-12-15                         13.0   \n",
       "4                    2018-02-26                          3.0   \n",
       "\n",
       "   delivery_time (days)  processing_order_time (days)  \n",
       "0                   6.0                           2.0  \n",
       "1                  12.0                           1.0  \n",
       "2                   9.0                           0.0  \n",
       "3                   9.0                           4.0  \n",
       "4                   2.0                           1.0  "
      ]
     },
     "execution_count": 159,
     "metadata": {},
     "output_type": "execute_result"
    }
   ],
   "source": [
    "#Membuat kolom baru yaitu processing order_time, yang menunjukkan waktu pemrosesan pesanan sebelum dikirim, seperti packaging, dan persiapan lainnya\n",
    "\n",
    "processing_order_time = orders_df[\"order_completed_time (days)\"] - orders_df[\"delivery_time (days)\"]\n",
    "orders_df[\"processing_order_time (days)\"] = processing_order_time\n",
    "orders_df.head()"
   ]
  },
  {
   "cell_type": "code",
   "execution_count": 160,
   "metadata": {
    "colab": {
     "base_uri": "https://localhost:8080/",
     "height": 449
    },
    "id": "RVZsut-ajaCV",
    "outputId": "b595f554-e33c-49c5-cf14-1bf2d31d0787"
   },
   "outputs": [
    {
     "data": {
      "text/html": [
       "<div>\n",
       "<style scoped>\n",
       "    .dataframe tbody tr th:only-of-type {\n",
       "        vertical-align: middle;\n",
       "    }\n",
       "\n",
       "    .dataframe tbody tr th {\n",
       "        vertical-align: top;\n",
       "    }\n",
       "\n",
       "    .dataframe thead th {\n",
       "        text-align: right;\n",
       "    }\n",
       "</style>\n",
       "<table border=\"1\" class=\"dataframe\">\n",
       "  <thead>\n",
       "    <tr style=\"text-align: right;\">\n",
       "      <th></th>\n",
       "      <th>order_id</th>\n",
       "      <th>customer_id</th>\n",
       "      <th>order_status</th>\n",
       "      <th>order_purchase_timestamp</th>\n",
       "      <th>order_approved_at</th>\n",
       "      <th>order_delivered_carrier_date</th>\n",
       "      <th>order_delivered_customer_date</th>\n",
       "      <th>order_estimated_delivery_date</th>\n",
       "      <th>order_completed_time (days)</th>\n",
       "      <th>delivery_time (days)</th>\n",
       "      <th>processing_order_time (days)</th>\n",
       "    </tr>\n",
       "  </thead>\n",
       "  <tbody>\n",
       "    <tr>\n",
       "      <th>count</th>\n",
       "      <td>96461</td>\n",
       "      <td>96461</td>\n",
       "      <td>96461</td>\n",
       "      <td>96461</td>\n",
       "      <td>96461</td>\n",
       "      <td>96461</td>\n",
       "      <td>96461</td>\n",
       "      <td>96461</td>\n",
       "      <td>96461.000000</td>\n",
       "      <td>96461.000000</td>\n",
       "      <td>96461.000000</td>\n",
       "    </tr>\n",
       "    <tr>\n",
       "      <th>unique</th>\n",
       "      <td>96461</td>\n",
       "      <td>96461</td>\n",
       "      <td>2</td>\n",
       "      <td>NaN</td>\n",
       "      <td>NaN</td>\n",
       "      <td>NaN</td>\n",
       "      <td>NaN</td>\n",
       "      <td>NaN</td>\n",
       "      <td>NaN</td>\n",
       "      <td>NaN</td>\n",
       "      <td>NaN</td>\n",
       "    </tr>\n",
       "    <tr>\n",
       "      <th>top</th>\n",
       "      <td>e481f51cbdc54678b7cc49136f2d6af7</td>\n",
       "      <td>9ef432eb6251297304e76186b10a928d</td>\n",
       "      <td>delivered</td>\n",
       "      <td>NaN</td>\n",
       "      <td>NaN</td>\n",
       "      <td>NaN</td>\n",
       "      <td>NaN</td>\n",
       "      <td>NaN</td>\n",
       "      <td>NaN</td>\n",
       "      <td>NaN</td>\n",
       "      <td>NaN</td>\n",
       "    </tr>\n",
       "    <tr>\n",
       "      <th>freq</th>\n",
       "      <td>1</td>\n",
       "      <td>1</td>\n",
       "      <td>96455</td>\n",
       "      <td>NaN</td>\n",
       "      <td>NaN</td>\n",
       "      <td>NaN</td>\n",
       "      <td>NaN</td>\n",
       "      <td>NaN</td>\n",
       "      <td>NaN</td>\n",
       "      <td>NaN</td>\n",
       "      <td>NaN</td>\n",
       "    </tr>\n",
       "    <tr>\n",
       "      <th>mean</th>\n",
       "      <td>NaN</td>\n",
       "      <td>NaN</td>\n",
       "      <td>NaN</td>\n",
       "      <td>2018-01-01 23:53:26.642249216</td>\n",
       "      <td>2018-01-02 10:10:06.480142336</td>\n",
       "      <td>2018-01-05 05:21:04.508827392</td>\n",
       "      <td>2018-01-14 13:17:13.228102400</td>\n",
       "      <td>2018-01-25 17:33:14.236012544</td>\n",
       "      <td>12.119478</td>\n",
       "      <td>9.292429</td>\n",
       "      <td>2.827049</td>\n",
       "    </tr>\n",
       "    <tr>\n",
       "      <th>min</th>\n",
       "      <td>NaN</td>\n",
       "      <td>NaN</td>\n",
       "      <td>NaN</td>\n",
       "      <td>2016-09-15 12:16:38</td>\n",
       "      <td>2016-09-15 12:16:38</td>\n",
       "      <td>2016-10-08 10:34:01</td>\n",
       "      <td>2016-10-11 13:46:32</td>\n",
       "      <td>2016-10-04 00:00:00</td>\n",
       "      <td>-7.000000</td>\n",
       "      <td>-16.000000</td>\n",
       "      <td>-171.000000</td>\n",
       "    </tr>\n",
       "    <tr>\n",
       "      <th>25%</th>\n",
       "      <td>NaN</td>\n",
       "      <td>NaN</td>\n",
       "      <td>NaN</td>\n",
       "      <td>2017-09-14 09:28:28</td>\n",
       "      <td>2017-09-14 14:30:14</td>\n",
       "      <td>2017-09-18 16:52:19</td>\n",
       "      <td>2017-09-25 22:31:59</td>\n",
       "      <td>2017-10-05 00:00:00</td>\n",
       "      <td>6.000000</td>\n",
       "      <td>4.000000</td>\n",
       "      <td>1.000000</td>\n",
       "    </tr>\n",
       "    <tr>\n",
       "      <th>50%</th>\n",
       "      <td>NaN</td>\n",
       "      <td>NaN</td>\n",
       "      <td>NaN</td>\n",
       "      <td>2018-01-20 19:59:42</td>\n",
       "      <td>2018-01-22 13:49:00</td>\n",
       "      <td>2018-01-24 16:19:03</td>\n",
       "      <td>2018-02-02 19:50:56</td>\n",
       "      <td>2018-02-16 00:00:00</td>\n",
       "      <td>10.000000</td>\n",
       "      <td>7.000000</td>\n",
       "      <td>2.000000</td>\n",
       "    </tr>\n",
       "    <tr>\n",
       "      <th>75%</th>\n",
       "      <td>NaN</td>\n",
       "      <td>NaN</td>\n",
       "      <td>NaN</td>\n",
       "      <td>2018-05-05 18:33:24</td>\n",
       "      <td>2018-05-06 10:30:49</td>\n",
       "      <td>2018-05-08 14:33:00</td>\n",
       "      <td>2018-05-15 23:08:54</td>\n",
       "      <td>2018-05-28 00:00:00</td>\n",
       "      <td>15.000000</td>\n",
       "      <td>12.000000</td>\n",
       "      <td>4.000000</td>\n",
       "    </tr>\n",
       "    <tr>\n",
       "      <th>max</th>\n",
       "      <td>NaN</td>\n",
       "      <td>NaN</td>\n",
       "      <td>NaN</td>\n",
       "      <td>2018-08-29 15:00:37</td>\n",
       "      <td>2018-08-29 15:10:26</td>\n",
       "      <td>2018-09-11 19:48:28</td>\n",
       "      <td>2018-10-17 13:22:46</td>\n",
       "      <td>2018-10-25 00:00:00</td>\n",
       "      <td>209.000000</td>\n",
       "      <td>205.000000</td>\n",
       "      <td>126.000000</td>\n",
       "    </tr>\n",
       "    <tr>\n",
       "      <th>std</th>\n",
       "      <td>NaN</td>\n",
       "      <td>NaN</td>\n",
       "      <td>NaN</td>\n",
       "      <td>NaN</td>\n",
       "      <td>NaN</td>\n",
       "      <td>NaN</td>\n",
       "      <td>NaN</td>\n",
       "      <td>NaN</td>\n",
       "      <td>9.520126</td>\n",
       "      <td>8.777252</td>\n",
       "      <td>3.549761</td>\n",
       "    </tr>\n",
       "  </tbody>\n",
       "</table>\n",
       "</div>"
      ],
      "text/plain": [
       "                                order_id                       customer_id  \\\n",
       "count                              96461                             96461   \n",
       "unique                             96461                             96461   \n",
       "top     e481f51cbdc54678b7cc49136f2d6af7  9ef432eb6251297304e76186b10a928d   \n",
       "freq                                   1                                 1   \n",
       "mean                                 NaN                               NaN   \n",
       "min                                  NaN                               NaN   \n",
       "25%                                  NaN                               NaN   \n",
       "50%                                  NaN                               NaN   \n",
       "75%                                  NaN                               NaN   \n",
       "max                                  NaN                               NaN   \n",
       "std                                  NaN                               NaN   \n",
       "\n",
       "       order_status       order_purchase_timestamp  \\\n",
       "count         96461                          96461   \n",
       "unique            2                            NaN   \n",
       "top       delivered                            NaN   \n",
       "freq          96455                            NaN   \n",
       "mean            NaN  2018-01-01 23:53:26.642249216   \n",
       "min             NaN            2016-09-15 12:16:38   \n",
       "25%             NaN            2017-09-14 09:28:28   \n",
       "50%             NaN            2018-01-20 19:59:42   \n",
       "75%             NaN            2018-05-05 18:33:24   \n",
       "max             NaN            2018-08-29 15:00:37   \n",
       "std             NaN                            NaN   \n",
       "\n",
       "                    order_approved_at   order_delivered_carrier_date  \\\n",
       "count                           96461                          96461   \n",
       "unique                            NaN                            NaN   \n",
       "top                               NaN                            NaN   \n",
       "freq                              NaN                            NaN   \n",
       "mean    2018-01-02 10:10:06.480142336  2018-01-05 05:21:04.508827392   \n",
       "min               2016-09-15 12:16:38            2016-10-08 10:34:01   \n",
       "25%               2017-09-14 14:30:14            2017-09-18 16:52:19   \n",
       "50%               2018-01-22 13:49:00            2018-01-24 16:19:03   \n",
       "75%               2018-05-06 10:30:49            2018-05-08 14:33:00   \n",
       "max               2018-08-29 15:10:26            2018-09-11 19:48:28   \n",
       "std                               NaN                            NaN   \n",
       "\n",
       "        order_delivered_customer_date  order_estimated_delivery_date  \\\n",
       "count                           96461                          96461   \n",
       "unique                            NaN                            NaN   \n",
       "top                               NaN                            NaN   \n",
       "freq                              NaN                            NaN   \n",
       "mean    2018-01-14 13:17:13.228102400  2018-01-25 17:33:14.236012544   \n",
       "min               2016-10-11 13:46:32            2016-10-04 00:00:00   \n",
       "25%               2017-09-25 22:31:59            2017-10-05 00:00:00   \n",
       "50%               2018-02-02 19:50:56            2018-02-16 00:00:00   \n",
       "75%               2018-05-15 23:08:54            2018-05-28 00:00:00   \n",
       "max               2018-10-17 13:22:46            2018-10-25 00:00:00   \n",
       "std                               NaN                            NaN   \n",
       "\n",
       "        order_completed_time (days)  delivery_time (days)  \\\n",
       "count                  96461.000000          96461.000000   \n",
       "unique                          NaN                   NaN   \n",
       "top                             NaN                   NaN   \n",
       "freq                            NaN                   NaN   \n",
       "mean                      12.119478              9.292429   \n",
       "min                       -7.000000            -16.000000   \n",
       "25%                        6.000000              4.000000   \n",
       "50%                       10.000000              7.000000   \n",
       "75%                       15.000000             12.000000   \n",
       "max                      209.000000            205.000000   \n",
       "std                        9.520126              8.777252   \n",
       "\n",
       "        processing_order_time (days)  \n",
       "count                   96461.000000  \n",
       "unique                           NaN  \n",
       "top                              NaN  \n",
       "freq                             NaN  \n",
       "mean                        2.827049  \n",
       "min                      -171.000000  \n",
       "25%                         1.000000  \n",
       "50%                         2.000000  \n",
       "75%                         4.000000  \n",
       "max                       126.000000  \n",
       "std                         3.549761  "
      ]
     },
     "execution_count": 160,
     "metadata": {},
     "output_type": "execute_result"
    }
   ],
   "source": [
    "#Mengecek parameter statistik order_df setelah ditambahkan kolom baru hasil explore\n",
    "orders_df.describe(include=\"all\")"
   ]
  },
  {
   "cell_type": "code",
   "execution_count": 161,
   "metadata": {
    "colab": {
     "base_uri": "https://localhost:8080/",
     "height": 112
    },
    "id": "QAsM0TaQF45n",
    "outputId": "db6cf01f-8043-48b6-d2d4-f693b1ac0844"
   },
   "outputs": [
    {
     "data": {
      "text/html": [
       "<div>\n",
       "<style scoped>\n",
       "    .dataframe tbody tr th:only-of-type {\n",
       "        vertical-align: middle;\n",
       "    }\n",
       "\n",
       "    .dataframe tbody tr th {\n",
       "        vertical-align: top;\n",
       "    }\n",
       "\n",
       "    .dataframe thead th {\n",
       "        text-align: right;\n",
       "    }\n",
       "</style>\n",
       "<table border=\"1\" class=\"dataframe\">\n",
       "  <thead>\n",
       "    <tr style=\"text-align: right;\">\n",
       "      <th></th>\n",
       "      <th>order_status</th>\n",
       "      <th>order_id</th>\n",
       "    </tr>\n",
       "  </thead>\n",
       "  <tbody>\n",
       "    <tr>\n",
       "      <th>0</th>\n",
       "      <td>delivered</td>\n",
       "      <td>96455</td>\n",
       "    </tr>\n",
       "    <tr>\n",
       "      <th>1</th>\n",
       "      <td>canceled</td>\n",
       "      <td>6</td>\n",
       "    </tr>\n",
       "  </tbody>\n",
       "</table>\n",
       "</div>"
      ],
      "text/plain": [
       "  order_status  order_id\n",
       "0    delivered     96455\n",
       "1     canceled         6"
      ]
     },
     "execution_count": 161,
     "metadata": {},
     "output_type": "execute_result"
    }
   ],
   "source": [
    "#Menampilkan jumlah pesanan berdasarkan status order\n",
    "orders_df.groupby(by=\"order_status\")[\"order_id\"].nunique().sort_values(ascending=False).reset_index()"
   ]
  },
  {
   "cell_type": "markdown",
   "metadata": {
    "id": "th_Lzl2Fkj9O"
   },
   "source": [
    "**Insight:**\n",
    "- Karena ada kolom datetime yaitu order approved at, order delivered carrier date, dan order delivered customer date, bisa dilakukan analisis berapa lama waktu yang dibutuhkan untuk menyelesaikan sebuah pesanan secara keseluruhan, waktu pengantarannya maupun proses diluar pengantaran itu (packaging dll).\n",
    "- Penyelesaian pesanan secara keseluruhan memiliki rata-rata 12.1 hari untuk menyelesaikan sebuah pesanan. Dengan nilai maksimal 209 hari dan nilai minimal -7 hari (anomaly). Lalu untuk waktu delivery sendiri memiliki rata-rata 9.3 hari dengan nilai minimal anomaly (-16) dan nilai maksimal 205 hari. Sedangkan untuk pemrosesan seperti pengemasan dan pengecekan kualitas memiliki rata-rata 2.8 hari dengan nilai minimal -171 (anomaly) dan nilai maksimal 105 hari.\n",
    "- Nah dari data tersebut, bisa kita lihat bahwa penyelesaian pesanan sebagian besar waktunya digunakan untuk pengantaran dan hanya sedikit untuk pemrosesan.\n",
    "- Lalu, status order disini terlihat bahwa ada 2 status, yaitu delivered sejumlah 96455 pesanan, dan canceled 6 pesanan. Hal ini menarik karena sebelumnya ada status processed, shipped, invoiced. Namun, karena sudah dibersihkan maka hanya ada 2 status itu yang tertera karena misal bila status invoiced ada kolom yang kosong sehingga itu akan mengganggu proses analisis data."
   ]
  },
  {
   "cell_type": "markdown",
   "metadata": {
    "id": "7BHhUmT8KDb_"
   },
   "source": [
    "#### Mengeksplorasi data customers dan orders"
   ]
  },
  {
   "cell_type": "code",
   "execution_count": 162,
   "metadata": {
    "id": "zwSU0uZfDzDk"
   },
   "outputs": [
    {
     "data": {
      "text/html": [
       "<div>\n",
       "<style scoped>\n",
       "    .dataframe tbody tr th:only-of-type {\n",
       "        vertical-align: middle;\n",
       "    }\n",
       "\n",
       "    .dataframe tbody tr th {\n",
       "        vertical-align: top;\n",
       "    }\n",
       "\n",
       "    .dataframe thead th {\n",
       "        text-align: right;\n",
       "    }\n",
       "</style>\n",
       "<table border=\"1\" class=\"dataframe\">\n",
       "  <thead>\n",
       "    <tr style=\"text-align: right;\">\n",
       "      <th></th>\n",
       "      <th>customer_id</th>\n",
       "      <th>customer_unique_id</th>\n",
       "      <th>customer_zip_code_prefix</th>\n",
       "      <th>customer_city</th>\n",
       "      <th>customer_state</th>\n",
       "      <th>status</th>\n",
       "    </tr>\n",
       "  </thead>\n",
       "  <tbody>\n",
       "    <tr>\n",
       "      <th>12221</th>\n",
       "      <td>c6326604c234a96928cd7f255f358978</td>\n",
       "      <td>8ec31beb5c890497f1872b5986d3cc26</td>\n",
       "      <td>70773</td>\n",
       "      <td>brasilia</td>\n",
       "      <td>DF</td>\n",
       "      <td>Active</td>\n",
       "    </tr>\n",
       "    <tr>\n",
       "      <th>10232</th>\n",
       "      <td>6c4d762aaa6ab65c892e6cdd1de5947a</td>\n",
       "      <td>e585519b42291f931a5ec37c75cdb7ee</td>\n",
       "      <td>39690</td>\n",
       "      <td>malacacheta</td>\n",
       "      <td>MG</td>\n",
       "      <td>Active</td>\n",
       "    </tr>\n",
       "    <tr>\n",
       "      <th>7128</th>\n",
       "      <td>a002b6265756c2bf5ba1f596ac8847b2</td>\n",
       "      <td>8da8e5f4165a7d5e1d0fb2b6061c415f</td>\n",
       "      <td>20720</td>\n",
       "      <td>rio de janeiro</td>\n",
       "      <td>RJ</td>\n",
       "      <td>Active</td>\n",
       "    </tr>\n",
       "    <tr>\n",
       "      <th>34880</th>\n",
       "      <td>ccea9568a9b9092688e949bcb955ddd0</td>\n",
       "      <td>a354ee7ba147e604d8b6c07ab4646a14</td>\n",
       "      <td>37900</td>\n",
       "      <td>passos</td>\n",
       "      <td>MG</td>\n",
       "      <td>Active</td>\n",
       "    </tr>\n",
       "    <tr>\n",
       "      <th>92739</th>\n",
       "      <td>7a80d4e0354a7e5622cbcfdb831a5d57</td>\n",
       "      <td>224f7dc1344ecd979b9c354e2be92b15</td>\n",
       "      <td>2018</td>\n",
       "      <td>sao paulo</td>\n",
       "      <td>SP</td>\n",
       "      <td>Active</td>\n",
       "    </tr>\n",
       "  </tbody>\n",
       "</table>\n",
       "</div>"
      ],
      "text/plain": [
       "                            customer_id                customer_unique_id  \\\n",
       "12221  c6326604c234a96928cd7f255f358978  8ec31beb5c890497f1872b5986d3cc26   \n",
       "10232  6c4d762aaa6ab65c892e6cdd1de5947a  e585519b42291f931a5ec37c75cdb7ee   \n",
       "7128   a002b6265756c2bf5ba1f596ac8847b2  8da8e5f4165a7d5e1d0fb2b6061c415f   \n",
       "34880  ccea9568a9b9092688e949bcb955ddd0  a354ee7ba147e604d8b6c07ab4646a14   \n",
       "92739  7a80d4e0354a7e5622cbcfdb831a5d57  224f7dc1344ecd979b9c354e2be92b15   \n",
       "\n",
       "       customer_zip_code_prefix   customer_city customer_state  status  \n",
       "12221                     70773        brasilia             DF  Active  \n",
       "10232                     39690     malacacheta             MG  Active  \n",
       "7128                      20720  rio de janeiro             RJ  Active  \n",
       "34880                     37900          passos             MG  Active  \n",
       "92739                      2018       sao paulo             SP  Active  "
      ]
     },
     "execution_count": 162,
     "metadata": {},
     "output_type": "execute_result"
    }
   ],
   "source": [
    "#Mengidentifikasi status pelanggan aktif atau tidak, dengan dimuat di kolom baru yaitu status\n",
    "\n",
    "customer_id_in_orders_df =  orders_df.customer_id.tolist()\n",
    "customers_df[\"status\"] = customers_df[\"customer_id\"].apply(lambda x: \"Active\" if x in customer_id_in_orders_df else \"Non Active\")\n",
    "customers_df.sample(5)"
   ]
  },
  {
   "cell_type": "code",
   "execution_count": 163,
   "metadata": {
    "id": "VbfghtEAEDDQ"
   },
   "outputs": [
    {
     "data": {
      "text/plain": [
       "status\n",
       "Active        96461\n",
       "Non Active     2980\n",
       "Name: customer_id, dtype: int64"
      ]
     },
     "execution_count": 163,
     "metadata": {},
     "output_type": "execute_result"
    }
   ],
   "source": [
    "#Menampilkan informasi pelanggan aktif dan tidak aktif\n",
    "customers_df.groupby(by=\"status\").customer_id.count()"
   ]
  },
  {
   "cell_type": "markdown",
   "metadata": {
    "id": "WJee2mbOLDHG"
   },
   "source": [
    "Melakukan join dataframe customers dan orders"
   ]
  },
  {
   "cell_type": "code",
   "execution_count": 164,
   "metadata": {
    "id": "1qBw83H7EHlA"
   },
   "outputs": [
    {
     "data": {
      "text/html": [
       "<div>\n",
       "<style scoped>\n",
       "    .dataframe tbody tr th:only-of-type {\n",
       "        vertical-align: middle;\n",
       "    }\n",
       "\n",
       "    .dataframe tbody tr th {\n",
       "        vertical-align: top;\n",
       "    }\n",
       "\n",
       "    .dataframe thead th {\n",
       "        text-align: right;\n",
       "    }\n",
       "</style>\n",
       "<table border=\"1\" class=\"dataframe\">\n",
       "  <thead>\n",
       "    <tr style=\"text-align: right;\">\n",
       "      <th></th>\n",
       "      <th>order_id</th>\n",
       "      <th>customer_id</th>\n",
       "      <th>order_status</th>\n",
       "      <th>order_purchase_timestamp</th>\n",
       "      <th>order_approved_at</th>\n",
       "      <th>order_delivered_carrier_date</th>\n",
       "      <th>order_delivered_customer_date</th>\n",
       "      <th>order_estimated_delivery_date</th>\n",
       "      <th>order_completed_time (days)</th>\n",
       "      <th>delivery_time (days)</th>\n",
       "      <th>processing_order_time (days)</th>\n",
       "      <th>customer_unique_id</th>\n",
       "      <th>customer_zip_code_prefix</th>\n",
       "      <th>customer_city</th>\n",
       "      <th>customer_state</th>\n",
       "      <th>status</th>\n",
       "    </tr>\n",
       "  </thead>\n",
       "  <tbody>\n",
       "    <tr>\n",
       "      <th>0</th>\n",
       "      <td>e481f51cbdc54678b7cc49136f2d6af7</td>\n",
       "      <td>9ef432eb6251297304e76186b10a928d</td>\n",
       "      <td>delivered</td>\n",
       "      <td>2017-10-02 10:56:33</td>\n",
       "      <td>2017-10-02 11:07:15</td>\n",
       "      <td>2017-10-04 19:55:00</td>\n",
       "      <td>2017-10-10 21:25:13</td>\n",
       "      <td>2017-10-18</td>\n",
       "      <td>8.0</td>\n",
       "      <td>6.0</td>\n",
       "      <td>2.0</td>\n",
       "      <td>7c396fd4830fd04220f754e42b4e5bff</td>\n",
       "      <td>3149</td>\n",
       "      <td>sao paulo</td>\n",
       "      <td>SP</td>\n",
       "      <td>Active</td>\n",
       "    </tr>\n",
       "    <tr>\n",
       "      <th>1</th>\n",
       "      <td>53cdb2fc8bc7dce0b6741e2150273451</td>\n",
       "      <td>b0830fb4747a6c6d20dea0b8c802d7ef</td>\n",
       "      <td>delivered</td>\n",
       "      <td>2018-07-24 20:41:37</td>\n",
       "      <td>2018-07-26 03:24:27</td>\n",
       "      <td>2018-07-26 14:31:00</td>\n",
       "      <td>2018-08-07 15:27:45</td>\n",
       "      <td>2018-08-13</td>\n",
       "      <td>13.0</td>\n",
       "      <td>12.0</td>\n",
       "      <td>1.0</td>\n",
       "      <td>af07308b275d755c9edb36a90c618231</td>\n",
       "      <td>47813</td>\n",
       "      <td>barreiras</td>\n",
       "      <td>BA</td>\n",
       "      <td>Active</td>\n",
       "    </tr>\n",
       "    <tr>\n",
       "      <th>2</th>\n",
       "      <td>47770eb9100c2d0c44946d9cf07ec65d</td>\n",
       "      <td>41ce2a54c0b03bf3443c3d931a367089</td>\n",
       "      <td>delivered</td>\n",
       "      <td>2018-08-08 08:38:49</td>\n",
       "      <td>2018-08-08 08:55:23</td>\n",
       "      <td>2018-08-08 13:50:00</td>\n",
       "      <td>2018-08-17 18:06:29</td>\n",
       "      <td>2018-09-04</td>\n",
       "      <td>9.0</td>\n",
       "      <td>9.0</td>\n",
       "      <td>0.0</td>\n",
       "      <td>3a653a41f6f9fc3d2a113cf8398680e8</td>\n",
       "      <td>75265</td>\n",
       "      <td>vianopolis</td>\n",
       "      <td>GO</td>\n",
       "      <td>Active</td>\n",
       "    </tr>\n",
       "    <tr>\n",
       "      <th>3</th>\n",
       "      <td>949d5b44dbf5de918fe9c16f97b45f8a</td>\n",
       "      <td>f88197465ea7920adcdbec7375364d82</td>\n",
       "      <td>delivered</td>\n",
       "      <td>2017-11-18 19:28:06</td>\n",
       "      <td>2017-11-18 19:45:59</td>\n",
       "      <td>2017-11-22 13:39:59</td>\n",
       "      <td>2017-12-02 00:28:42</td>\n",
       "      <td>2017-12-15</td>\n",
       "      <td>13.0</td>\n",
       "      <td>9.0</td>\n",
       "      <td>4.0</td>\n",
       "      <td>7c142cf63193a1473d2e66489a9ae977</td>\n",
       "      <td>59296</td>\n",
       "      <td>sao goncalo do amarante</td>\n",
       "      <td>RN</td>\n",
       "      <td>Active</td>\n",
       "    </tr>\n",
       "    <tr>\n",
       "      <th>4</th>\n",
       "      <td>ad21c59c0840e6cb83a9ceb5573f8159</td>\n",
       "      <td>8ab97904e6daea8866dbdbc4fb7aad2c</td>\n",
       "      <td>delivered</td>\n",
       "      <td>2018-02-13 21:18:39</td>\n",
       "      <td>2018-02-13 22:20:29</td>\n",
       "      <td>2018-02-14 19:46:34</td>\n",
       "      <td>2018-02-16 18:17:02</td>\n",
       "      <td>2018-02-26</td>\n",
       "      <td>3.0</td>\n",
       "      <td>2.0</td>\n",
       "      <td>1.0</td>\n",
       "      <td>72632f0f9dd73dfee390c9b22eb56dd6</td>\n",
       "      <td>9195</td>\n",
       "      <td>santo andre</td>\n",
       "      <td>SP</td>\n",
       "      <td>Active</td>\n",
       "    </tr>\n",
       "  </tbody>\n",
       "</table>\n",
       "</div>"
      ],
      "text/plain": [
       "                           order_id                       customer_id  \\\n",
       "0  e481f51cbdc54678b7cc49136f2d6af7  9ef432eb6251297304e76186b10a928d   \n",
       "1  53cdb2fc8bc7dce0b6741e2150273451  b0830fb4747a6c6d20dea0b8c802d7ef   \n",
       "2  47770eb9100c2d0c44946d9cf07ec65d  41ce2a54c0b03bf3443c3d931a367089   \n",
       "3  949d5b44dbf5de918fe9c16f97b45f8a  f88197465ea7920adcdbec7375364d82   \n",
       "4  ad21c59c0840e6cb83a9ceb5573f8159  8ab97904e6daea8866dbdbc4fb7aad2c   \n",
       "\n",
       "  order_status order_purchase_timestamp   order_approved_at  \\\n",
       "0    delivered      2017-10-02 10:56:33 2017-10-02 11:07:15   \n",
       "1    delivered      2018-07-24 20:41:37 2018-07-26 03:24:27   \n",
       "2    delivered      2018-08-08 08:38:49 2018-08-08 08:55:23   \n",
       "3    delivered      2017-11-18 19:28:06 2017-11-18 19:45:59   \n",
       "4    delivered      2018-02-13 21:18:39 2018-02-13 22:20:29   \n",
       "\n",
       "  order_delivered_carrier_date order_delivered_customer_date  \\\n",
       "0          2017-10-04 19:55:00           2017-10-10 21:25:13   \n",
       "1          2018-07-26 14:31:00           2018-08-07 15:27:45   \n",
       "2          2018-08-08 13:50:00           2018-08-17 18:06:29   \n",
       "3          2017-11-22 13:39:59           2017-12-02 00:28:42   \n",
       "4          2018-02-14 19:46:34           2018-02-16 18:17:02   \n",
       "\n",
       "  order_estimated_delivery_date  order_completed_time (days)  \\\n",
       "0                    2017-10-18                          8.0   \n",
       "1                    2018-08-13                         13.0   \n",
       "2                    2018-09-04                          9.0   \n",
       "3                    2017-12-15                         13.0   \n",
       "4                    2018-02-26                          3.0   \n",
       "\n",
       "   delivery_time (days)  processing_order_time (days)  \\\n",
       "0                   6.0                           2.0   \n",
       "1                  12.0                           1.0   \n",
       "2                   9.0                           0.0   \n",
       "3                   9.0                           4.0   \n",
       "4                   2.0                           1.0   \n",
       "\n",
       "                 customer_unique_id  customer_zip_code_prefix  \\\n",
       "0  7c396fd4830fd04220f754e42b4e5bff                      3149   \n",
       "1  af07308b275d755c9edb36a90c618231                     47813   \n",
       "2  3a653a41f6f9fc3d2a113cf8398680e8                     75265   \n",
       "3  7c142cf63193a1473d2e66489a9ae977                     59296   \n",
       "4  72632f0f9dd73dfee390c9b22eb56dd6                      9195   \n",
       "\n",
       "             customer_city customer_state  status  \n",
       "0                sao paulo             SP  Active  \n",
       "1                barreiras             BA  Active  \n",
       "2               vianopolis             GO  Active  \n",
       "3  sao goncalo do amarante             RN  Active  \n",
       "4              santo andre             SP  Active  "
      ]
     },
     "execution_count": 164,
     "metadata": {},
     "output_type": "execute_result"
    }
   ],
   "source": [
    "orders_customers_df = pd.merge(\n",
    "    left=orders_df,\n",
    "    right=customers_df,\n",
    "    how=\"left\",\n",
    "    left_on=\"customer_id\",\n",
    "    right_on=\"customer_id\"\n",
    ")\n",
    "orders_customers_df.head()"
   ]
  },
  {
   "cell_type": "markdown",
   "metadata": {
    "id": "pbbrbBnwdF09"
   },
   "source": [
    "**Insight:**\n",
    "- Jumlah pelanggan aktif memiliki jumlah dan persentase yang jauh lebih tinggi daripada pelanggan yang tidak aktif atau belum melakukan order. Ini sudah menunjukkan hal positif,namun tetap perlu dilakukan strategi untuk mempertahankan pelanggan aktif agar terus bertransaksi serta mengaktivasi pelanggan yang belum melakukan order"
   ]
  },
  {
   "cell_type": "markdown",
   "metadata": {
    "id": "OPQ0zF5BfubM"
   },
   "source": [
    "#### Mengeksplorasi data customer, order, dan payments"
   ]
  },
  {
   "cell_type": "markdown",
   "metadata": {
    "id": "f5iZY6RJLMqv"
   },
   "source": [
    "Melakukan join pada dataframe orders_customers (hasil penggabungan customer dan order) dengan dataframe payments"
   ]
  },
  {
   "cell_type": "code",
   "execution_count": 165,
   "metadata": {
    "id": "ToVNQlmDEQgP"
   },
   "outputs": [
    {
     "data": {
      "text/html": [
       "<div>\n",
       "<style scoped>\n",
       "    .dataframe tbody tr th:only-of-type {\n",
       "        vertical-align: middle;\n",
       "    }\n",
       "\n",
       "    .dataframe tbody tr th {\n",
       "        vertical-align: top;\n",
       "    }\n",
       "\n",
       "    .dataframe thead th {\n",
       "        text-align: right;\n",
       "    }\n",
       "</style>\n",
       "<table border=\"1\" class=\"dataframe\">\n",
       "  <thead>\n",
       "    <tr style=\"text-align: right;\">\n",
       "      <th></th>\n",
       "      <th>order_id</th>\n",
       "      <th>customer_id</th>\n",
       "      <th>order_status</th>\n",
       "      <th>order_purchase_timestamp</th>\n",
       "      <th>order_approved_at</th>\n",
       "      <th>order_delivered_carrier_date</th>\n",
       "      <th>order_delivered_customer_date</th>\n",
       "      <th>order_estimated_delivery_date</th>\n",
       "      <th>order_completed_time (days)</th>\n",
       "      <th>delivery_time (days)</th>\n",
       "      <th>processing_order_time (days)</th>\n",
       "      <th>customer_unique_id</th>\n",
       "      <th>customer_zip_code_prefix</th>\n",
       "      <th>customer_city</th>\n",
       "      <th>customer_state</th>\n",
       "      <th>status</th>\n",
       "      <th>payment_sequential</th>\n",
       "      <th>payment_type</th>\n",
       "      <th>payment_installments</th>\n",
       "      <th>payment_value</th>\n",
       "    </tr>\n",
       "  </thead>\n",
       "  <tbody>\n",
       "    <tr>\n",
       "      <th>0</th>\n",
       "      <td>e481f51cbdc54678b7cc49136f2d6af7</td>\n",
       "      <td>9ef432eb6251297304e76186b10a928d</td>\n",
       "      <td>delivered</td>\n",
       "      <td>2017-10-02 10:56:33</td>\n",
       "      <td>2017-10-02 11:07:15</td>\n",
       "      <td>2017-10-04 19:55:00</td>\n",
       "      <td>2017-10-10 21:25:13</td>\n",
       "      <td>2017-10-18</td>\n",
       "      <td>8.0</td>\n",
       "      <td>6.0</td>\n",
       "      <td>2.0</td>\n",
       "      <td>7c396fd4830fd04220f754e42b4e5bff</td>\n",
       "      <td>3149</td>\n",
       "      <td>sao paulo</td>\n",
       "      <td>SP</td>\n",
       "      <td>Active</td>\n",
       "      <td>1.0</td>\n",
       "      <td>credit_card</td>\n",
       "      <td>1.0</td>\n",
       "      <td>18.12</td>\n",
       "    </tr>\n",
       "    <tr>\n",
       "      <th>1</th>\n",
       "      <td>e481f51cbdc54678b7cc49136f2d6af7</td>\n",
       "      <td>9ef432eb6251297304e76186b10a928d</td>\n",
       "      <td>delivered</td>\n",
       "      <td>2017-10-02 10:56:33</td>\n",
       "      <td>2017-10-02 11:07:15</td>\n",
       "      <td>2017-10-04 19:55:00</td>\n",
       "      <td>2017-10-10 21:25:13</td>\n",
       "      <td>2017-10-18</td>\n",
       "      <td>8.0</td>\n",
       "      <td>6.0</td>\n",
       "      <td>2.0</td>\n",
       "      <td>7c396fd4830fd04220f754e42b4e5bff</td>\n",
       "      <td>3149</td>\n",
       "      <td>sao paulo</td>\n",
       "      <td>SP</td>\n",
       "      <td>Active</td>\n",
       "      <td>3.0</td>\n",
       "      <td>voucher</td>\n",
       "      <td>1.0</td>\n",
       "      <td>2.00</td>\n",
       "    </tr>\n",
       "    <tr>\n",
       "      <th>2</th>\n",
       "      <td>e481f51cbdc54678b7cc49136f2d6af7</td>\n",
       "      <td>9ef432eb6251297304e76186b10a928d</td>\n",
       "      <td>delivered</td>\n",
       "      <td>2017-10-02 10:56:33</td>\n",
       "      <td>2017-10-02 11:07:15</td>\n",
       "      <td>2017-10-04 19:55:00</td>\n",
       "      <td>2017-10-10 21:25:13</td>\n",
       "      <td>2017-10-18</td>\n",
       "      <td>8.0</td>\n",
       "      <td>6.0</td>\n",
       "      <td>2.0</td>\n",
       "      <td>7c396fd4830fd04220f754e42b4e5bff</td>\n",
       "      <td>3149</td>\n",
       "      <td>sao paulo</td>\n",
       "      <td>SP</td>\n",
       "      <td>Active</td>\n",
       "      <td>2.0</td>\n",
       "      <td>voucher</td>\n",
       "      <td>1.0</td>\n",
       "      <td>18.59</td>\n",
       "    </tr>\n",
       "    <tr>\n",
       "      <th>3</th>\n",
       "      <td>53cdb2fc8bc7dce0b6741e2150273451</td>\n",
       "      <td>b0830fb4747a6c6d20dea0b8c802d7ef</td>\n",
       "      <td>delivered</td>\n",
       "      <td>2018-07-24 20:41:37</td>\n",
       "      <td>2018-07-26 03:24:27</td>\n",
       "      <td>2018-07-26 14:31:00</td>\n",
       "      <td>2018-08-07 15:27:45</td>\n",
       "      <td>2018-08-13</td>\n",
       "      <td>13.0</td>\n",
       "      <td>12.0</td>\n",
       "      <td>1.0</td>\n",
       "      <td>af07308b275d755c9edb36a90c618231</td>\n",
       "      <td>47813</td>\n",
       "      <td>barreiras</td>\n",
       "      <td>BA</td>\n",
       "      <td>Active</td>\n",
       "      <td>1.0</td>\n",
       "      <td>boleto</td>\n",
       "      <td>1.0</td>\n",
       "      <td>141.46</td>\n",
       "    </tr>\n",
       "    <tr>\n",
       "      <th>4</th>\n",
       "      <td>47770eb9100c2d0c44946d9cf07ec65d</td>\n",
       "      <td>41ce2a54c0b03bf3443c3d931a367089</td>\n",
       "      <td>delivered</td>\n",
       "      <td>2018-08-08 08:38:49</td>\n",
       "      <td>2018-08-08 08:55:23</td>\n",
       "      <td>2018-08-08 13:50:00</td>\n",
       "      <td>2018-08-17 18:06:29</td>\n",
       "      <td>2018-09-04</td>\n",
       "      <td>9.0</td>\n",
       "      <td>9.0</td>\n",
       "      <td>0.0</td>\n",
       "      <td>3a653a41f6f9fc3d2a113cf8398680e8</td>\n",
       "      <td>75265</td>\n",
       "      <td>vianopolis</td>\n",
       "      <td>GO</td>\n",
       "      <td>Active</td>\n",
       "      <td>1.0</td>\n",
       "      <td>credit_card</td>\n",
       "      <td>3.0</td>\n",
       "      <td>179.12</td>\n",
       "    </tr>\n",
       "  </tbody>\n",
       "</table>\n",
       "</div>"
      ],
      "text/plain": [
       "                           order_id                       customer_id  \\\n",
       "0  e481f51cbdc54678b7cc49136f2d6af7  9ef432eb6251297304e76186b10a928d   \n",
       "1  e481f51cbdc54678b7cc49136f2d6af7  9ef432eb6251297304e76186b10a928d   \n",
       "2  e481f51cbdc54678b7cc49136f2d6af7  9ef432eb6251297304e76186b10a928d   \n",
       "3  53cdb2fc8bc7dce0b6741e2150273451  b0830fb4747a6c6d20dea0b8c802d7ef   \n",
       "4  47770eb9100c2d0c44946d9cf07ec65d  41ce2a54c0b03bf3443c3d931a367089   \n",
       "\n",
       "  order_status order_purchase_timestamp   order_approved_at  \\\n",
       "0    delivered      2017-10-02 10:56:33 2017-10-02 11:07:15   \n",
       "1    delivered      2017-10-02 10:56:33 2017-10-02 11:07:15   \n",
       "2    delivered      2017-10-02 10:56:33 2017-10-02 11:07:15   \n",
       "3    delivered      2018-07-24 20:41:37 2018-07-26 03:24:27   \n",
       "4    delivered      2018-08-08 08:38:49 2018-08-08 08:55:23   \n",
       "\n",
       "  order_delivered_carrier_date order_delivered_customer_date  \\\n",
       "0          2017-10-04 19:55:00           2017-10-10 21:25:13   \n",
       "1          2017-10-04 19:55:00           2017-10-10 21:25:13   \n",
       "2          2017-10-04 19:55:00           2017-10-10 21:25:13   \n",
       "3          2018-07-26 14:31:00           2018-08-07 15:27:45   \n",
       "4          2018-08-08 13:50:00           2018-08-17 18:06:29   \n",
       "\n",
       "  order_estimated_delivery_date  order_completed_time (days)  \\\n",
       "0                    2017-10-18                          8.0   \n",
       "1                    2017-10-18                          8.0   \n",
       "2                    2017-10-18                          8.0   \n",
       "3                    2018-08-13                         13.0   \n",
       "4                    2018-09-04                          9.0   \n",
       "\n",
       "   delivery_time (days)  processing_order_time (days)  \\\n",
       "0                   6.0                           2.0   \n",
       "1                   6.0                           2.0   \n",
       "2                   6.0                           2.0   \n",
       "3                  12.0                           1.0   \n",
       "4                   9.0                           0.0   \n",
       "\n",
       "                 customer_unique_id  customer_zip_code_prefix customer_city  \\\n",
       "0  7c396fd4830fd04220f754e42b4e5bff                      3149     sao paulo   \n",
       "1  7c396fd4830fd04220f754e42b4e5bff                      3149     sao paulo   \n",
       "2  7c396fd4830fd04220f754e42b4e5bff                      3149     sao paulo   \n",
       "3  af07308b275d755c9edb36a90c618231                     47813     barreiras   \n",
       "4  3a653a41f6f9fc3d2a113cf8398680e8                     75265    vianopolis   \n",
       "\n",
       "  customer_state  status  payment_sequential payment_type  \\\n",
       "0             SP  Active                 1.0  credit_card   \n",
       "1             SP  Active                 3.0      voucher   \n",
       "2             SP  Active                 2.0      voucher   \n",
       "3             BA  Active                 1.0       boleto   \n",
       "4             GO  Active                 1.0  credit_card   \n",
       "\n",
       "   payment_installments  payment_value  \n",
       "0                   1.0          18.12  \n",
       "1                   1.0           2.00  \n",
       "2                   1.0          18.59  \n",
       "3                   1.0         141.46  \n",
       "4                   3.0         179.12  "
      ]
     },
     "execution_count": 165,
     "metadata": {},
     "output_type": "execute_result"
    }
   ],
   "source": [
    "customers_transaction_df = pd.merge(\n",
    "    left = orders_customers_df,\n",
    "    right = payments_df,\n",
    "    how=\"left\",\n",
    "    left_on=\"order_id\",\n",
    "    right_on=\"order_id\"\n",
    ")\n",
    "customers_transaction_df.head()"
   ]
  },
  {
   "cell_type": "code",
   "execution_count": 166,
   "metadata": {
    "id": "hb0ZzojLEtHf"
   },
   "outputs": [
    {
     "data": {
      "text/html": [
       "<div>\n",
       "<style scoped>\n",
       "    .dataframe tbody tr th:only-of-type {\n",
       "        vertical-align: middle;\n",
       "    }\n",
       "\n",
       "    .dataframe tbody tr th {\n",
       "        vertical-align: top;\n",
       "    }\n",
       "\n",
       "    .dataframe thead th {\n",
       "        text-align: right;\n",
       "    }\n",
       "</style>\n",
       "<table border=\"1\" class=\"dataframe\">\n",
       "  <thead>\n",
       "    <tr style=\"text-align: right;\">\n",
       "      <th></th>\n",
       "      <th>customer_city</th>\n",
       "      <th>order_id</th>\n",
       "    </tr>\n",
       "  </thead>\n",
       "  <tbody>\n",
       "    <tr>\n",
       "      <th>0</th>\n",
       "      <td>sao paulo</td>\n",
       "      <td>15044</td>\n",
       "    </tr>\n",
       "    <tr>\n",
       "      <th>1</th>\n",
       "      <td>rio de janeiro</td>\n",
       "      <td>6603</td>\n",
       "    </tr>\n",
       "    <tr>\n",
       "      <th>2</th>\n",
       "      <td>belo horizonte</td>\n",
       "      <td>2697</td>\n",
       "    </tr>\n",
       "    <tr>\n",
       "      <th>3</th>\n",
       "      <td>brasilia</td>\n",
       "      <td>2071</td>\n",
       "    </tr>\n",
       "    <tr>\n",
       "      <th>4</th>\n",
       "      <td>curitiba</td>\n",
       "      <td>1489</td>\n",
       "    </tr>\n",
       "    <tr>\n",
       "      <th>5</th>\n",
       "      <td>campinas</td>\n",
       "      <td>1406</td>\n",
       "    </tr>\n",
       "    <tr>\n",
       "      <th>6</th>\n",
       "      <td>porto alegre</td>\n",
       "      <td>1341</td>\n",
       "    </tr>\n",
       "    <tr>\n",
       "      <th>7</th>\n",
       "      <td>salvador</td>\n",
       "      <td>1188</td>\n",
       "    </tr>\n",
       "    <tr>\n",
       "      <th>8</th>\n",
       "      <td>guarulhos</td>\n",
       "      <td>1143</td>\n",
       "    </tr>\n",
       "    <tr>\n",
       "      <th>9</th>\n",
       "      <td>sao bernardo do campo</td>\n",
       "      <td>911</td>\n",
       "    </tr>\n",
       "  </tbody>\n",
       "</table>\n",
       "</div>"
      ],
      "text/plain": [
       "           customer_city  order_id\n",
       "0              sao paulo     15044\n",
       "1         rio de janeiro      6603\n",
       "2         belo horizonte      2697\n",
       "3               brasilia      2071\n",
       "4               curitiba      1489\n",
       "5               campinas      1406\n",
       "6           porto alegre      1341\n",
       "7               salvador      1188\n",
       "8              guarulhos      1143\n",
       "9  sao bernardo do campo       911"
      ]
     },
     "execution_count": 166,
     "metadata": {},
     "output_type": "execute_result"
    }
   ],
   "source": [
    "#Mengidentifikasi jumlah pesanan berdasarkan kota\n",
    "customers_transaction_df.groupby(by=\"customer_city\").order_id.nunique().sort_values(ascending=False).reset_index().head(10)"
   ]
  },
  {
   "cell_type": "code",
   "execution_count": 167,
   "metadata": {
    "id": "0o2zfTr9E8K-"
   },
   "outputs": [
    {
     "data": {
      "text/html": [
       "<div>\n",
       "<style scoped>\n",
       "    .dataframe tbody tr th:only-of-type {\n",
       "        vertical-align: middle;\n",
       "    }\n",
       "\n",
       "    .dataframe tbody tr th {\n",
       "        vertical-align: top;\n",
       "    }\n",
       "\n",
       "    .dataframe thead th {\n",
       "        text-align: right;\n",
       "    }\n",
       "</style>\n",
       "<table border=\"1\" class=\"dataframe\">\n",
       "  <thead>\n",
       "    <tr style=\"text-align: right;\">\n",
       "      <th></th>\n",
       "      <th>customer_state</th>\n",
       "      <th>order_id</th>\n",
       "    </tr>\n",
       "  </thead>\n",
       "  <tbody>\n",
       "    <tr>\n",
       "      <th>0</th>\n",
       "      <td>SP</td>\n",
       "      <td>40489</td>\n",
       "    </tr>\n",
       "    <tr>\n",
       "      <th>1</th>\n",
       "      <td>RJ</td>\n",
       "      <td>12351</td>\n",
       "    </tr>\n",
       "    <tr>\n",
       "      <th>2</th>\n",
       "      <td>MG</td>\n",
       "      <td>11352</td>\n",
       "    </tr>\n",
       "    <tr>\n",
       "      <th>3</th>\n",
       "      <td>RS</td>\n",
       "      <td>5342</td>\n",
       "    </tr>\n",
       "    <tr>\n",
       "      <th>4</th>\n",
       "      <td>PR</td>\n",
       "      <td>4923</td>\n",
       "    </tr>\n",
       "    <tr>\n",
       "      <th>5</th>\n",
       "      <td>SC</td>\n",
       "      <td>3547</td>\n",
       "    </tr>\n",
       "    <tr>\n",
       "      <th>6</th>\n",
       "      <td>BA</td>\n",
       "      <td>3256</td>\n",
       "    </tr>\n",
       "    <tr>\n",
       "      <th>7</th>\n",
       "      <td>DF</td>\n",
       "      <td>2080</td>\n",
       "    </tr>\n",
       "    <tr>\n",
       "      <th>8</th>\n",
       "      <td>ES</td>\n",
       "      <td>1995</td>\n",
       "    </tr>\n",
       "    <tr>\n",
       "      <th>9</th>\n",
       "      <td>GO</td>\n",
       "      <td>1957</td>\n",
       "    </tr>\n",
       "  </tbody>\n",
       "</table>\n",
       "</div>"
      ],
      "text/plain": [
       "  customer_state  order_id\n",
       "0             SP     40489\n",
       "1             RJ     12351\n",
       "2             MG     11352\n",
       "3             RS      5342\n",
       "4             PR      4923\n",
       "5             SC      3547\n",
       "6             BA      3256\n",
       "7             DF      2080\n",
       "8             ES      1995\n",
       "9             GO      1957"
      ]
     },
     "execution_count": 167,
     "metadata": {},
     "output_type": "execute_result"
    }
   ],
   "source": [
    "#Mengidentifikasi jumlah pesanan berdasarkan kota\n",
    "customers_transaction_df.groupby(by=\"customer_state\").order_id.nunique().sort_values(ascending=False).reset_index().head(10)"
   ]
  },
  {
   "cell_type": "code",
   "execution_count": 168,
   "metadata": {
    "id": "dvLjCuS6FPxe"
   },
   "outputs": [
    {
     "data": {
      "text/html": [
       "<div>\n",
       "<style scoped>\n",
       "    .dataframe tbody tr th:only-of-type {\n",
       "        vertical-align: middle;\n",
       "    }\n",
       "\n",
       "    .dataframe tbody tr th {\n",
       "        vertical-align: top;\n",
       "    }\n",
       "\n",
       "    .dataframe thead th {\n",
       "        text-align: right;\n",
       "    }\n",
       "</style>\n",
       "<table border=\"1\" class=\"dataframe\">\n",
       "  <thead>\n",
       "    <tr style=\"text-align: right;\">\n",
       "      <th></th>\n",
       "      <th>customer_city</th>\n",
       "      <th>payment_value</th>\n",
       "    </tr>\n",
       "  </thead>\n",
       "  <tbody>\n",
       "    <tr>\n",
       "      <th>0</th>\n",
       "      <td>sao paulo</td>\n",
       "      <td>2108073.49</td>\n",
       "    </tr>\n",
       "    <tr>\n",
       "      <th>1</th>\n",
       "      <td>rio de janeiro</td>\n",
       "      <td>1112156.04</td>\n",
       "    </tr>\n",
       "    <tr>\n",
       "      <th>2</th>\n",
       "      <td>belo horizonte</td>\n",
       "      <td>406050.87</td>\n",
       "    </tr>\n",
       "    <tr>\n",
       "      <th>3</th>\n",
       "      <td>brasilia</td>\n",
       "      <td>345221.87</td>\n",
       "    </tr>\n",
       "    <tr>\n",
       "      <th>4</th>\n",
       "      <td>curitiba</td>\n",
       "      <td>238582.26</td>\n",
       "    </tr>\n",
       "    <tr>\n",
       "      <th>5</th>\n",
       "      <td>porto alegre</td>\n",
       "      <td>214667.83</td>\n",
       "    </tr>\n",
       "    <tr>\n",
       "      <th>6</th>\n",
       "      <td>campinas</td>\n",
       "      <td>209028.97</td>\n",
       "    </tr>\n",
       "    <tr>\n",
       "      <th>7</th>\n",
       "      <td>salvador</td>\n",
       "      <td>207790.89</td>\n",
       "    </tr>\n",
       "    <tr>\n",
       "      <th>8</th>\n",
       "      <td>guarulhos</td>\n",
       "      <td>157629.92</td>\n",
       "    </tr>\n",
       "    <tr>\n",
       "      <th>9</th>\n",
       "      <td>niteroi</td>\n",
       "      <td>135458.19</td>\n",
       "    </tr>\n",
       "  </tbody>\n",
       "</table>\n",
       "</div>"
      ],
      "text/plain": [
       "    customer_city  payment_value\n",
       "0       sao paulo     2108073.49\n",
       "1  rio de janeiro     1112156.04\n",
       "2  belo horizonte      406050.87\n",
       "3        brasilia      345221.87\n",
       "4        curitiba      238582.26\n",
       "5    porto alegre      214667.83\n",
       "6        campinas      209028.97\n",
       "7        salvador      207790.89\n",
       "8       guarulhos      157629.92\n",
       "9         niteroi      135458.19"
      ]
     },
     "execution_count": 168,
     "metadata": {},
     "output_type": "execute_result"
    }
   ],
   "source": [
    "#Mengidentifikasi jumlah pendapatan berdasarkan kota\n",
    "customers_transaction_df.groupby(by=\"customer_city\")[\"payment_value\"].sum().sort_values(ascending=False).reset_index().head(10)"
   ]
  },
  {
   "cell_type": "code",
   "execution_count": 169,
   "metadata": {
    "id": "fmyxTmrnFVFt"
   },
   "outputs": [
    {
     "data": {
      "text/html": [
       "<div>\n",
       "<style scoped>\n",
       "    .dataframe tbody tr th:only-of-type {\n",
       "        vertical-align: middle;\n",
       "    }\n",
       "\n",
       "    .dataframe tbody tr th {\n",
       "        vertical-align: top;\n",
       "    }\n",
       "\n",
       "    .dataframe thead th {\n",
       "        text-align: right;\n",
       "    }\n",
       "</style>\n",
       "<table border=\"1\" class=\"dataframe\">\n",
       "  <thead>\n",
       "    <tr style=\"text-align: right;\">\n",
       "      <th></th>\n",
       "      <th>customer_state</th>\n",
       "      <th>payment_value</th>\n",
       "    </tr>\n",
       "  </thead>\n",
       "  <tbody>\n",
       "    <tr>\n",
       "      <th>0</th>\n",
       "      <td>SP</td>\n",
       "      <td>5768355.09</td>\n",
       "    </tr>\n",
       "    <tr>\n",
       "      <th>1</th>\n",
       "      <td>RJ</td>\n",
       "      <td>2055878.41</td>\n",
       "    </tr>\n",
       "    <tr>\n",
       "      <th>2</th>\n",
       "      <td>MG</td>\n",
       "      <td>1819029.99</td>\n",
       "    </tr>\n",
       "    <tr>\n",
       "      <th>3</th>\n",
       "      <td>RS</td>\n",
       "      <td>861054.35</td>\n",
       "    </tr>\n",
       "    <tr>\n",
       "      <th>4</th>\n",
       "      <td>PR</td>\n",
       "      <td>781919.55</td>\n",
       "    </tr>\n",
       "    <tr>\n",
       "      <th>5</th>\n",
       "      <td>SC</td>\n",
       "      <td>595361.91</td>\n",
       "    </tr>\n",
       "    <tr>\n",
       "      <th>6</th>\n",
       "      <td>BA</td>\n",
       "      <td>591270.60</td>\n",
       "    </tr>\n",
       "    <tr>\n",
       "      <th>7</th>\n",
       "      <td>DF</td>\n",
       "      <td>346146.17</td>\n",
       "    </tr>\n",
       "    <tr>\n",
       "      <th>8</th>\n",
       "      <td>GO</td>\n",
       "      <td>334294.22</td>\n",
       "    </tr>\n",
       "    <tr>\n",
       "      <th>9</th>\n",
       "      <td>ES</td>\n",
       "      <td>317682.65</td>\n",
       "    </tr>\n",
       "  </tbody>\n",
       "</table>\n",
       "</div>"
      ],
      "text/plain": [
       "  customer_state  payment_value\n",
       "0             SP     5768355.09\n",
       "1             RJ     2055878.41\n",
       "2             MG     1819029.99\n",
       "3             RS      861054.35\n",
       "4             PR      781919.55\n",
       "5             SC      595361.91\n",
       "6             BA      591270.60\n",
       "7             DF      346146.17\n",
       "8             GO      334294.22\n",
       "9             ES      317682.65"
      ]
     },
     "execution_count": 169,
     "metadata": {},
     "output_type": "execute_result"
    }
   ],
   "source": [
    "#Mengidentifikasi jumlah pendapatan berdasarkan state\n",
    "customers_transaction_df.groupby(by=\"customer_state\")[\"payment_value\"].sum().sort_values(ascending=False).reset_index().head(10)"
   ]
  },
  {
   "cell_type": "code",
   "execution_count": 170,
   "metadata": {
    "id": "A0hoAEGiFcV_"
   },
   "outputs": [
    {
     "data": {
      "text/html": [
       "<div>\n",
       "<style scoped>\n",
       "    .dataframe tbody tr th:only-of-type {\n",
       "        vertical-align: middle;\n",
       "    }\n",
       "\n",
       "    .dataframe tbody tr th {\n",
       "        vertical-align: top;\n",
       "    }\n",
       "\n",
       "    .dataframe thead th {\n",
       "        text-align: right;\n",
       "    }\n",
       "</style>\n",
       "<table border=\"1\" class=\"dataframe\">\n",
       "  <thead>\n",
       "    <tr style=\"text-align: right;\">\n",
       "      <th></th>\n",
       "      <th>payment_type</th>\n",
       "      <th>order_id</th>\n",
       "    </tr>\n",
       "  </thead>\n",
       "  <tbody>\n",
       "    <tr>\n",
       "      <th>0</th>\n",
       "      <td>credit_card</td>\n",
       "      <td>74302</td>\n",
       "    </tr>\n",
       "    <tr>\n",
       "      <th>1</th>\n",
       "      <td>boleto</td>\n",
       "      <td>19177</td>\n",
       "    </tr>\n",
       "    <tr>\n",
       "      <th>2</th>\n",
       "      <td>voucher</td>\n",
       "      <td>3679</td>\n",
       "    </tr>\n",
       "    <tr>\n",
       "      <th>3</th>\n",
       "      <td>debit_card</td>\n",
       "      <td>1484</td>\n",
       "    </tr>\n",
       "  </tbody>\n",
       "</table>\n",
       "</div>"
      ],
      "text/plain": [
       "  payment_type  order_id\n",
       "0  credit_card     74302\n",
       "1       boleto     19177\n",
       "2      voucher      3679\n",
       "3   debit_card      1484"
      ]
     },
     "execution_count": 170,
     "metadata": {},
     "output_type": "execute_result"
    }
   ],
   "source": [
    "#Mengidentiikasi informasi jumlah pesanan berdasarkan metode pembayaran\n",
    "customers_transaction_df.groupby(by=\"payment_type\")[\"order_id\"].nunique().sort_values(ascending=False).reset_index()"
   ]
  },
  {
   "cell_type": "markdown",
   "metadata": {
    "id": "oBpf747BgZK_"
   },
   "source": [
    "**Insight:**\n",
    "\n",
    "- Jumlah pesanan oleh pelanggan paling banyak dilakukan di kota Sao Paulo, Rio de Janiero, dan Belo Horizontale. Hal ini sama seperti jumlah kota dengan pelanggan terbanyak, sehingga dapat disimpulkan bahwa kota-kota dengan jumlah pelanggan terbanyak juga berkontribusi pada jumlah pesanan yang tinggi.\n",
    "- Hal ini sama dengan state, dimana state dengan jumlah order paling banyak ada di SP, RJ, dan MG (sama dengan state dengan jumlah pelanggan tertinggi).\n",
    "- Setelah dilakukan identifikasi kota dan state dengan jumlah pendapatan tertinggi menghasilkan output data yang sama dengan jumlah penjualan tertinggi, sehingga dapat disimpulkan bahwa penjualan dan pendapatan saling terkait dan berbanding lurus.\n"
   ]
  },
  {
   "cell_type": "markdown",
   "metadata": {
    "id": "rM0Asd5rhZqd"
   },
   "source": [
    "#### Mengeksplorasi data product dan ordered product"
   ]
  },
  {
   "cell_type": "markdown",
   "metadata": {
    "id": "N6xACbJSMEAH"
   },
   "source": [
    "Melakukan join pada dataframe products dengan dataframe product translate"
   ]
  },
  {
   "cell_type": "code",
   "execution_count": 171,
   "metadata": {
    "id": "biiXuB5cGL92"
   },
   "outputs": [
    {
     "data": {
      "text/html": [
       "<div>\n",
       "<style scoped>\n",
       "    .dataframe tbody tr th:only-of-type {\n",
       "        vertical-align: middle;\n",
       "    }\n",
       "\n",
       "    .dataframe tbody tr th {\n",
       "        vertical-align: top;\n",
       "    }\n",
       "\n",
       "    .dataframe thead th {\n",
       "        text-align: right;\n",
       "    }\n",
       "</style>\n",
       "<table border=\"1\" class=\"dataframe\">\n",
       "  <thead>\n",
       "    <tr style=\"text-align: right;\">\n",
       "      <th></th>\n",
       "      <th>product_id</th>\n",
       "      <th>product_category_name</th>\n",
       "      <th>product_name_lenght</th>\n",
       "      <th>product_description_lenght</th>\n",
       "      <th>product_photos_qty</th>\n",
       "      <th>product_weight_g</th>\n",
       "      <th>product_length_cm</th>\n",
       "      <th>product_height_cm</th>\n",
       "      <th>product_width_cm</th>\n",
       "      <th>product_category_name_english</th>\n",
       "    </tr>\n",
       "  </thead>\n",
       "  <tbody>\n",
       "    <tr>\n",
       "      <th>0</th>\n",
       "      <td>1e9e8ef04dbcff4541ed26657ea517e5</td>\n",
       "      <td>perfumaria</td>\n",
       "      <td>40.0</td>\n",
       "      <td>287.0</td>\n",
       "      <td>1.0</td>\n",
       "      <td>225.0</td>\n",
       "      <td>16.0</td>\n",
       "      <td>10.0</td>\n",
       "      <td>14.0</td>\n",
       "      <td>perfumery</td>\n",
       "    </tr>\n",
       "    <tr>\n",
       "      <th>1</th>\n",
       "      <td>3aa071139cb16b67ca9e5dea641aaa2f</td>\n",
       "      <td>artes</td>\n",
       "      <td>44.0</td>\n",
       "      <td>276.0</td>\n",
       "      <td>1.0</td>\n",
       "      <td>1000.0</td>\n",
       "      <td>30.0</td>\n",
       "      <td>18.0</td>\n",
       "      <td>20.0</td>\n",
       "      <td>art</td>\n",
       "    </tr>\n",
       "    <tr>\n",
       "      <th>2</th>\n",
       "      <td>96bd76ec8810374ed1b65e291975717f</td>\n",
       "      <td>esporte_lazer</td>\n",
       "      <td>46.0</td>\n",
       "      <td>250.0</td>\n",
       "      <td>1.0</td>\n",
       "      <td>154.0</td>\n",
       "      <td>18.0</td>\n",
       "      <td>9.0</td>\n",
       "      <td>15.0</td>\n",
       "      <td>sports_leisure</td>\n",
       "    </tr>\n",
       "    <tr>\n",
       "      <th>3</th>\n",
       "      <td>cef67bcfe19066a932b7673e239eb23d</td>\n",
       "      <td>bebes</td>\n",
       "      <td>27.0</td>\n",
       "      <td>261.0</td>\n",
       "      <td>1.0</td>\n",
       "      <td>371.0</td>\n",
       "      <td>26.0</td>\n",
       "      <td>4.0</td>\n",
       "      <td>26.0</td>\n",
       "      <td>baby</td>\n",
       "    </tr>\n",
       "    <tr>\n",
       "      <th>4</th>\n",
       "      <td>9dc1a7de274444849c219cff195d0b71</td>\n",
       "      <td>utilidades_domesticas</td>\n",
       "      <td>37.0</td>\n",
       "      <td>402.0</td>\n",
       "      <td>4.0</td>\n",
       "      <td>625.0</td>\n",
       "      <td>20.0</td>\n",
       "      <td>17.0</td>\n",
       "      <td>13.0</td>\n",
       "      <td>housewares</td>\n",
       "    </tr>\n",
       "  </tbody>\n",
       "</table>\n",
       "</div>"
      ],
      "text/plain": [
       "                         product_id  product_category_name  \\\n",
       "0  1e9e8ef04dbcff4541ed26657ea517e5             perfumaria   \n",
       "1  3aa071139cb16b67ca9e5dea641aaa2f                  artes   \n",
       "2  96bd76ec8810374ed1b65e291975717f          esporte_lazer   \n",
       "3  cef67bcfe19066a932b7673e239eb23d                  bebes   \n",
       "4  9dc1a7de274444849c219cff195d0b71  utilidades_domesticas   \n",
       "\n",
       "   product_name_lenght  product_description_lenght  product_photos_qty  \\\n",
       "0                 40.0                       287.0                 1.0   \n",
       "1                 44.0                       276.0                 1.0   \n",
       "2                 46.0                       250.0                 1.0   \n",
       "3                 27.0                       261.0                 1.0   \n",
       "4                 37.0                       402.0                 4.0   \n",
       "\n",
       "   product_weight_g  product_length_cm  product_height_cm  product_width_cm  \\\n",
       "0             225.0               16.0               10.0              14.0   \n",
       "1            1000.0               30.0               18.0              20.0   \n",
       "2             154.0               18.0                9.0              15.0   \n",
       "3             371.0               26.0                4.0              26.0   \n",
       "4             625.0               20.0               17.0              13.0   \n",
       "\n",
       "  product_category_name_english  \n",
       "0                     perfumery  \n",
       "1                           art  \n",
       "2                sports_leisure  \n",
       "3                          baby  \n",
       "4                    housewares  "
      ]
     },
     "execution_count": 171,
     "metadata": {},
     "output_type": "execute_result"
    }
   ],
   "source": [
    "product_english_translation_df = pd.merge(\n",
    "    left = products_df,\n",
    "    right = product_translate_df,\n",
    "    how=\"left\",\n",
    "    left_on=\"product_category_name\",\n",
    "    right_on=\"product_category_name\"\n",
    ")\n",
    "product_english_translation_df.head()"
   ]
  },
  {
   "cell_type": "markdown",
   "metadata": {
    "id": "q0V2RPs2MO7P"
   },
   "source": [
    "Melakukan join pada dataframe product translation english (hasil penggabungan dataframe produk sebelumnya) dengan dataframe ordered product"
   ]
  },
  {
   "cell_type": "code",
   "execution_count": 172,
   "metadata": {
    "id": "EZHdJJ6KGy9_"
   },
   "outputs": [
    {
     "data": {
      "text/html": [
       "<div>\n",
       "<style scoped>\n",
       "    .dataframe tbody tr th:only-of-type {\n",
       "        vertical-align: middle;\n",
       "    }\n",
       "\n",
       "    .dataframe tbody tr th {\n",
       "        vertical-align: top;\n",
       "    }\n",
       "\n",
       "    .dataframe thead th {\n",
       "        text-align: right;\n",
       "    }\n",
       "</style>\n",
       "<table border=\"1\" class=\"dataframe\">\n",
       "  <thead>\n",
       "    <tr style=\"text-align: right;\">\n",
       "      <th></th>\n",
       "      <th>order_id</th>\n",
       "      <th>order_item_id</th>\n",
       "      <th>product_id</th>\n",
       "      <th>seller_id</th>\n",
       "      <th>shipping_limit_date</th>\n",
       "      <th>price</th>\n",
       "      <th>freight_value</th>\n",
       "      <th>product_category_name</th>\n",
       "      <th>product_name_lenght</th>\n",
       "      <th>product_description_lenght</th>\n",
       "      <th>product_photos_qty</th>\n",
       "      <th>product_weight_g</th>\n",
       "      <th>product_length_cm</th>\n",
       "      <th>product_height_cm</th>\n",
       "      <th>product_width_cm</th>\n",
       "      <th>product_category_name_english</th>\n",
       "    </tr>\n",
       "  </thead>\n",
       "  <tbody>\n",
       "    <tr>\n",
       "      <th>0</th>\n",
       "      <td>00010242fe8c5a6d1ba2dd792cb16214</td>\n",
       "      <td>1</td>\n",
       "      <td>4244733e06e7ecb4970a6e2683c13e61</td>\n",
       "      <td>48436dade18ac8b2bce089ec2a041202</td>\n",
       "      <td>2017-09-19 09:45:35</td>\n",
       "      <td>58.90</td>\n",
       "      <td>13.29</td>\n",
       "      <td>cool_stuff</td>\n",
       "      <td>58.0</td>\n",
       "      <td>598.0</td>\n",
       "      <td>4.0</td>\n",
       "      <td>650.0</td>\n",
       "      <td>28.0</td>\n",
       "      <td>9.0</td>\n",
       "      <td>14.0</td>\n",
       "      <td>cool_stuff</td>\n",
       "    </tr>\n",
       "    <tr>\n",
       "      <th>1</th>\n",
       "      <td>00018f77f2f0320c557190d7a144bdd3</td>\n",
       "      <td>1</td>\n",
       "      <td>e5f2d52b802189ee658865ca93d83a8f</td>\n",
       "      <td>dd7ddc04e1b6c2c614352b383efe2d36</td>\n",
       "      <td>2017-05-03 11:05:13</td>\n",
       "      <td>239.90</td>\n",
       "      <td>19.93</td>\n",
       "      <td>pet_shop</td>\n",
       "      <td>56.0</td>\n",
       "      <td>239.0</td>\n",
       "      <td>2.0</td>\n",
       "      <td>30000.0</td>\n",
       "      <td>50.0</td>\n",
       "      <td>30.0</td>\n",
       "      <td>40.0</td>\n",
       "      <td>pet_shop</td>\n",
       "    </tr>\n",
       "    <tr>\n",
       "      <th>2</th>\n",
       "      <td>000229ec398224ef6ca0657da4fc703e</td>\n",
       "      <td>1</td>\n",
       "      <td>c777355d18b72b67abbeef9df44fd0fd</td>\n",
       "      <td>5b51032eddd242adc84c38acab88f23d</td>\n",
       "      <td>2018-01-18 14:48:30</td>\n",
       "      <td>199.00</td>\n",
       "      <td>17.87</td>\n",
       "      <td>moveis_decoracao</td>\n",
       "      <td>59.0</td>\n",
       "      <td>695.0</td>\n",
       "      <td>2.0</td>\n",
       "      <td>3050.0</td>\n",
       "      <td>33.0</td>\n",
       "      <td>13.0</td>\n",
       "      <td>33.0</td>\n",
       "      <td>furniture_decor</td>\n",
       "    </tr>\n",
       "    <tr>\n",
       "      <th>3</th>\n",
       "      <td>00024acbcdf0a6daa1e931b038114c75</td>\n",
       "      <td>1</td>\n",
       "      <td>7634da152a4610f1595efa32f14722fc</td>\n",
       "      <td>9d7a1d34a5052409006425275ba1c2b4</td>\n",
       "      <td>2018-08-15 10:10:18</td>\n",
       "      <td>12.99</td>\n",
       "      <td>12.79</td>\n",
       "      <td>perfumaria</td>\n",
       "      <td>42.0</td>\n",
       "      <td>480.0</td>\n",
       "      <td>1.0</td>\n",
       "      <td>200.0</td>\n",
       "      <td>16.0</td>\n",
       "      <td>10.0</td>\n",
       "      <td>15.0</td>\n",
       "      <td>perfumery</td>\n",
       "    </tr>\n",
       "    <tr>\n",
       "      <th>4</th>\n",
       "      <td>00042b26cf59d7ce69dfabb4e55b4fd9</td>\n",
       "      <td>1</td>\n",
       "      <td>ac6c3623068f30de03045865e4e10089</td>\n",
       "      <td>df560393f3a51e74553ab94004ba5c87</td>\n",
       "      <td>2017-02-13 13:57:51</td>\n",
       "      <td>199.90</td>\n",
       "      <td>18.14</td>\n",
       "      <td>ferramentas_jardim</td>\n",
       "      <td>59.0</td>\n",
       "      <td>409.0</td>\n",
       "      <td>1.0</td>\n",
       "      <td>3750.0</td>\n",
       "      <td>35.0</td>\n",
       "      <td>40.0</td>\n",
       "      <td>30.0</td>\n",
       "      <td>garden_tools</td>\n",
       "    </tr>\n",
       "  </tbody>\n",
       "</table>\n",
       "</div>"
      ],
      "text/plain": [
       "                           order_id  order_item_id  \\\n",
       "0  00010242fe8c5a6d1ba2dd792cb16214              1   \n",
       "1  00018f77f2f0320c557190d7a144bdd3              1   \n",
       "2  000229ec398224ef6ca0657da4fc703e              1   \n",
       "3  00024acbcdf0a6daa1e931b038114c75              1   \n",
       "4  00042b26cf59d7ce69dfabb4e55b4fd9              1   \n",
       "\n",
       "                         product_id                         seller_id  \\\n",
       "0  4244733e06e7ecb4970a6e2683c13e61  48436dade18ac8b2bce089ec2a041202   \n",
       "1  e5f2d52b802189ee658865ca93d83a8f  dd7ddc04e1b6c2c614352b383efe2d36   \n",
       "2  c777355d18b72b67abbeef9df44fd0fd  5b51032eddd242adc84c38acab88f23d   \n",
       "3  7634da152a4610f1595efa32f14722fc  9d7a1d34a5052409006425275ba1c2b4   \n",
       "4  ac6c3623068f30de03045865e4e10089  df560393f3a51e74553ab94004ba5c87   \n",
       "\n",
       "  shipping_limit_date   price  freight_value product_category_name  \\\n",
       "0 2017-09-19 09:45:35   58.90          13.29            cool_stuff   \n",
       "1 2017-05-03 11:05:13  239.90          19.93              pet_shop   \n",
       "2 2018-01-18 14:48:30  199.00          17.87      moveis_decoracao   \n",
       "3 2018-08-15 10:10:18   12.99          12.79            perfumaria   \n",
       "4 2017-02-13 13:57:51  199.90          18.14    ferramentas_jardim   \n",
       "\n",
       "   product_name_lenght  product_description_lenght  product_photos_qty  \\\n",
       "0                 58.0                       598.0                 4.0   \n",
       "1                 56.0                       239.0                 2.0   \n",
       "2                 59.0                       695.0                 2.0   \n",
       "3                 42.0                       480.0                 1.0   \n",
       "4                 59.0                       409.0                 1.0   \n",
       "\n",
       "   product_weight_g  product_length_cm  product_height_cm  product_width_cm  \\\n",
       "0             650.0               28.0                9.0              14.0   \n",
       "1           30000.0               50.0               30.0              40.0   \n",
       "2            3050.0               33.0               13.0              33.0   \n",
       "3             200.0               16.0               10.0              15.0   \n",
       "4            3750.0               35.0               40.0              30.0   \n",
       "\n",
       "  product_category_name_english  \n",
       "0                    cool_stuff  \n",
       "1                      pet_shop  \n",
       "2               furniture_decor  \n",
       "3                     perfumery  \n",
       "4                  garden_tools  "
      ]
     },
     "execution_count": 172,
     "metadata": {},
     "output_type": "execute_result"
    }
   ],
   "source": [
    "orders_products_translation_df = pd.merge(\n",
    "    left= ordered_products_df,\n",
    "    right= product_english_translation_df,\n",
    "    how=\"left\",\n",
    "    left_on=\"product_id\",\n",
    "    right_on=\"product_id\"\n",
    ")\n",
    "orders_products_translation_df.head()"
   ]
  },
  {
   "cell_type": "code",
   "execution_count": 173,
   "metadata": {
    "id": "r3-k_FH-Haw2"
   },
   "outputs": [
    {
     "data": {
      "text/html": [
       "<div>\n",
       "<style scoped>\n",
       "    .dataframe tbody tr th:only-of-type {\n",
       "        vertical-align: middle;\n",
       "    }\n",
       "\n",
       "    .dataframe tbody tr th {\n",
       "        vertical-align: top;\n",
       "    }\n",
       "\n",
       "    .dataframe thead th {\n",
       "        text-align: right;\n",
       "    }\n",
       "</style>\n",
       "<table border=\"1\" class=\"dataframe\">\n",
       "  <thead>\n",
       "    <tr style=\"text-align: right;\">\n",
       "      <th></th>\n",
       "      <th>order_id</th>\n",
       "      <th>order_item_id</th>\n",
       "      <th>product_id</th>\n",
       "      <th>seller_id</th>\n",
       "      <th>shipping_limit_date</th>\n",
       "      <th>price</th>\n",
       "      <th>freight_value</th>\n",
       "      <th>product_category_name</th>\n",
       "      <th>product_name_lenght</th>\n",
       "      <th>product_description_lenght</th>\n",
       "      <th>product_photos_qty</th>\n",
       "      <th>product_weight_g</th>\n",
       "      <th>product_length_cm</th>\n",
       "      <th>product_height_cm</th>\n",
       "      <th>product_width_cm</th>\n",
       "      <th>product_category_name_english</th>\n",
       "    </tr>\n",
       "  </thead>\n",
       "  <tbody>\n",
       "    <tr>\n",
       "      <th>3556</th>\n",
       "      <td>0812eb902a67711a1cb742b3cdaa65ae</td>\n",
       "      <td>1</td>\n",
       "      <td>489ae2aa008f021502940f251d4cce7f</td>\n",
       "      <td>e3b4998c7a498169dc7bce44e6bb6277</td>\n",
       "      <td>2017-02-16 20:37:36</td>\n",
       "      <td>6735.00</td>\n",
       "      <td>194.31</td>\n",
       "      <td>utilidades_domesticas</td>\n",
       "      <td>31.0</td>\n",
       "      <td>875.0</td>\n",
       "      <td>2.0</td>\n",
       "      <td>30000.0</td>\n",
       "      <td>60.0</td>\n",
       "      <td>61.0</td>\n",
       "      <td>33.0</td>\n",
       "      <td>housewares</td>\n",
       "    </tr>\n",
       "    <tr>\n",
       "      <th>112233</th>\n",
       "      <td>fefacc66af859508bf1a7934eab1e97f</td>\n",
       "      <td>1</td>\n",
       "      <td>69c590f7ffc7bf8db97190b6cb6ed62e</td>\n",
       "      <td>80ceebb4ee9b31afb6c6a916a574a1e2</td>\n",
       "      <td>2018-08-02 04:05:13</td>\n",
       "      <td>6729.00</td>\n",
       "      <td>193.21</td>\n",
       "      <td>pcs</td>\n",
       "      <td>50.0</td>\n",
       "      <td>1935.0</td>\n",
       "      <td>4.0</td>\n",
       "      <td>5660.0</td>\n",
       "      <td>54.0</td>\n",
       "      <td>18.0</td>\n",
       "      <td>47.0</td>\n",
       "      <td>computers</td>\n",
       "    </tr>\n",
       "    <tr>\n",
       "      <th>107841</th>\n",
       "      <td>f5136e38d1a14a4dbd87dff67da82701</td>\n",
       "      <td>1</td>\n",
       "      <td>1bdf5e6731585cf01aa8169c7028d6ad</td>\n",
       "      <td>ee27a8f15b1dded4d213a468ba4eb391</td>\n",
       "      <td>2017-06-15 02:45:17</td>\n",
       "      <td>6499.00</td>\n",
       "      <td>227.66</td>\n",
       "      <td>artes</td>\n",
       "      <td>28.0</td>\n",
       "      <td>3954.0</td>\n",
       "      <td>2.0</td>\n",
       "      <td>7400.0</td>\n",
       "      <td>47.0</td>\n",
       "      <td>25.0</td>\n",
       "      <td>25.0</td>\n",
       "      <td>art</td>\n",
       "    </tr>\n",
       "    <tr>\n",
       "      <th>74336</th>\n",
       "      <td>a96610ab360d42a2e5335a3998b4718a</td>\n",
       "      <td>1</td>\n",
       "      <td>a6492cc69376c469ab6f61d8f44de961</td>\n",
       "      <td>59417c56835dd8e2e72f91f809cd4092</td>\n",
       "      <td>2017-04-18 13:25:18</td>\n",
       "      <td>4799.00</td>\n",
       "      <td>151.34</td>\n",
       "      <td>eletroportateis</td>\n",
       "      <td>41.0</td>\n",
       "      <td>1780.0</td>\n",
       "      <td>2.0</td>\n",
       "      <td>22600.0</td>\n",
       "      <td>55.0</td>\n",
       "      <td>40.0</td>\n",
       "      <td>40.0</td>\n",
       "      <td>small_appliances</td>\n",
       "    </tr>\n",
       "    <tr>\n",
       "      <th>11249</th>\n",
       "      <td>199af31afc78c699f0dbf71fb178d4d4</td>\n",
       "      <td>1</td>\n",
       "      <td>c3ed642d592594bb648ff4a04cee2747</td>\n",
       "      <td>59417c56835dd8e2e72f91f809cd4092</td>\n",
       "      <td>2017-05-09 15:50:15</td>\n",
       "      <td>4690.00</td>\n",
       "      <td>74.34</td>\n",
       "      <td>eletroportateis</td>\n",
       "      <td>59.0</td>\n",
       "      <td>2217.0</td>\n",
       "      <td>2.0</td>\n",
       "      <td>30000.0</td>\n",
       "      <td>50.0</td>\n",
       "      <td>49.0</td>\n",
       "      <td>50.0</td>\n",
       "      <td>small_appliances</td>\n",
       "    </tr>\n",
       "    <tr>\n",
       "      <th>...</th>\n",
       "      <td>...</td>\n",
       "      <td>...</td>\n",
       "      <td>...</td>\n",
       "      <td>...</td>\n",
       "      <td>...</td>\n",
       "      <td>...</td>\n",
       "      <td>...</td>\n",
       "      <td>...</td>\n",
       "      <td>...</td>\n",
       "      <td>...</td>\n",
       "      <td>...</td>\n",
       "      <td>...</td>\n",
       "      <td>...</td>\n",
       "      <td>...</td>\n",
       "      <td>...</td>\n",
       "      <td>...</td>\n",
       "    </tr>\n",
       "    <tr>\n",
       "      <th>57304</th>\n",
       "      <td>8272b63d03f5f79c56e9e4120aec44ef</td>\n",
       "      <td>8</td>\n",
       "      <td>05b515fdc76e888aada3c6d66c201dff</td>\n",
       "      <td>2709af9587499e95e803a6498a5a56e9</td>\n",
       "      <td>2017-07-21 18:25:23</td>\n",
       "      <td>1.20</td>\n",
       "      <td>7.89</td>\n",
       "      <td>beleza_saude</td>\n",
       "      <td>45.0</td>\n",
       "      <td>231.0</td>\n",
       "      <td>3.0</td>\n",
       "      <td>800.0</td>\n",
       "      <td>21.0</td>\n",
       "      <td>4.0</td>\n",
       "      <td>15.0</td>\n",
       "      <td>health_beauty</td>\n",
       "    </tr>\n",
       "    <tr>\n",
       "      <th>57300</th>\n",
       "      <td>8272b63d03f5f79c56e9e4120aec44ef</td>\n",
       "      <td>4</td>\n",
       "      <td>05b515fdc76e888aada3c6d66c201dff</td>\n",
       "      <td>2709af9587499e95e803a6498a5a56e9</td>\n",
       "      <td>2017-07-21 18:25:23</td>\n",
       "      <td>1.20</td>\n",
       "      <td>7.89</td>\n",
       "      <td>beleza_saude</td>\n",
       "      <td>45.0</td>\n",
       "      <td>231.0</td>\n",
       "      <td>3.0</td>\n",
       "      <td>800.0</td>\n",
       "      <td>21.0</td>\n",
       "      <td>4.0</td>\n",
       "      <td>15.0</td>\n",
       "      <td>health_beauty</td>\n",
       "    </tr>\n",
       "    <tr>\n",
       "      <th>48625</th>\n",
       "      <td>6e864b3f0ec71031117ad4cf46b7f2a1</td>\n",
       "      <td>1</td>\n",
       "      <td>8a3254bee785a526d548a81a9bc3c9be</td>\n",
       "      <td>96804ea39d96eb908e7c3afdb671bb9e</td>\n",
       "      <td>2018-05-02 20:30:34</td>\n",
       "      <td>0.85</td>\n",
       "      <td>18.23</td>\n",
       "      <td>construcao_ferramentas_construcao</td>\n",
       "      <td>25.0</td>\n",
       "      <td>1041.0</td>\n",
       "      <td>5.0</td>\n",
       "      <td>200.0</td>\n",
       "      <td>16.0</td>\n",
       "      <td>4.0</td>\n",
       "      <td>11.0</td>\n",
       "      <td>construction_tools_construction</td>\n",
       "    </tr>\n",
       "    <tr>\n",
       "      <th>27652</th>\n",
       "      <td>3ee6513ae7ea23bdfab5b9ab60bffcb5</td>\n",
       "      <td>1</td>\n",
       "      <td>8a3254bee785a526d548a81a9bc3c9be</td>\n",
       "      <td>96804ea39d96eb908e7c3afdb671bb9e</td>\n",
       "      <td>2018-05-04 03:55:26</td>\n",
       "      <td>0.85</td>\n",
       "      <td>18.23</td>\n",
       "      <td>construcao_ferramentas_construcao</td>\n",
       "      <td>25.0</td>\n",
       "      <td>1041.0</td>\n",
       "      <td>5.0</td>\n",
       "      <td>200.0</td>\n",
       "      <td>16.0</td>\n",
       "      <td>4.0</td>\n",
       "      <td>11.0</td>\n",
       "      <td>construction_tools_construction</td>\n",
       "    </tr>\n",
       "    <tr>\n",
       "      <th>87081</th>\n",
       "      <td>c5bdd8ef3c0ec420232e668302179113</td>\n",
       "      <td>2</td>\n",
       "      <td>8a3254bee785a526d548a81a9bc3c9be</td>\n",
       "      <td>96804ea39d96eb908e7c3afdb671bb9e</td>\n",
       "      <td>2018-05-07 02:55:22</td>\n",
       "      <td>0.85</td>\n",
       "      <td>22.30</td>\n",
       "      <td>construcao_ferramentas_construcao</td>\n",
       "      <td>25.0</td>\n",
       "      <td>1041.0</td>\n",
       "      <td>5.0</td>\n",
       "      <td>200.0</td>\n",
       "      <td>16.0</td>\n",
       "      <td>4.0</td>\n",
       "      <td>11.0</td>\n",
       "      <td>construction_tools_construction</td>\n",
       "    </tr>\n",
       "  </tbody>\n",
       "</table>\n",
       "<p>112650 rows × 16 columns</p>\n",
       "</div>"
      ],
      "text/plain": [
       "                                order_id  order_item_id  \\\n",
       "3556    0812eb902a67711a1cb742b3cdaa65ae              1   \n",
       "112233  fefacc66af859508bf1a7934eab1e97f              1   \n",
       "107841  f5136e38d1a14a4dbd87dff67da82701              1   \n",
       "74336   a96610ab360d42a2e5335a3998b4718a              1   \n",
       "11249   199af31afc78c699f0dbf71fb178d4d4              1   \n",
       "...                                  ...            ...   \n",
       "57304   8272b63d03f5f79c56e9e4120aec44ef              8   \n",
       "57300   8272b63d03f5f79c56e9e4120aec44ef              4   \n",
       "48625   6e864b3f0ec71031117ad4cf46b7f2a1              1   \n",
       "27652   3ee6513ae7ea23bdfab5b9ab60bffcb5              1   \n",
       "87081   c5bdd8ef3c0ec420232e668302179113              2   \n",
       "\n",
       "                              product_id                         seller_id  \\\n",
       "3556    489ae2aa008f021502940f251d4cce7f  e3b4998c7a498169dc7bce44e6bb6277   \n",
       "112233  69c590f7ffc7bf8db97190b6cb6ed62e  80ceebb4ee9b31afb6c6a916a574a1e2   \n",
       "107841  1bdf5e6731585cf01aa8169c7028d6ad  ee27a8f15b1dded4d213a468ba4eb391   \n",
       "74336   a6492cc69376c469ab6f61d8f44de961  59417c56835dd8e2e72f91f809cd4092   \n",
       "11249   c3ed642d592594bb648ff4a04cee2747  59417c56835dd8e2e72f91f809cd4092   \n",
       "...                                  ...                               ...   \n",
       "57304   05b515fdc76e888aada3c6d66c201dff  2709af9587499e95e803a6498a5a56e9   \n",
       "57300   05b515fdc76e888aada3c6d66c201dff  2709af9587499e95e803a6498a5a56e9   \n",
       "48625   8a3254bee785a526d548a81a9bc3c9be  96804ea39d96eb908e7c3afdb671bb9e   \n",
       "27652   8a3254bee785a526d548a81a9bc3c9be  96804ea39d96eb908e7c3afdb671bb9e   \n",
       "87081   8a3254bee785a526d548a81a9bc3c9be  96804ea39d96eb908e7c3afdb671bb9e   \n",
       "\n",
       "       shipping_limit_date    price  freight_value  \\\n",
       "3556   2017-02-16 20:37:36  6735.00         194.31   \n",
       "112233 2018-08-02 04:05:13  6729.00         193.21   \n",
       "107841 2017-06-15 02:45:17  6499.00         227.66   \n",
       "74336  2017-04-18 13:25:18  4799.00         151.34   \n",
       "11249  2017-05-09 15:50:15  4690.00          74.34   \n",
       "...                    ...      ...            ...   \n",
       "57304  2017-07-21 18:25:23     1.20           7.89   \n",
       "57300  2017-07-21 18:25:23     1.20           7.89   \n",
       "48625  2018-05-02 20:30:34     0.85          18.23   \n",
       "27652  2018-05-04 03:55:26     0.85          18.23   \n",
       "87081  2018-05-07 02:55:22     0.85          22.30   \n",
       "\n",
       "                    product_category_name  product_name_lenght  \\\n",
       "3556                utilidades_domesticas                 31.0   \n",
       "112233                                pcs                 50.0   \n",
       "107841                              artes                 28.0   \n",
       "74336                     eletroportateis                 41.0   \n",
       "11249                     eletroportateis                 59.0   \n",
       "...                                   ...                  ...   \n",
       "57304                        beleza_saude                 45.0   \n",
       "57300                        beleza_saude                 45.0   \n",
       "48625   construcao_ferramentas_construcao                 25.0   \n",
       "27652   construcao_ferramentas_construcao                 25.0   \n",
       "87081   construcao_ferramentas_construcao                 25.0   \n",
       "\n",
       "        product_description_lenght  product_photos_qty  product_weight_g  \\\n",
       "3556                         875.0                 2.0           30000.0   \n",
       "112233                      1935.0                 4.0            5660.0   \n",
       "107841                      3954.0                 2.0            7400.0   \n",
       "74336                       1780.0                 2.0           22600.0   \n",
       "11249                       2217.0                 2.0           30000.0   \n",
       "...                            ...                 ...               ...   \n",
       "57304                        231.0                 3.0             800.0   \n",
       "57300                        231.0                 3.0             800.0   \n",
       "48625                       1041.0                 5.0             200.0   \n",
       "27652                       1041.0                 5.0             200.0   \n",
       "87081                       1041.0                 5.0             200.0   \n",
       "\n",
       "        product_length_cm  product_height_cm  product_width_cm  \\\n",
       "3556                 60.0               61.0              33.0   \n",
       "112233               54.0               18.0              47.0   \n",
       "107841               47.0               25.0              25.0   \n",
       "74336                55.0               40.0              40.0   \n",
       "11249                50.0               49.0              50.0   \n",
       "...                   ...                ...               ...   \n",
       "57304                21.0                4.0              15.0   \n",
       "57300                21.0                4.0              15.0   \n",
       "48625                16.0                4.0              11.0   \n",
       "27652                16.0                4.0              11.0   \n",
       "87081                16.0                4.0              11.0   \n",
       "\n",
       "          product_category_name_english  \n",
       "3556                         housewares  \n",
       "112233                        computers  \n",
       "107841                              art  \n",
       "74336                  small_appliances  \n",
       "11249                  small_appliances  \n",
       "...                                 ...  \n",
       "57304                     health_beauty  \n",
       "57300                     health_beauty  \n",
       "48625   construction_tools_construction  \n",
       "27652   construction_tools_construction  \n",
       "87081   construction_tools_construction  \n",
       "\n",
       "[112650 rows x 16 columns]"
      ]
     },
     "execution_count": 173,
     "metadata": {},
     "output_type": "execute_result"
    }
   ],
   "source": [
    "#Menampilkan data produk dengan harga dari yang tertinggi ke terendah\n",
    "orders_products_translation_df.sort_values(by=\"price\", ascending=False)"
   ]
  },
  {
   "cell_type": "code",
   "execution_count": 174,
   "metadata": {
    "id": "9j_3MMTJIdBd"
   },
   "outputs": [
    {
     "data": {
      "text/html": [
       "<div>\n",
       "<style scoped>\n",
       "    .dataframe tbody tr th:only-of-type {\n",
       "        vertical-align: middle;\n",
       "    }\n",
       "\n",
       "    .dataframe tbody tr th {\n",
       "        vertical-align: top;\n",
       "    }\n",
       "\n",
       "    .dataframe thead tr th {\n",
       "        text-align: left;\n",
       "    }\n",
       "\n",
       "    .dataframe thead tr:last-of-type th {\n",
       "        text-align: right;\n",
       "    }\n",
       "</style>\n",
       "<table border=\"1\" class=\"dataframe\">\n",
       "  <thead>\n",
       "    <tr>\n",
       "      <th></th>\n",
       "      <th>product_id</th>\n",
       "      <th colspan=\"2\" halign=\"left\">price</th>\n",
       "    </tr>\n",
       "    <tr>\n",
       "      <th></th>\n",
       "      <th>nunique</th>\n",
       "      <th>min</th>\n",
       "      <th>max</th>\n",
       "    </tr>\n",
       "    <tr>\n",
       "      <th>product_category_name_english</th>\n",
       "      <th></th>\n",
       "      <th></th>\n",
       "      <th></th>\n",
       "    </tr>\n",
       "  </thead>\n",
       "  <tbody>\n",
       "    <tr>\n",
       "      <th>agro_industry_and_commerce</th>\n",
       "      <td>74</td>\n",
       "      <td>12.99</td>\n",
       "      <td>2990.00</td>\n",
       "    </tr>\n",
       "    <tr>\n",
       "      <th>air_conditioning</th>\n",
       "      <td>124</td>\n",
       "      <td>10.90</td>\n",
       "      <td>1599.00</td>\n",
       "    </tr>\n",
       "    <tr>\n",
       "      <th>art</th>\n",
       "      <td>55</td>\n",
       "      <td>3.50</td>\n",
       "      <td>6499.00</td>\n",
       "    </tr>\n",
       "    <tr>\n",
       "      <th>arts_and_craftmanship</th>\n",
       "      <td>19</td>\n",
       "      <td>9.80</td>\n",
       "      <td>289.49</td>\n",
       "    </tr>\n",
       "    <tr>\n",
       "      <th>audio</th>\n",
       "      <td>58</td>\n",
       "      <td>14.90</td>\n",
       "      <td>598.99</td>\n",
       "    </tr>\n",
       "    <tr>\n",
       "      <th>...</th>\n",
       "      <td>...</td>\n",
       "      <td>...</td>\n",
       "      <td>...</td>\n",
       "    </tr>\n",
       "    <tr>\n",
       "      <th>stationery</th>\n",
       "      <td>849</td>\n",
       "      <td>2.29</td>\n",
       "      <td>1693.00</td>\n",
       "    </tr>\n",
       "    <tr>\n",
       "      <th>tablets_printing_image</th>\n",
       "      <td>9</td>\n",
       "      <td>14.90</td>\n",
       "      <td>889.99</td>\n",
       "    </tr>\n",
       "    <tr>\n",
       "      <th>telephony</th>\n",
       "      <td>1134</td>\n",
       "      <td>5.00</td>\n",
       "      <td>2428.00</td>\n",
       "    </tr>\n",
       "    <tr>\n",
       "      <th>toys</th>\n",
       "      <td>1411</td>\n",
       "      <td>4.90</td>\n",
       "      <td>1699.99</td>\n",
       "    </tr>\n",
       "    <tr>\n",
       "      <th>watches_gifts</th>\n",
       "      <td>1329</td>\n",
       "      <td>8.99</td>\n",
       "      <td>3999.90</td>\n",
       "    </tr>\n",
       "  </tbody>\n",
       "</table>\n",
       "<p>71 rows × 3 columns</p>\n",
       "</div>"
      ],
      "text/plain": [
       "                              product_id  price         \n",
       "                                 nunique    min      max\n",
       "product_category_name_english                           \n",
       "agro_industry_and_commerce            74  12.99  2990.00\n",
       "air_conditioning                     124  10.90  1599.00\n",
       "art                                   55   3.50  6499.00\n",
       "arts_and_craftmanship                 19   9.80   289.49\n",
       "audio                                 58  14.90   598.99\n",
       "...                                  ...    ...      ...\n",
       "stationery                           849   2.29  1693.00\n",
       "tablets_printing_image                 9  14.90   889.99\n",
       "telephony                           1134   5.00  2428.00\n",
       "toys                                1411   4.90  1699.99\n",
       "watches_gifts                       1329   8.99  3999.90\n",
       "\n",
       "[71 rows x 3 columns]"
      ]
     },
     "execution_count": 174,
     "metadata": {},
     "output_type": "execute_result"
    }
   ],
   "source": [
    "#Menampilkan ringkasan yang menunjukkan jumlah produk unik serta rentang harga (min & max) per kategori produk\n",
    "orders_products_translation_df.groupby(by=\"product_category_name_english\").agg({\n",
    "    \"product_id\": \"nunique\",\n",
    "    \"price\":  [\"min\", \"max\"]\n",
    "})"
   ]
  },
  {
   "cell_type": "markdown",
   "metadata": {
    "id": "Ae6OvdBDhkoN"
   },
   "source": [
    "**Insight:**\n",
    "\n",
    "- Product dengan harga tertinggi adalah produk berkategori housewares dengan harga 60 ribuam dolar, disusul kategori small appliances 2 kali berturut dengan harga 46-47 ribuan dolar."
   ]
  },
  {
   "cell_type": "markdown",
   "metadata": {
    "id": "MDf42Kuhhma_"
   },
   "source": [
    "#### Mengeksplorasi keseluruhan data pada dataframe all_df"
   ]
  },
  {
   "cell_type": "markdown",
   "metadata": {
    "id": "13UxpLPXM2SW"
   },
   "source": [
    "Menggabungkan atau Melakukan join untuk menggabungkan keseluruhan data dengan menggabungkan hasil join pada dataframe customer transaction (Hasil join customer, order, dan payments) dijoinkan dengan dataframe ordered product translation (Hasil join product, product translate, dan ordered product) menggunakan left join."
   ]
  },
  {
   "cell_type": "code",
   "execution_count": 175,
   "metadata": {
    "id": "t3fdmZDFJS1u"
   },
   "outputs": [
    {
     "data": {
      "text/html": [
       "<div>\n",
       "<style scoped>\n",
       "    .dataframe tbody tr th:only-of-type {\n",
       "        vertical-align: middle;\n",
       "    }\n",
       "\n",
       "    .dataframe tbody tr th {\n",
       "        vertical-align: top;\n",
       "    }\n",
       "\n",
       "    .dataframe thead th {\n",
       "        text-align: right;\n",
       "    }\n",
       "</style>\n",
       "<table border=\"1\" class=\"dataframe\">\n",
       "  <thead>\n",
       "    <tr style=\"text-align: right;\">\n",
       "      <th></th>\n",
       "      <th>order_id</th>\n",
       "      <th>customer_id</th>\n",
       "      <th>order_status</th>\n",
       "      <th>order_purchase_timestamp</th>\n",
       "      <th>order_approved_at</th>\n",
       "      <th>order_delivered_carrier_date</th>\n",
       "      <th>order_delivered_customer_date</th>\n",
       "      <th>order_estimated_delivery_date</th>\n",
       "      <th>order_completed_time (days)</th>\n",
       "      <th>delivery_time (days)</th>\n",
       "      <th>...</th>\n",
       "      <th>freight_value</th>\n",
       "      <th>product_category_name</th>\n",
       "      <th>product_name_lenght</th>\n",
       "      <th>product_description_lenght</th>\n",
       "      <th>product_photos_qty</th>\n",
       "      <th>product_weight_g</th>\n",
       "      <th>product_length_cm</th>\n",
       "      <th>product_height_cm</th>\n",
       "      <th>product_width_cm</th>\n",
       "      <th>product_category_name_english</th>\n",
       "    </tr>\n",
       "  </thead>\n",
       "  <tbody>\n",
       "    <tr>\n",
       "      <th>0</th>\n",
       "      <td>e481f51cbdc54678b7cc49136f2d6af7</td>\n",
       "      <td>9ef432eb6251297304e76186b10a928d</td>\n",
       "      <td>delivered</td>\n",
       "      <td>2017-10-02 10:56:33</td>\n",
       "      <td>2017-10-02 11:07:15</td>\n",
       "      <td>2017-10-04 19:55:00</td>\n",
       "      <td>2017-10-10 21:25:13</td>\n",
       "      <td>2017-10-18</td>\n",
       "      <td>8.0</td>\n",
       "      <td>6.0</td>\n",
       "      <td>...</td>\n",
       "      <td>8.72</td>\n",
       "      <td>utilidades_domesticas</td>\n",
       "      <td>40.0</td>\n",
       "      <td>268.0</td>\n",
       "      <td>4.0</td>\n",
       "      <td>500.0</td>\n",
       "      <td>19.0</td>\n",
       "      <td>8.0</td>\n",
       "      <td>13.0</td>\n",
       "      <td>housewares</td>\n",
       "    </tr>\n",
       "    <tr>\n",
       "      <th>1</th>\n",
       "      <td>e481f51cbdc54678b7cc49136f2d6af7</td>\n",
       "      <td>9ef432eb6251297304e76186b10a928d</td>\n",
       "      <td>delivered</td>\n",
       "      <td>2017-10-02 10:56:33</td>\n",
       "      <td>2017-10-02 11:07:15</td>\n",
       "      <td>2017-10-04 19:55:00</td>\n",
       "      <td>2017-10-10 21:25:13</td>\n",
       "      <td>2017-10-18</td>\n",
       "      <td>8.0</td>\n",
       "      <td>6.0</td>\n",
       "      <td>...</td>\n",
       "      <td>8.72</td>\n",
       "      <td>utilidades_domesticas</td>\n",
       "      <td>40.0</td>\n",
       "      <td>268.0</td>\n",
       "      <td>4.0</td>\n",
       "      <td>500.0</td>\n",
       "      <td>19.0</td>\n",
       "      <td>8.0</td>\n",
       "      <td>13.0</td>\n",
       "      <td>housewares</td>\n",
       "    </tr>\n",
       "    <tr>\n",
       "      <th>2</th>\n",
       "      <td>e481f51cbdc54678b7cc49136f2d6af7</td>\n",
       "      <td>9ef432eb6251297304e76186b10a928d</td>\n",
       "      <td>delivered</td>\n",
       "      <td>2017-10-02 10:56:33</td>\n",
       "      <td>2017-10-02 11:07:15</td>\n",
       "      <td>2017-10-04 19:55:00</td>\n",
       "      <td>2017-10-10 21:25:13</td>\n",
       "      <td>2017-10-18</td>\n",
       "      <td>8.0</td>\n",
       "      <td>6.0</td>\n",
       "      <td>...</td>\n",
       "      <td>8.72</td>\n",
       "      <td>utilidades_domesticas</td>\n",
       "      <td>40.0</td>\n",
       "      <td>268.0</td>\n",
       "      <td>4.0</td>\n",
       "      <td>500.0</td>\n",
       "      <td>19.0</td>\n",
       "      <td>8.0</td>\n",
       "      <td>13.0</td>\n",
       "      <td>housewares</td>\n",
       "    </tr>\n",
       "    <tr>\n",
       "      <th>3</th>\n",
       "      <td>53cdb2fc8bc7dce0b6741e2150273451</td>\n",
       "      <td>b0830fb4747a6c6d20dea0b8c802d7ef</td>\n",
       "      <td>delivered</td>\n",
       "      <td>2018-07-24 20:41:37</td>\n",
       "      <td>2018-07-26 03:24:27</td>\n",
       "      <td>2018-07-26 14:31:00</td>\n",
       "      <td>2018-08-07 15:27:45</td>\n",
       "      <td>2018-08-13</td>\n",
       "      <td>13.0</td>\n",
       "      <td>12.0</td>\n",
       "      <td>...</td>\n",
       "      <td>22.76</td>\n",
       "      <td>perfumaria</td>\n",
       "      <td>29.0</td>\n",
       "      <td>178.0</td>\n",
       "      <td>1.0</td>\n",
       "      <td>400.0</td>\n",
       "      <td>19.0</td>\n",
       "      <td>13.0</td>\n",
       "      <td>19.0</td>\n",
       "      <td>perfumery</td>\n",
       "    </tr>\n",
       "    <tr>\n",
       "      <th>4</th>\n",
       "      <td>47770eb9100c2d0c44946d9cf07ec65d</td>\n",
       "      <td>41ce2a54c0b03bf3443c3d931a367089</td>\n",
       "      <td>delivered</td>\n",
       "      <td>2018-08-08 08:38:49</td>\n",
       "      <td>2018-08-08 08:55:23</td>\n",
       "      <td>2018-08-08 13:50:00</td>\n",
       "      <td>2018-08-17 18:06:29</td>\n",
       "      <td>2018-09-04</td>\n",
       "      <td>9.0</td>\n",
       "      <td>9.0</td>\n",
       "      <td>...</td>\n",
       "      <td>19.22</td>\n",
       "      <td>automotivo</td>\n",
       "      <td>46.0</td>\n",
       "      <td>232.0</td>\n",
       "      <td>1.0</td>\n",
       "      <td>420.0</td>\n",
       "      <td>24.0</td>\n",
       "      <td>19.0</td>\n",
       "      <td>21.0</td>\n",
       "      <td>auto</td>\n",
       "    </tr>\n",
       "  </tbody>\n",
       "</table>\n",
       "<p>5 rows × 35 columns</p>\n",
       "</div>"
      ],
      "text/plain": [
       "                           order_id                       customer_id  \\\n",
       "0  e481f51cbdc54678b7cc49136f2d6af7  9ef432eb6251297304e76186b10a928d   \n",
       "1  e481f51cbdc54678b7cc49136f2d6af7  9ef432eb6251297304e76186b10a928d   \n",
       "2  e481f51cbdc54678b7cc49136f2d6af7  9ef432eb6251297304e76186b10a928d   \n",
       "3  53cdb2fc8bc7dce0b6741e2150273451  b0830fb4747a6c6d20dea0b8c802d7ef   \n",
       "4  47770eb9100c2d0c44946d9cf07ec65d  41ce2a54c0b03bf3443c3d931a367089   \n",
       "\n",
       "  order_status order_purchase_timestamp   order_approved_at  \\\n",
       "0    delivered      2017-10-02 10:56:33 2017-10-02 11:07:15   \n",
       "1    delivered      2017-10-02 10:56:33 2017-10-02 11:07:15   \n",
       "2    delivered      2017-10-02 10:56:33 2017-10-02 11:07:15   \n",
       "3    delivered      2018-07-24 20:41:37 2018-07-26 03:24:27   \n",
       "4    delivered      2018-08-08 08:38:49 2018-08-08 08:55:23   \n",
       "\n",
       "  order_delivered_carrier_date order_delivered_customer_date  \\\n",
       "0          2017-10-04 19:55:00           2017-10-10 21:25:13   \n",
       "1          2017-10-04 19:55:00           2017-10-10 21:25:13   \n",
       "2          2017-10-04 19:55:00           2017-10-10 21:25:13   \n",
       "3          2018-07-26 14:31:00           2018-08-07 15:27:45   \n",
       "4          2018-08-08 13:50:00           2018-08-17 18:06:29   \n",
       "\n",
       "  order_estimated_delivery_date  order_completed_time (days)  \\\n",
       "0                    2017-10-18                          8.0   \n",
       "1                    2017-10-18                          8.0   \n",
       "2                    2017-10-18                          8.0   \n",
       "3                    2018-08-13                         13.0   \n",
       "4                    2018-09-04                          9.0   \n",
       "\n",
       "   delivery_time (days)  ...  freight_value  product_category_name  \\\n",
       "0                   6.0  ...           8.72  utilidades_domesticas   \n",
       "1                   6.0  ...           8.72  utilidades_domesticas   \n",
       "2                   6.0  ...           8.72  utilidades_domesticas   \n",
       "3                  12.0  ...          22.76             perfumaria   \n",
       "4                   9.0  ...          19.22             automotivo   \n",
       "\n",
       "   product_name_lenght product_description_lenght product_photos_qty  \\\n",
       "0                 40.0                      268.0                4.0   \n",
       "1                 40.0                      268.0                4.0   \n",
       "2                 40.0                      268.0                4.0   \n",
       "3                 29.0                      178.0                1.0   \n",
       "4                 46.0                      232.0                1.0   \n",
       "\n",
       "  product_weight_g  product_length_cm product_height_cm  product_width_cm  \\\n",
       "0            500.0               19.0               8.0              13.0   \n",
       "1            500.0               19.0               8.0              13.0   \n",
       "2            500.0               19.0               8.0              13.0   \n",
       "3            400.0               19.0              13.0              19.0   \n",
       "4            420.0               24.0              19.0              21.0   \n",
       "\n",
       "   product_category_name_english  \n",
       "0                     housewares  \n",
       "1                     housewares  \n",
       "2                     housewares  \n",
       "3                      perfumery  \n",
       "4                           auto  \n",
       "\n",
       "[5 rows x 35 columns]"
      ]
     },
     "execution_count": 175,
     "metadata": {},
     "output_type": "execute_result"
    }
   ],
   "source": [
    "all_df = pd.merge(\n",
    "    left=customers_transaction_df,\n",
    "    right=orders_products_translation_df,\n",
    "    how=\"left\",\n",
    "    left_on=\"order_id\",\n",
    "    right_on=\"order_id\"\n",
    ")\n",
    "all_df.head()"
   ]
  },
  {
   "cell_type": "code",
   "execution_count": 176,
   "metadata": {
    "id": "0YbZIrMVJjPM"
   },
   "outputs": [
    {
     "data": {
      "text/html": [
       "<div>\n",
       "<style scoped>\n",
       "    .dataframe tbody tr th:only-of-type {\n",
       "        vertical-align: middle;\n",
       "    }\n",
       "\n",
       "    .dataframe tbody tr th {\n",
       "        vertical-align: top;\n",
       "    }\n",
       "\n",
       "    .dataframe thead th {\n",
       "        text-align: right;\n",
       "    }\n",
       "</style>\n",
       "<table border=\"1\" class=\"dataframe\">\n",
       "  <thead>\n",
       "    <tr style=\"text-align: right;\">\n",
       "      <th></th>\n",
       "      <th></th>\n",
       "      <th>order_id</th>\n",
       "      <th>price</th>\n",
       "    </tr>\n",
       "    <tr>\n",
       "      <th>customer_state</th>\n",
       "      <th>product_category_name_english</th>\n",
       "      <th></th>\n",
       "      <th></th>\n",
       "    </tr>\n",
       "  </thead>\n",
       "  <tbody>\n",
       "    <tr>\n",
       "      <th rowspan=\"5\" valign=\"top\">AC</th>\n",
       "      <th>auto</th>\n",
       "      <td>4</td>\n",
       "      <td>606.97</td>\n",
       "    </tr>\n",
       "    <tr>\n",
       "      <th>baby</th>\n",
       "      <td>3</td>\n",
       "      <td>697.84</td>\n",
       "    </tr>\n",
       "    <tr>\n",
       "      <th>bed_bath_table</th>\n",
       "      <td>3</td>\n",
       "      <td>567.70</td>\n",
       "    </tr>\n",
       "    <tr>\n",
       "      <th>books_general_interest</th>\n",
       "      <td>2</td>\n",
       "      <td>633.80</td>\n",
       "    </tr>\n",
       "    <tr>\n",
       "      <th>christmas_supplies</th>\n",
       "      <td>1</td>\n",
       "      <td>69.90</td>\n",
       "    </tr>\n",
       "    <tr>\n",
       "      <th>...</th>\n",
       "      <th>...</th>\n",
       "      <td>...</td>\n",
       "      <td>...</td>\n",
       "    </tr>\n",
       "    <tr>\n",
       "      <th rowspan=\"5\" valign=\"top\">TO</th>\n",
       "      <th>sports_leisure</th>\n",
       "      <td>23</td>\n",
       "      <td>5533.32</td>\n",
       "    </tr>\n",
       "    <tr>\n",
       "      <th>stationery</th>\n",
       "      <td>3</td>\n",
       "      <td>276.80</td>\n",
       "    </tr>\n",
       "    <tr>\n",
       "      <th>telephony</th>\n",
       "      <td>20</td>\n",
       "      <td>1268.12</td>\n",
       "    </tr>\n",
       "    <tr>\n",
       "      <th>toys</th>\n",
       "      <td>12</td>\n",
       "      <td>1864.15</td>\n",
       "    </tr>\n",
       "    <tr>\n",
       "      <th>watches_gifts</th>\n",
       "      <td>26</td>\n",
       "      <td>4920.89</td>\n",
       "    </tr>\n",
       "  </tbody>\n",
       "</table>\n",
       "<p>1351 rows × 2 columns</p>\n",
       "</div>"
      ],
      "text/plain": [
       "                                              order_id    price\n",
       "customer_state product_category_name_english                   \n",
       "AC             auto                                  4   606.97\n",
       "               baby                                  3   697.84\n",
       "               bed_bath_table                        3   567.70\n",
       "               books_general_interest                2   633.80\n",
       "               christmas_supplies                    1    69.90\n",
       "...                                                ...      ...\n",
       "TO             sports_leisure                       23  5533.32\n",
       "               stationery                            3   276.80\n",
       "               telephony                            20  1268.12\n",
       "               toys                                 12  1864.15\n",
       "               watches_gifts                        26  4920.89\n",
       "\n",
       "[1351 rows x 2 columns]"
      ]
     },
     "execution_count": 176,
     "metadata": {},
     "output_type": "execute_result"
    }
   ],
   "source": [
    "all_df.groupby(by=[\"customer_state\", \"product_category_name_english\"]).agg({\n",
    "    \"order_id\": \"nunique\",  # Menghitung jumlah order unik\n",
    "    \"price\": \"sum\" # Total revenue\n",
    "})"
   ]
  },
  {
   "cell_type": "code",
   "execution_count": 177,
   "metadata": {
    "id": "xfF0ji2ZKLkF"
   },
   "outputs": [
    {
     "data": {
      "text/html": [
       "<div>\n",
       "<style scoped>\n",
       "    .dataframe tbody tr th:only-of-type {\n",
       "        vertical-align: middle;\n",
       "    }\n",
       "\n",
       "    .dataframe tbody tr th {\n",
       "        vertical-align: top;\n",
       "    }\n",
       "\n",
       "    .dataframe thead th {\n",
       "        text-align: right;\n",
       "    }\n",
       "</style>\n",
       "<table border=\"1\" class=\"dataframe\">\n",
       "  <thead>\n",
       "    <tr style=\"text-align: right;\">\n",
       "      <th></th>\n",
       "      <th></th>\n",
       "      <th>order_id</th>\n",
       "      <th>price</th>\n",
       "    </tr>\n",
       "    <tr>\n",
       "      <th>payment_type</th>\n",
       "      <th>product_category_name_english</th>\n",
       "      <th></th>\n",
       "      <th></th>\n",
       "    </tr>\n",
       "  </thead>\n",
       "  <tbody>\n",
       "    <tr>\n",
       "      <th rowspan=\"5\" valign=\"top\">boleto</th>\n",
       "      <th>agro_industry_and_commerce</th>\n",
       "      <td>49</td>\n",
       "      <td>20474.92</td>\n",
       "    </tr>\n",
       "    <tr>\n",
       "      <th>air_conditioning</th>\n",
       "      <td>54</td>\n",
       "      <td>10551.04</td>\n",
       "    </tr>\n",
       "    <tr>\n",
       "      <th>art</th>\n",
       "      <td>46</td>\n",
       "      <td>10650.53</td>\n",
       "    </tr>\n",
       "    <tr>\n",
       "      <th>arts_and_craftmanship</th>\n",
       "      <td>7</td>\n",
       "      <td>565.67</td>\n",
       "    </tr>\n",
       "    <tr>\n",
       "      <th>audio</th>\n",
       "      <td>78</td>\n",
       "      <td>7680.64</td>\n",
       "    </tr>\n",
       "    <tr>\n",
       "      <th>...</th>\n",
       "      <th>...</th>\n",
       "      <td>...</td>\n",
       "      <td>...</td>\n",
       "    </tr>\n",
       "    <tr>\n",
       "      <th rowspan=\"5\" valign=\"top\">voucher</th>\n",
       "      <th>stationery</th>\n",
       "      <td>83</td>\n",
       "      <td>9023.36</td>\n",
       "    </tr>\n",
       "    <tr>\n",
       "      <th>tablets_printing_image</th>\n",
       "      <td>3</td>\n",
       "      <td>311.90</td>\n",
       "    </tr>\n",
       "    <tr>\n",
       "      <th>telephony</th>\n",
       "      <td>154</td>\n",
       "      <td>15195.19</td>\n",
       "    </tr>\n",
       "    <tr>\n",
       "      <th>toys</th>\n",
       "      <td>133</td>\n",
       "      <td>16151.72</td>\n",
       "    </tr>\n",
       "    <tr>\n",
       "      <th>watches_gifts</th>\n",
       "      <td>187</td>\n",
       "      <td>46737.11</td>\n",
       "    </tr>\n",
       "  </tbody>\n",
       "</table>\n",
       "<p>263 rows × 2 columns</p>\n",
       "</div>"
      ],
      "text/plain": [
       "                                            order_id     price\n",
       "payment_type product_category_name_english                    \n",
       "boleto       agro_industry_and_commerce           49  20474.92\n",
       "             air_conditioning                     54  10551.04\n",
       "             art                                  46  10650.53\n",
       "             arts_and_craftmanship                 7    565.67\n",
       "             audio                                78   7680.64\n",
       "...                                              ...       ...\n",
       "voucher      stationery                           83   9023.36\n",
       "             tablets_printing_image                3    311.90\n",
       "             telephony                           154  15195.19\n",
       "             toys                                133  16151.72\n",
       "             watches_gifts                       187  46737.11\n",
       "\n",
       "[263 rows x 2 columns]"
      ]
     },
     "execution_count": 177,
     "metadata": {},
     "output_type": "execute_result"
    }
   ],
   "source": [
    "all_df.groupby([\"payment_type\", \"product_category_name_english\"]).agg({\n",
    "    \"order_id\": \"nunique\",  # Menghitung jumlah order unik\n",
    "    \"price\": \"sum\"  # Total revenue\n",
    "})"
   ]
  },
  {
   "cell_type": "code",
   "execution_count": 178,
   "metadata": {
    "id": "gR-NIa0GXeNu"
   },
   "outputs": [
    {
     "name": "stdout",
     "output_type": "stream",
     "text": [
      "product_id                        product_category_name_english\n",
      "99a4788cb24856965c36a24e339b6058  bed_bath_table                   456\n",
      "aca2eb7d00ea1a7b8ebd4e68314663af  furniture_decor                  425\n",
      "422879e10f46682990de24d770e7f83d  garden_tools                     352\n",
      "d1c427060a0f73f6b889a5c7c61f2ac4  computers_accessories            313\n",
      "389d119b48cf3043d311335e499d9c6b  garden_tools                     309\n",
      "53b36df67ebb7c41585e8d54d6772e08  watches_gifts                    304\n",
      "368c6c730842d78016ad823897a372db  garden_tools                     291\n",
      "53759a2ecddad2bb87a079a1f1519f73  garden_tools                     287\n",
      "154e7e31ebfa092203795c972e5804a6  health_beauty                    262\n",
      "2b4609f8948be18874494203496bc318  health_beauty                    254\n",
      "Name: order_id, dtype: int64\n"
     ]
    }
   ],
   "source": [
    "top_products = all_df.groupby([\"product_id\", \"product_category_name_english\"])[\"order_id\"] \\\n",
    "    .nunique().sort_values(ascending=False).head(10)\n",
    "\n",
    "print(top_products)"
   ]
  },
  {
   "cell_type": "code",
   "execution_count": 179,
   "metadata": {
    "id": "A34gDoeCaxtG"
   },
   "outputs": [
    {
     "name": "stdout",
     "output_type": "stream",
     "text": [
      "product_id                        product_category_name_english\n",
      "00066f42aeeb9f3007548bb9d3f33c38  perfumery                        1\n",
      "947a46e4f6dcc04e256398abf33e272e  stationery                       1\n",
      "947638090b86dc69c90b29261178a338  cool_stuff                       1\n",
      "9472a43e0457615f2742ac021d769197  fashion_male_clothing            1\n",
      "946d139bde35d0aaa51d5299b531a262  bed_bath_table                   1\n",
      "946b65d028c40dd63ca9d45fa3e4b65e  computers_accessories            1\n",
      "94656ce34a307d26e23011bb25148c9e  flowers                          1\n",
      "945f3073eeafb360bba960560cc63bcc  auto                             1\n",
      "945657481c47ca039e25c6b061eb9744  consoles_games                   1\n",
      "947d8cb9d15cf25fff1d6116e0c09730  furniture_decor                  1\n",
      "Name: order_id, dtype: int64\n"
     ]
    }
   ],
   "source": [
    "bottom_products = all_df.groupby([\"product_id\", \"product_category_name_english\"])[\"order_id\"] \\\n",
    "    .nunique().sort_values(ascending=True).head(10)\n",
    "\n",
    "print(bottom_products)"
   ]
  },
  {
   "cell_type": "code",
   "execution_count": 180,
   "metadata": {
    "id": "P6XRZwrobOpM"
   },
   "outputs": [
    {
     "name": "stdout",
     "output_type": "stream",
     "text": [
      "product_id                        product_category_name_english\n",
      "99a4788cb24856965c36a24e339b6058  bed_bath_table                   456\n",
      "aca2eb7d00ea1a7b8ebd4e68314663af  furniture_decor                  425\n",
      "422879e10f46682990de24d770e7f83d  garden_tools                     352\n",
      "d1c427060a0f73f6b889a5c7c61f2ac4  computers_accessories            313\n",
      "389d119b48cf3043d311335e499d9c6b  garden_tools                     309\n",
      "53b36df67ebb7c41585e8d54d6772e08  watches_gifts                    304\n",
      "368c6c730842d78016ad823897a372db  garden_tools                     291\n",
      "53759a2ecddad2bb87a079a1f1519f73  garden_tools                     287\n",
      "154e7e31ebfa092203795c972e5804a6  health_beauty                    262\n",
      "2b4609f8948be18874494203496bc318  health_beauty                    254\n",
      "Name: order_id, dtype: int64\n"
     ]
    }
   ],
   "source": [
    "top_category = all_df.groupby([\"product_id\", \"product_category_name_english\"])[\"order_id\"] \\\n",
    "    .nunique().sort_values(ascending=False).head(10)\n",
    "\n",
    "print(top_category)"
   ]
  },
  {
   "cell_type": "code",
   "execution_count": 181,
   "metadata": {
    "id": "BFO1avyYbYyH"
   },
   "outputs": [
    {
     "name": "stdout",
     "output_type": "stream",
     "text": [
      "product_category_name_english\n",
      "security_and_services         2\n",
      "fashion_childrens_clothes     7\n",
      "cds_dvds_musicals            12\n",
      "la_cuisine                   13\n",
      "arts_and_craftmanship        23\n",
      "home_comfort_2               24\n",
      "diapers_and_hygiene          25\n",
      "fashion_sport                26\n",
      "flowers                      29\n",
      "fashio_female_clothing       36\n",
      "Name: order_id, dtype: int64\n"
     ]
    }
   ],
   "source": [
    "bottom_category = all_df.groupby([\"product_category_name_english\"])[\"order_id\"] \\\n",
    "    .nunique().sort_values(ascending=True).head(10)\n",
    "\n",
    "print(bottom_category)"
   ]
  },
  {
   "cell_type": "code",
   "execution_count": 182,
   "metadata": {
    "id": "gqyGv7fpoGxB"
   },
   "outputs": [],
   "source": [
    "all_df.to_csv(\"all_data.csv\", index=False)"
   ]
  },
  {
   "cell_type": "markdown",
   "metadata": {
    "id": "nfBIAXeuicfs"
   },
   "source": [
    "**Insight:**\n",
    "\n",
    "- Setelah dilakukan eksplorasi untuk mencari produk dengan penjualan dan pendapatan tertinggi serta terendah, tidak dapat dilakukan analisis dan penjelasan lebih lanjut karena produk tidak memiliki nama, dan id nya juga berupa hex code sehingga kurang jelas. Mau diambil dengan format produk berkategori tertentu juga tidak bisa, karena kategori ini dimiliki oleh beberapa produk, tidak satu saja. Malah ada produk berkategori sama ada di top produk namun juga ada di bottom produk, ini tentu saja tidak relevan dan akan menimbulkan ambigu.\n",
    "- Maka dari itu, dari hasil eksplorasi ini yang bisa digunakan adalah kategori produk secara akumulatif atau keseluruhan yang dapat dilihat mana kategori terbanyak dan mana kategori paling sedikit."
   ]
  },
  {
   "cell_type": "markdown",
   "metadata": {
    "id": "zsyZjqak8DC2"
   },
   "source": [
    "## Visualization & Explanatory Analysis"
   ]
  },
  {
   "cell_type": "markdown",
   "metadata": {
    "id": "HZxOiQ6n8DC2"
   },
   "source": [
    "### Pertanyaan 1: Bagaimana Tren Penjualan dan Pendapatan Perusahaan E-Commerce ini?"
   ]
  },
  {
   "cell_type": "markdown",
   "metadata": {
    "id": "LXhn1Nlnhkuw"
   },
   "source": [
    "Tren Penjualan per Tahun (Yearly Orders)"
   ]
  },
  {
   "cell_type": "code",
   "execution_count": 183,
   "metadata": {
    "id": "1swJUdAD8DC2"
   },
   "outputs": [
    {
     "name": "stderr",
     "output_type": "stream",
     "text": [
      "C:\\Users\\HP\\AppData\\Local\\Temp\\ipykernel_32452\\2741716939.py:1: FutureWarning: 'Y' is deprecated and will be removed in a future version, please use 'YE' instead.\n",
      "  yearly_orders_df = all_df.resample(rule='Y', on='order_approved_at').agg({\n"
     ]
    },
    {
     "data": {
      "image/png": "[encoded data removed]",
      "text/plain": [
       "<Figure size 1000x500 with 1 Axes>"
      ]
     },
     "metadata": {},
     "output_type": "display_data"
    }
   ],
   "source": [
    "yearly_orders_df = all_df.resample(rule='Y', on='order_approved_at').agg({\n",
    "    \"order_id\": \"nunique\",\n",
    "    \"price\": \"sum\"\n",
    "})\n",
    "\n",
    "# Mengubah index ke format tahun (YYYY)\n",
    "yearly_orders_df.index = yearly_orders_df.index.strftime('%Y')\n",
    "\n",
    "# Reset index dan rename kolom\n",
    "yearly_orders_df = yearly_orders_df.reset_index()\n",
    "\n",
    "yearly_orders_df.rename(columns={\n",
    "    \"order_id\": \"order_count\",\n",
    "    \"price\": \"revenue\"\n",
    "}, inplace=True)\n",
    "\n",
    "# Visualisasi Order per Tahun\n",
    "plt.figure(figsize=(10, 5))\n",
    "plt.plot(yearly_orders_df[\"order_approved_at\"], yearly_orders_df[\"order_count\"], marker='o', linewidth=2, color=\"#72BCD4\", label=\"Order Count\")\n",
    "\n",
    "# Menambahkan label angka di atas titik-titik\n",
    "for i, txt in enumerate(yearly_orders_df[\"order_count\"]):\n",
    "    plt.text(yearly_orders_df[\"order_approved_at\"][i], yearly_orders_df[\"order_count\"][i], str(txt),\n",
    "             ha=\"center\", va=\"bottom\", fontsize=10, color=\"#72BCD4\")\n",
    "\n",
    "plt.title(\"Number of Orders per Year\", fontsize=16)\n",
    "plt.xlabel(\"Year\")\n",
    "plt.ylabel(\"Number of Orders\")\n",
    "plt.xticks(rotation=45)\n",
    "plt.grid(axis=\"y\", linestyle=\"--\", alpha=0.7)\n",
    "plt.show()"
   ]
  },
  {
   "cell_type": "markdown",
   "metadata": {
    "id": "p4Qd8C58jG-O"
   },
   "source": [
    "Tren Pendapatan per Tahun (Yearly Revenue)"
   ]
  },
  {
   "cell_type": "code",
   "execution_count": 184,
   "metadata": {
    "id": "x2CjWY9AjGUS"
   },
   "outputs": [
    {
     "data": {
      "image/png": "[encoded data removed]",
      "text/plain": [
       "<Figure size 1000x500 with 1 Axes>"
      ]
     },
     "metadata": {},
     "output_type": "display_data"
    }
   ],
   "source": [
    "# Visualisasi Revenue per Tahun\n",
    "plt.figure(figsize=(10, 5))\n",
    "plt.plot(yearly_orders_df[\"order_approved_at\"], yearly_orders_df[\"revenue\"], marker='s', linewidth=2, color=\"#FF5733\", label=\"Revenue\")\n",
    "\n",
    "# Menambahkan label angka di atas titik-titik\n",
    "for i, txt in enumerate(yearly_orders_df[\"revenue\"]):\n",
    "    plt.text(yearly_orders_df[\"order_approved_at\"][i], yearly_orders_df[\"revenue\"][i], f\"{txt:,.0f}\",\n",
    "             ha=\"center\", va=\"bottom\", fontsize=10, color=\"#FF5733\")\n",
    "\n",
    "plt.title(\"Revenue per Year\", fontsize=16)\n",
    "plt.xlabel(\"Year\")\n",
    "plt.ylabel(\"Revenue (USD$)\")\n",
    "plt.xticks(rotation=45)\n",
    "plt.grid(axis=\"y\", linestyle=\"--\", alpha=0.7)\n",
    "plt.show()"
   ]
  },
  {
   "cell_type": "markdown",
   "metadata": {
    "id": "U-JZT_HDm4gw"
   },
   "source": [
    "Tren Penjualan Bulanan Akumulasi 3 Tahun"
   ]
  },
  {
   "cell_type": "code",
   "execution_count": 185,
   "metadata": {
    "id": "ef3Hr7bXm-rO"
   },
   "outputs": [
    {
     "data": {
      "image/png": "[encoded data removed]",
      "text/plain": [
       "<Figure size 1000x500 with 1 Axes>"
      ]
     },
     "metadata": {},
     "output_type": "display_data"
    }
   ],
   "source": [
    "monthly_trend_df = all_df.groupby(all_df[\"order_approved_at\"].dt.month).agg({\n",
    "    \"order_id\": \"nunique\",\n",
    "    \"price\": \"sum\"\n",
    "}).reset_index()\n",
    "\n",
    "monthly_trend_df.rename(columns={\n",
    "    \"order_approved_at\": \"month\",\n",
    "    \"order_id\": \"order_count\",\n",
    "    \"price\": \"revenue\"\n",
    "}, inplace=True)\n",
    "\n",
    "month_labels = [\"Jan\", \"Feb\", \"Mar\", \"Apr\", \"May\", \"Jun\",\n",
    "                \"Jul\", \"Aug\", \"Sep\", \"Oct\", \"Nov\", \"Dec\"]\n",
    "\n",
    "#Visualisasi Data\n",
    "plt.figure(figsize=(10, 5))\n",
    "plt.plot(month_labels, monthly_trend_df[\"order_count\"],\n",
    "         marker='o', linestyle='-', color=\"blue\")\n",
    "plt.title(\"Monthly Order Trend (Accumulated 2016-2018)\", fontsize=14)\n",
    "plt.xlabel(\"Month\", fontsize=12)\n",
    "plt.ylabel(\"Number of Orders\", fontsize=12)\n",
    "plt.xticks(rotation=45)\n",
    "plt.grid(True)\n",
    "plt.show()"
   ]
  },
  {
   "cell_type": "markdown",
   "metadata": {
    "id": "nl3J1QyjnVr2"
   },
   "source": [
    "Tren Pendapatan Bulanan Akumulasi 3 Tahun"
   ]
  },
  {
   "cell_type": "code",
   "execution_count": 186,
   "metadata": {
    "id": "8XfKLTd8nYhu"
   },
   "outputs": [
    {
     "data": {
      "image/png": "[encoded data removed]",
      "text/plain": [
       "<Figure size 1000x500 with 1 Axes>"
      ]
     },
     "metadata": {},
     "output_type": "display_data"
    }
   ],
   "source": [
    "#Visualisasi Data Revenue\n",
    "plt.figure(figsize=(10, 5))\n",
    "plt.plot(month_labels, monthly_trend_df[\"revenue\"],\n",
    "         marker='s', linestyle='-', color=\"red\")\n",
    "plt.title(\"Monthly Revenue Trend (Accumulated 2016-2018)\", fontsize=14)\n",
    "plt.xlabel(\"Month\", fontsize=12)\n",
    "plt.ylabel(\"Total Revenue\", fontsize=12)\n",
    "plt.xticks(rotation=45)\n",
    "plt.grid(True)\n",
    "plt.show()"
   ]
  },
  {
   "cell_type": "markdown",
   "metadata": {
    "id": "_0-36BDLklRg"
   },
   "source": [
    "**Insight:**\n",
    "- Pada visualisasi tren penjualan (total order) selama 3 tahun beroperasi, E-commerce ini terus meningkat secara signifikan tiap tahunnya, dari tahun 2016 yang hanya sedikit pesanan sekitar 270 pesanan (mungkin karena data pesanan hanya ada di akhir tahun), lalu naik signifikan kurang lebih 160 kali lipat pada tahun 2017 menjadi 43 ribuan pesanan, dan tetap naik menjadi 53 ribuan pesanan atau sekitar 120% dari tahun 2017 ke tahun 2018.\n",
    "- Hal ini berbanding lurus dengan tren pendapatan dalam 3 tahun ini, tren pendapatan juga meningkat tiap tahunnya. Dari tahun 2016 yang hanya mendapat kurang lebih 29 ribu dollar naik 140 kali lipat menjadi 4,2 juta dollar di tahun 2017. Pendapatan tetap naik di tahun berikutnya yaitu 2018 menjadi 5,1 juta dolar atau sebesar 120% dari tahun sebelumnya.\n",
    "- Pada visualisasi tren penjualan bulanan akumulasi 3 tahun, dapat diketahui bahwa jumlah penjualan cenderung naik turun atau kurang stabil, dimana dari januari hingga agustus penjualan cenderung naik walaupun masih naik turun, dan mengalami penurunan signifikan di bulan september, lalu cenderung naik lagi hingga desember. Namun, dapat juga dilihat bahwa pada akhir tahun jumlah penjualan terlihat lebih sedikit dibandingkan dengan awal-pertengahan tahun. Penjualan tertinggi terjadi di bulan agustus, dan terendah di bulan september. Tentu ini menimbulkan pertanyaan lebih lanjut di selang waktu satu bulan, kok bisa menurut sedrastis itu.\n",
    "- Hal ini cenderung sejalan atau berbanding lurus dengan tren pendapatan bulanan akumulasi 3 tahun, dari awal hingga pertengahan tahun yaitu bulan agustus cenderung meningkat dan menurun di angka yang stabil, dan juga mengalami penurunan drastis (anjlok) di bulan september. Berbeda dengan jumlah penjualan bulanan yang memiliki peak (puncak) di bulan Agustus, puncak pendapatan tertinggi ada di bulan Mei.\n",
    "Sedangkan jumlah pendapatan terendah sama seperti jumlah penjualan yaitu pada bulan September. Pendapatan juga memiliki nilai yang cenderung rendah di akhir tahun dibandingkan dengan awal tahun."
   ]
  },
  {
   "cell_type": "markdown",
   "metadata": {
    "id": "DgHI7CiU8DC2"
   },
   "source": [
    "### Pertanyaan 2: Bagaimana segmentasi pelanggan yang ada di perusahaan E-Commerce ini?"
   ]
  },
  {
   "cell_type": "markdown",
   "metadata": {
    "id": "JYeE2nExoNtf"
   },
   "source": [
    "Segmentasi Pelanggan berdasarkan State"
   ]
  },
  {
   "cell_type": "code",
   "execution_count": 187,
   "metadata": {
    "colab": {
     "base_uri": "https://localhost:8080/",
     "height": 591
    },
    "id": "Go0lCsvO8DC2",
    "outputId": "dece7af8-fcc4-4061-b205-916695aaee60"
   },
   "outputs": [
    {
     "data": {
      "image/png": "[encoded data removed]",
      "text/plain": [
       "<Figure size 1200x600 with 1 Axes>"
      ]
     },
     "metadata": {},
     "output_type": "display_data"
    }
   ],
   "source": [
    "bystate_df = all_df.groupby(by=\"customer_state\").customer_id.nunique().reset_index()\n",
    "bystate_df.rename(columns={\"customer_id\": \"customer_count\"}, inplace=True)\n",
    "\n",
    "bystate_df = bystate_df.sort_values(by=\"customer_count\", ascending=False).head(10)\n",
    "\n",
    "highlight_color = \"#2A9D8F\"\n",
    "default_color = \"#D3D3D3\"\n",
    "colors = [highlight_color] + [default_color] * (len(bystate_df) - 1)\n",
    "\n",
    "# Visualisasi\n",
    "plt.figure(figsize=(12, 6))\n",
    "sns.barplot(\n",
    "    x=\"customer_count\",\n",
    "    y=\"customer_state\",\n",
    "    hue=\"customer_state\",\n",
    "    data=bystate_df,\n",
    "    palette=colors,\n",
    "    legend=False\n",
    ")\n",
    "\n",
    "for index, value in enumerate(bystate_df[\"customer_count\"]):\n",
    "    plt.text(value + 50, index, str(value), va=\"center\", fontsize=12, color=\"black\")\n",
    "\n",
    "plt.title(\"Top 10 States by Number of Customers\", fontsize=18, fontweight=\"bold\", pad=15)\n",
    "plt.xlabel(\"Number of Customers\", fontsize=14)\n",
    "plt.ylabel(\"State\", fontsize=14)\n",
    "plt.xticks(fontsize=12)\n",
    "plt.yticks(fontsize=12)\n",
    "plt.grid(axis=\"x\", linestyle=\"--\", alpha=0.5)\n",
    "plt.show()"
   ]
  },
  {
   "cell_type": "markdown",
   "metadata": {
    "id": "-D6LYlsvofvm"
   },
   "source": [
    "Segmentasi Pelanggan berdasarkan Kota (City)"
   ]
  },
  {
   "cell_type": "code",
   "execution_count": 188,
   "metadata": {
    "id": "hBOiDm_BopAM"
   },
   "outputs": [
    {
     "data": {
      "image/png": "[encoded data removed]",
      "text/plain": [
       "<Figure size 1200x600 with 1 Axes>"
      ]
     },
     "metadata": {},
     "output_type": "display_data"
    }
   ],
   "source": [
    "bycity_df = all_df.groupby(by=\"customer_city\").customer_id.nunique().reset_index()\n",
    "bycity_df.rename(columns={\"customer_id\": \"customer_count\"}, inplace=True)\n",
    "\n",
    "bycity_df = bycity_df.sort_values(by=\"customer_count\", ascending=False).head(10)\n",
    "\n",
    "\n",
    "highlight_color = \"#8E44AD\"\n",
    "default_color = \"#BEBEBE\"\n",
    "colors = [highlight_color] + [default_color] * (len(bycity_df) - 1)\n",
    "\n",
    "# Visualisasi\n",
    "plt.figure(figsize=(12, 6))\n",
    "sns.barplot(\n",
    "    x=\"customer_count\",\n",
    "    y=\"customer_city\",\n",
    "    hue=\"customer_city\",\n",
    "    data=bycity_df,\n",
    "    palette=colors,\n",
    "    legend=False\n",
    ")\n",
    "\n",
    "for index, value in enumerate(bycity_df[\"customer_count\"]):\n",
    "    plt.text(value + 50, index, str(value),\n",
    "             va=\"center\", fontsize=12, color=\"black\", fontweight=\"bold\",\n",
    "             bbox=dict(facecolor=\"white\", alpha=0.7, edgecolor=\"none\"))\n",
    "\n",
    "plt.title(\"Top 10 Cities by Number of Customers\", fontsize=18, fontweight=\"bold\", pad=15)\n",
    "plt.xlabel(\"Number of Customers\", fontsize=14)\n",
    "plt.ylabel(\"City\", fontsize=14)\n",
    "plt.xticks(fontsize=12)\n",
    "plt.yticks(fontsize=12)\n",
    "plt.grid(axis=\"x\", linestyle=\"--\", alpha=0.5)\n",
    "plt.show()"
   ]
  },
  {
   "cell_type": "markdown",
   "metadata": {
    "id": "Cpg_QuSZopsm"
   },
   "source": [
    "Segmentasi Pelanggan berdasarkan Metode Pembayaran"
   ]
  },
  {
   "cell_type": "code",
   "execution_count": 189,
   "metadata": {
    "id": "zgqNzis-pDbt"
   },
   "outputs": [
    {
     "data": {
      "image/png": "[encoded data removed]",
      "text/plain": [
       "<Figure size 700x700 with 1 Axes>"
      ]
     },
     "metadata": {},
     "output_type": "display_data"
    }
   ],
   "source": [
    "payment_counts_percentage = all_df[\"payment_type\"].value_counts(normalize=True) * 100\n",
    "labels = [label.replace(\"_\", \" \").title() for label in payment_counts_percentage.index]\n",
    "\n",
    "colors = [\"#72BCD4\", \"#FFC300\", \"#FF5733\", \"#C70039\"]\n",
    "\n",
    "#Visualisasi\n",
    "plt.figure(figsize=(7, 7))\n",
    "plt.pie(payment_counts_percentage, labels=labels, autopct='%1.1f%%',\n",
    "        colors=colors, startangle=140, wedgeprops={'edgecolor': 'black'})\n",
    "\n",
    "plt.title(\"Distribution of Payment Methods\", fontsize=14, fontweight=\"bold\")\n",
    "plt.show()"
   ]
  },
  {
   "cell_type": "markdown",
   "metadata": {
    "id": "ctVEkgtCNzAB"
   },
   "source": [
    "**Insight:**\n",
    "- Segmentasi pelanggan berdasarkan state, didominasi oleh state SP yang mencapai 40 ribu lebih total penjualan (order). Lalu disusul oleh state RJ dengan 12 ribu dan state MG dengan 11 ribuan penjualan. Dengan data ini, perusahaan dapat memfokuskan pengembangan strategi pemasaran, peningkatan layanan, serta optimalisasi logistik di state SP, yang memiliki kontribusi terbesar terhadap total penjualan.\n",
    "- Sementara pada visualisasi segmentasi pelanggan berdasarkan city(kota), kota terbanyak penjualannya adalah Sao Paulo dengan 15 ribu penjualan, lalu disusul oleh Rio de Janiero 6 ribuan penjualan dan Kota Belo Horizonte dengan 2,6 ribu penjualan. Saya rasa bahwa kota Sao Paulo ini berada di state SP, karena sama sama memiliki penjualan tertinggi.\n",
    "- Grafik segmentasi pelanggan berdasarkan metode pembayaran didominasi oleh Credit Card dengan 73.9% disusul oleh Boleto dengan 19.3%, lalu Voucher dengan 5.4% dan terakhir yaitu Debit Card dengan hanya 1.4%. Berdasarkan data ini, kita bisa mengetahui bahwa pelanggan E-Commerce ini sebagian besar menggunakan credit card sebagai metode pembayarannya, sehingga kita bisa menerapkan strategi perkembangan pada segmen ini, seperti menggandeng partner kartu kredit terpercaya dan banyak diminati atau dengan menawarkan promo pada pengguna dengan tipe pembayaran credit card ini agar lebih mendapatkan pengalaman pengguna yang lebih baik."
   ]
  },
  {
   "cell_type": "markdown",
   "metadata": {
    "id": "IpNbdHQ3IrBV"
   },
   "source": [
    "### Pertanyaan 3: Apa saja kategori produk yang paling diminati serta kategori produk yang jarang diminati pada E-Commerce ini?"
   ]
  },
  {
   "cell_type": "markdown",
   "metadata": {
    "id": "9SqX1YsiwyOH"
   },
   "source": [
    "Kategori Produk Paling Laris dan Kategori Produk Paling Jarang diminati"
   ]
  },
  {
   "cell_type": "code",
   "execution_count": 190,
   "metadata": {
    "colab": {
     "base_uri": "https://localhost:8080/",
     "height": 401
    },
    "id": "MybjjpgfxKIv",
    "outputId": "921b3f96-a07a-4818-8f91-0424b0016d9f"
   },
   "outputs": [
    {
     "data": {
      "image/png": "[encoded data removed]",
      "text/plain": [
       "<Figure size 2400x800 with 2 Axes>"
      ]
     },
     "metadata": {},
     "output_type": "display_data"
    }
   ],
   "source": [
    "category_counts = all_df[\"product_category_name_english\"].value_counts()\n",
    "\n",
    "top_categories = category_counts.head(8)\n",
    "bottom_categories = category_counts.tail(8).sort_values(ascending=True)  # Dibalik agar urutannya dari terkecil\n",
    "\n",
    "# Mengubah format label kategori agar lebih rapi\n",
    "top_categories.index = [label.replace(\"_\", \" \").title() for label in top_categories.index]\n",
    "bottom_categories.index = [label.replace(\"_\", \" \").title() for label in bottom_categories.index]\n",
    "\n",
    "\n",
    "top_colors = sns.color_palette(\"Blues_r\", len(top_categories))\n",
    "bottom_colors = sns.color_palette(\"Oranges\", len(bottom_categories))\n",
    "\n",
    "fig, ax = plt.subplots(nrows=1, ncols=2, figsize=(24, 8))\n",
    "\n",
    "# Best Performing Categories (Kategori Paling Laris)\n",
    "sns.barplot(\n",
    "    x=top_categories.values,\n",
    "    y=top_categories.index,\n",
    "    hue=top_categories.index,\n",
    "    palette=top_colors,\n",
    "    legend=False,\n",
    "    ax=ax[0]\n",
    ")\n",
    "ax[0].set_ylabel(None)\n",
    "ax[0].set_xlabel(\"Number of Orders\", fontsize=12)\n",
    "ax[0].set_title(\"Best Performing Product Categories\", loc=\"center\", fontsize=15, fontweight=\"bold\")\n",
    "ax[0].tick_params(axis='y', labelsize=12)\n",
    "\n",
    "for index, value in enumerate(top_categories.values):\n",
    "    ax[0].text(value + 5, index, str(value), va=\"center\", fontsize=12, color=\"black\")\n",
    "\n",
    "# Worst Performing Categories (Kategori Paling Tidak Diminati)\n",
    "sns.barplot(\n",
    "    x=bottom_categories.values,\n",
    "    y=bottom_categories.index,\n",
    "    hue=bottom_categories.index,\n",
    "    palette=bottom_colors,\n",
    "    legend=False,\n",
    "    ax=ax[1]\n",
    ")\n",
    "ax[1].invert_xaxis()\n",
    "ax[1].yaxis.set_label_position(\"right\")\n",
    "ax[1].yaxis.tick_right()\n",
    "\n",
    "ax[1].set_ylabel(None)\n",
    "ax[1].set_xlabel(\"Number of Orders\", fontsize=12)\n",
    "ax[1].set_title(\"Worst Performing Product Categories\", loc=\"center\", fontsize=15, fontweight=\"bold\")\n",
    "ax[1].tick_params(axis='y', labelsize=12)\n",
    "\n",
    "for index, value in enumerate(bottom_categories.values):\n",
    "    ax[1].text(value + 1, index, str(value), va=\"center\", fontsize=12, color=\"black\", ha=\"left\")\n",
    "\n",
    "plt.suptitle(\"Best and Worst Performing Product Categories by Number of Orders\", fontsize=20, fontweight=\"bold\", y=1.02)\n",
    "plt.show()"
   ]
  },
  {
   "cell_type": "markdown",
   "metadata": {
    "id": "afN-FmfoUu_c"
   },
   "source": [
    "**Insight:**\n",
    "- Kategori paling diminati adalah kategori Bed Bath Table dengan 7884 penjualan dan kategori paling jarang diminati adalah Security and Services dengan hanya 1 penjualan.\n",
    "- Produk-produk dalam kategori kesehatan, kecantikan, dan perlengkapan rumah tangga memiliki permintaan tinggi, sehingga perusahaan bisa fokus pada penambahan stok, penawaran promo, serta optimasi logistik untuk kategori ini. Sedangkan pada kategori yang kurang laku, perusahaan bisa mengevaluasi apa yang salah dan  meminimalisir  atau bahkan meniadakan persediaan kategori produk ini."
   ]
  },
  {
   "cell_type": "markdown",
   "metadata": {
    "id": "9y4VUsmcYNZ5"
   },
   "source": [
    "## Analisis Lanjutan (RFM Analysis)"
   ]
  },
  {
   "cell_type": "markdown",
   "metadata": {
    "id": "H4kzpepiWXD3"
   },
   "source": [
    "**Penjelasan RFM Analysis**\n",
    "\n",
    "RFM Analysis (Recency, Frequency, Monetary) adalah teknik analisis yang digunakan untuk melakukan segmentasi pelanggan berdasarkan tiga parameter utama, yaitu  \n",
    "\n",
    "*   Recency   : Kapan terakhir kali pelanggan melakukan transaksi\n",
    "*   Frequency : Seberapa sering pelanggan bertransaksi\n",
    "*   Monetary  : Seberapa besar pendapatan yang dihasilkan dari pelanggan tersebut\n",
    "\n",
    "Dengan menganalisis ketiga aspek ini, perusahaan dapat mengidentifikasi pelanggan dengan nilai valuasi yang tinggi, yaitu mereka yang sering melakukan transaksi, baru saja melakukan pembelian, dan berkontribusi besar terhadap pendapatan.\n",
    "\n",
    "Teknik ini membantu perusahaan memahami perilaku pelanggan, meningkatkan retensi dengan menawarkan program loyalitas yang lebih tepat sasaran, serta mengoptimalkan strategi pemasaran dan penjualan. Dengan membagi pelanggan ke dalam kategori yang lebih spesifik, seperti pelanggan setia, potensial, atau tidak aktif, bisnis dapat mengambil keputusan yang lebih efektif untuk meningkatkan engagement dan profitabilitas."
   ]
  },
  {
   "cell_type": "code",
   "execution_count": 191,
   "metadata": {
    "id": "iWhnzsJGYUCO"
   },
   "outputs": [
    {
     "data": {
      "text/html": [
       "<div>\n",
       "<style scoped>\n",
       "    .dataframe tbody tr th:only-of-type {\n",
       "        vertical-align: middle;\n",
       "    }\n",
       "\n",
       "    .dataframe tbody tr th {\n",
       "        vertical-align: top;\n",
       "    }\n",
       "\n",
       "    .dataframe thead th {\n",
       "        text-align: right;\n",
       "    }\n",
       "</style>\n",
       "<table border=\"1\" class=\"dataframe\">\n",
       "  <thead>\n",
       "    <tr style=\"text-align: right;\">\n",
       "      <th></th>\n",
       "      <th>customer_id</th>\n",
       "      <th>frequency</th>\n",
       "      <th>monetary</th>\n",
       "      <th>recency</th>\n",
       "      <th>customer_label</th>\n",
       "    </tr>\n",
       "  </thead>\n",
       "  <tbody>\n",
       "    <tr>\n",
       "      <th>0</th>\n",
       "      <td>00012a2ce6f8dcda20d059ce98491703</td>\n",
       "      <td>1</td>\n",
       "      <td>89.80</td>\n",
       "      <td>288</td>\n",
       "      <td>USER_001</td>\n",
       "    </tr>\n",
       "    <tr>\n",
       "      <th>1</th>\n",
       "      <td>000161a058600d5901f007fab4c27140</td>\n",
       "      <td>1</td>\n",
       "      <td>54.90</td>\n",
       "      <td>409</td>\n",
       "      <td>USER_002</td>\n",
       "    </tr>\n",
       "    <tr>\n",
       "      <th>2</th>\n",
       "      <td>0001fd6190edaaf884bcaf3d49edf079</td>\n",
       "      <td>1</td>\n",
       "      <td>179.99</td>\n",
       "      <td>547</td>\n",
       "      <td>USER_003</td>\n",
       "    </tr>\n",
       "    <tr>\n",
       "      <th>3</th>\n",
       "      <td>0002414f95344307404f0ace7a26f1d5</td>\n",
       "      <td>1</td>\n",
       "      <td>149.90</td>\n",
       "      <td>378</td>\n",
       "      <td>USER_004</td>\n",
       "    </tr>\n",
       "    <tr>\n",
       "      <th>4</th>\n",
       "      <td>000379cdec625522490c315e70c7a9fb</td>\n",
       "      <td>1</td>\n",
       "      <td>93.00</td>\n",
       "      <td>149</td>\n",
       "      <td>USER_005</td>\n",
       "    </tr>\n",
       "  </tbody>\n",
       "</table>\n",
       "</div>"
      ],
      "text/plain": [
       "                        customer_id  frequency  monetary  recency  \\\n",
       "0  00012a2ce6f8dcda20d059ce98491703          1     89.80      288   \n",
       "1  000161a058600d5901f007fab4c27140          1     54.90      409   \n",
       "2  0001fd6190edaaf884bcaf3d49edf079          1    179.99      547   \n",
       "3  0002414f95344307404f0ace7a26f1d5          1    149.90      378   \n",
       "4  000379cdec625522490c315e70c7a9fb          1     93.00      149   \n",
       "\n",
       "  customer_label  \n",
       "0       USER_001  \n",
       "1       USER_002  \n",
       "2       USER_003  \n",
       "3       USER_004  \n",
       "4       USER_005  "
      ]
     },
     "execution_count": 191,
     "metadata": {},
     "output_type": "execute_result"
    }
   ],
   "source": [
    "rfm_df = all_df.groupby(by=\"customer_id\", as_index=False).agg({\n",
    "    \"order_purchase_timestamp\": \"max\", # mengambil tanggal order terakhir\n",
    "    \"order_id\": \"nunique\", # menghitung jumlah order\n",
    "    \"price\": \"sum\" # menghitung jumlah revenue yang dihasilkan\n",
    "})\n",
    "rfm_df.columns = [\"customer_id\", \"max_order_timestamp\", \"frequency\", \"monetary\"]\n",
    "\n",
    "# menghitung kapan terakhir pelanggan melakukan transaksi (hari)\n",
    "rfm_df[\"max_order_timestamp\"] = rfm_df[\"max_order_timestamp\"].dt.date\n",
    "recent_date = orders_df[\"order_purchase_timestamp\"].dt.date.max()\n",
    "rfm_df[\"recency\"] = rfm_df[\"max_order_timestamp\"].apply(lambda x: (recent_date - x).days)\n",
    "\n",
    "rfm_df.drop(\"max_order_timestamp\", axis=1, inplace=True)\n",
    "rfm_df[\"customer_label\"] = [f\"USER_{i:03}\" for i in range(1, len(rfm_df) + 1)]\n",
    "rfm_df.head()"
   ]
  },
  {
   "cell_type": "code",
   "execution_count": 192,
   "metadata": {
    "id": "Ufh_q-hJ4xGA"
   },
   "outputs": [
    {
     "data": {
      "image/png": "[encoded data removed]",
      "text/plain": [
       "<Figure size 1800x500 with 3 Axes>"
      ]
     },
     "metadata": {},
     "output_type": "display_data"
    }
   ],
   "source": [
    "recency_colors = sns.color_palette(\"Blues_r\", 5)\n",
    "frequency_colors = sns.color_palette(\"Greens\", 5)\n",
    "monetary_colors = sns.color_palette(\"Oranges\", 5)\n",
    "\n",
    "fig, ax = plt.subplots(nrows=1, ncols=3, figsize=(18, 5))\n",
    "\n",
    "# Plot Recency\n",
    "sns.barplot(y=\"recency\", x=\"customer_label\", hue =\"customer_label\",\n",
    "            data=rfm_df.sort_values(by=\"recency\", ascending=True).head(5),\n",
    "            palette=recency_colors, ax=ax[0])\n",
    "ax[0].set_title(\"By Recency (days)\", fontsize=14)\n",
    "ax[0].tick_params(axis='x', rotation=45)\n",
    "\n",
    "# Plot Frequency\n",
    "sns.barplot(y=\"frequency\", x=\"customer_label\", hue =\"customer_label\",\n",
    "            data=rfm_df.sort_values(by=\"frequency\", ascending=False).head(5),\n",
    "            palette=frequency_colors, ax=ax[1])\n",
    "ax[1].set_title(\"By Frequency\", fontsize=14)\n",
    "ax[1].tick_params(axis='x', rotation=45)\n",
    "\n",
    "# Plot Monetary\n",
    "sns.barplot(y=\"monetary\", x=\"customer_label\", hue =\"customer_label\",\n",
    "            data=rfm_df.sort_values(by=\"monetary\", ascending=False).head(5),\n",
    "            palette=monetary_colors, ax=ax[2])\n",
    "ax[2].set_title(\"By Monetary\", fontsize=14)\n",
    "ax[2].tick_params(axis='x', rotation=45)\n",
    "\n",
    "plt.subplots_adjust(left=0.1, right=0.9, top=0.85, bottom=0.3)\n",
    "plt.tight_layout()\n",
    "plt.show()\n"
   ]
  },
  {
   "cell_type": "markdown",
   "metadata": {
    "id": "XhI051dtNzat"
   },
   "source": [
    "**Insight:**\n",
    "- Grafik berdasarkan *Recency* atau kapan terakhir pelanggan melakukan transaksi terlihat kosong. Setelah ditelusuri lebih lanjut ternyata memang pelanggan tersebut mengunjungi E-Commerce dan melakukan transaksi hanya sekali sehingga nilai Recency mereka menjadi nol. Hal ini menunjukkan bahwa pelanggan belum kembali untuk melakukan transaksi ulang setelah pembelian pertama, sehingga diperlukan strategi retensi seperti penawaran khusus, email pengingat, atau program loyalitas untuk mendorong repeat purchase.\n",
    "- Dalam visualisasi RFM Analysis by Frequency, terlihat seluruh pelanggan atau lima-lima nya memiliki frekuensi yang sama yaitu 1. Setelah ditelusuri ulang ternyata memang masing-masing pelanggan hanya order atau memesan rata-rata satu kali saja. Hal ini menunjukkan bahwa tingkat retensi pelanggan masih rendah, sehingga diperlukan strategi untuk mendorong pelanggan melakukan repeat order, seperti strategi pemasaran lebih lanjut.\n",
    "- Pelanggan USER_8292 memiliki total nilai transaksi tertinggi, disusul oleh USER_84045 dan USER_37454.Ini menunjukkan bahwa mereka adalah big spenders, sehingga strategi membership,cashback atau personalisasi penawaran bisa diterapkan untuk meningkatkan loyalitas mereka."
   ]
  },
  {
   "cell_type": "markdown",
   "metadata": {
    "id": "_WeHlCeX8DC2"
   },
   "source": [
    "## Conclusion"
   ]
  },
  {
   "cell_type": "markdown",
   "metadata": {
    "id": "ZTcyR48Y8DC2"
   },
   "source": [
    "- Conclution pertanyaan 1\n",
    "\n",
    "  Berdasarkan analisis tren penjualan dan pendapatan selama tiga tahun, E-Commerce ini menunjukkan pertumbuhan yang sangat pesat dari tahun ke tahun, dengan peningkatan signifikan pada tahun pertama ke tahun kedua. Peningkatan ini mencakup baik dalam jumlah pesanan maupun pendapatan. Namun, meskipun tren tahunan meningkat, terdapat fluktuasi dalam tren bulanan, di mana penjualan dan pendapatan cenderung naik dari awal hingga pertengahan tahun, tetapi mengalami penurunan drastis di bulan September. Puncak penjualan terjadi di bulan Agustus, sementara puncak pendapatan berada di bulan Mei, dengan kecenderungan penurunan di akhir tahun, dan penjualan bersamaan dengan pendapatan mencapai titik terendah di bulan September. Pola ini menunjukkan perlunya strategi untuk menjaga kestabilan penjualan dan pendapatan sepanjang tahun, misalnya dengan kampanye promosi yang lebih kuat di bulan-bulan dengan penurunan tajam serta analisis lebih lanjut terkait faktor penyebab fluktuasi ini.\n",
    "\n",
    "- Conclution pertanyaan 2\n",
    "\n",
    "  Segmentasi pelanggan di perusahaan E-Commerce ini menunjukkan bahwa berdasarkan state, penjualan didominasi oleh state SP dengan lebih dari 40 ribu pesanan, diikuti oleh state RJ dan MG dengan masing-masing 12 ribu dan 11 ribuan pesanan. Dari segi kota, Sao Paulo menjadi yang tertinggi dengan 15 ribu pesanan, disusul oleh Rio de Janeiro (6 ribu) dan Belo Horizonte (2,6 ribu), yang kemungkinan besar berada dalam state SP. Sementara itu, dari metode pembayaran, mayoritas pelanggan menggunakan Credit Card (73,9%), diikuti oleh Boleto (19,3%), Voucher (5,4%), dan Debit Card (1,4%). Dengan segmentasi ini, perusahaan dapat fokus pada optimalisasi strategi pemasaran dan logistik di wilayah dengan kontribusi tinggi serta meningkatkan kemitraan atau promo pada metode pembayaran yang paling diminati pelanggan.\n",
    "\n",
    "- Conclution pertanyaan 3\n",
    "\n",
    "  Berdasarkan analisis jumlah pesanan, kategori produk yang paling diminati pada E-Commerce ini adalah Bed Bath Table dengan 7.884 pesanan, diikuti oleh kategori Health Beauty, Furniture Decor, dan Sports Leisure, yang juga memiliki angka penjualan tinggi. Produk dalam kategori ini memiliki permintaan yang stabil dan tinggi, sehingga perusahaan dapat mempertimbangkan strategi seperti penambahan stok, promo khusus, serta optimasi logistik untuk meningkatkan kepuasan pelanggan. Sebaliknya, kategori produk yang jarang diminati adalah Security and Services, yang hanya memiliki 1 pesanan, serta Fashion Children's Clothes, La Cuisine, dan Cds Dvds Musicals, yang juga memiliki jumlah pesanan sangat rendah. Untuk kategori dengan permintaan rendah ini, perusahaan perlu mengevaluasi apakah produk tersebut masih relevan, apakah ada masalah dalam pemasaran, atau apakah sebaiknya persediaan produk dikurangi atau dihilangkan untuk efisiensi bisnis.\n",
    "\n",
    "- Conclution RFM Analysis\n",
    "\n",
    "  Berdasarkan hasil RFM Analysis, dapat disimpulkan bahwa mayoritas pelanggan hanya melakukan transaksi satu kali (Recency = 0 dan Frequency = 1), menunjukkan rendahnya tingkat retensi pelanggan. Hal ini mengindikasikan perlunya strategi retensi seperti program loyalitas, email pengingat, atau penawaran khusus untuk mendorong pembelian ulang. Dari sisi Monetary, terdapat beberapa pelanggan dengan nilai transaksi tinggi (big spenders), seperti USER_8292, USER_84045, dan USER_37454. Untuk meningkatkan loyalitas mereka, perusahaan dapat menerapkan strategi seperti program membership, cashback, atau penawaran yang dipersonalisasi. Secara keseluruhan, perusahaan perlu lebih fokus pada strategi peningkatan retensi dan frekuensi pembelian guna meningkatkan nilai pelanggan jangka panjang."
   ]
  }
 ],
 "metadata": {
  "colab": {
   "provenance": []
  },
  "kernelspec": {
   "display_name": "Python 3 (ipykernel)",
   "language": "python",
   "name": "python3"
  },
  "language_info": {
   "codemirror_mode": {
    "name": "ipython",
    "version": 3
   },
   "file_extension": ".py",
   "mimetype": "text/x-python",
   "name": "python",
   "nbconvert_exporter": "python",
   "pygments_lexer": "ipython3",
   "version": "3.12.3"
  },
  "vscode": {
   "interpreter": {
    "hash": "972b3bf27e332e87b5379f2791f6ef9dfc79c71018c370b0d7423235e20fe4d7"
   }
  }
 },
 "nbformat": 4,
 "nbformat_minor": 4
}
